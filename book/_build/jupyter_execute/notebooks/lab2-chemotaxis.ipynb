{
 "cells": [
  {
   "cell_type": "markdown",
   "metadata": {
    "id": "sHIeLwWce4tw"
   },
   "source": [
    "# Lab 2 - Simple Chemotaxis\n",
    "\n",
    "This lab is designed to get you familiar with the basics of chemotaxis like that performed by bacteria, specifically _e. coli_.  \n",
    "\n",
    "We will compare our random agent from Lab 1 (Rando) with a gradient searcher who operates akin to a simple bacteria agent. We'll call this agent Chemo.\n",
    "\n",
    "There are three goals here.\n",
    "\n",
    "1. Extrapolate on scent signals and gradients.\n",
    "2. Examine exploration for targets with a variable scent in an open field.\n",
    "3. Compare simple chemotaxis, with a Levy-walk structure, to Brownian motion."
   ]
  },
  {
   "cell_type": "markdown",
   "metadata": {
    "id": "KNr4qUoAfTlH"
   },
   "source": [
    "## Background\n",
    "\n",
    "In this lab we return to _taxic explorations_. We visit the sniff world (aka _ScentGrid_) and at what happens when sense signals are noisy.\n"
   ]
  },
  {
   "cell_type": "markdown",
   "metadata": {
    "id": "x42GmIbGxVWx"
   },
   "source": [
    "**Structured randomness and basic chemotaxis**\n",
    "\n",
    "In lab 1 we played with a random search agent that wandered using Brownian motion. Here we will introuce a new random agent that moves according to Levy walks.\n",
    "\n",
    "* A Levy walk is a continuing process of random movement where at each \"step\" of movement, a direction of and distance of movement is chosen randomly. The distance $\\delta_i$ of movement at each time step $i$ is sampled from the random distribution as follows: $\\delta_i = {u_i}^{-\\frac{1}{\\gamma}}$, where $u_i \\sim N(\\mu,\\sigma)$ and $\\gamma > 1$.\n",
    "\n",
    "Our _chemotaxis_ agent (_GradientDiffusionGrid_) tries to directly estimate the gradient of the scent $\\nabla S$  by comparing the level of scent at the last grid position it occupied to the current scent level ($s$). By last position here we mean the last position when it moved last.\n",
    "\n",
    "$$\\nabla S \\approx s_t - s_{t-1}$$\n",
    "\n",
    "Our chemotaxis agent thus behaves as follows:\n",
    "\n",
    "- When the gradient is positive, meaning you are going \"up\" the gradient, the probability of turning and sampling from a Levy walk power law (i.e., a jump) is set to _p pos_.\n",
    "- When the gradient is negative, the probability of a jump is set to _p neg_. (See code below, for an example).\n",
    "- If the agent \"decides\" to jump, the direction it takes is uniform random.\n",
    "- The length of travel now is just a single step on the grid. This makes our decision problem a lot simpler. Basically this is equivalent to making the diffusion parameter, $D$, consistent across experiments.\n"
   ]
  },
  {
   "cell_type": "markdown",
   "metadata": {
    "id": "9GbUZLcmhC87"
   },
   "source": [
    "## Section 0 - Setup"
   ]
  },
  {
   "cell_type": "markdown",
   "metadata": {
    "id": "eAVJYYdhhKSL"
   },
   "source": [
    "First let's set things up for the two parts of the lab. You've done this before, so we don't need to specify each installation and module step."
   ]
  },
  {
   "cell_type": "code",
   "execution_count": null,
   "metadata": {
    "id": "GaM7UFV6yKE1"
   },
   "outputs": [],
   "source": [
    "!pip install --upgrade git+https://github.com/coaxlab/explorationlib\n",
    "!pip install --upgrade git+https://github.com/MattChanTK/gym-maze.git"
   ]
  },
  {
   "cell_type": "code",
   "execution_count": null,
   "metadata": {
    "id": "zI0CIEceyQx4"
   },
   "outputs": [],
   "source": [
    "import shutil\n",
    "import glob\n",
    "import os\n",
    "\n",
    "import numpy as np\n",
    "import pandas as pd\n",
    "import seaborn as sns\n",
    "import matplotlib.pyplot as plt\n",
    "from copy import deepcopy\n",
    "\n",
    "import explorationlib\n",
    "from explorationlib.local_gym import ScentGrid\n",
    "\n",
    "from explorationlib.agent import DiffusionGrid\n",
    "from explorationlib.agent import GradientDiffusionGrid\n",
    "\n",
    "\n",
    "from explorationlib.run import experiment\n",
    "from explorationlib.util import select_exp\n",
    "from explorationlib.util import load\n",
    "from explorationlib.util import save\n",
    "\n",
    "from explorationlib.local_gym import uniform_targets\n",
    "from explorationlib.local_gym import constant_values\n",
    "from explorationlib.local_gym import ScentGrid\n",
    "from explorationlib.local_gym import create_grid_scent\n",
    "from explorationlib.local_gym import add_noise\n",
    "from explorationlib.local_gym import create_grid_scent_patches\n",
    "\n",
    "from explorationlib.plot import plot_position2d\n",
    "from explorationlib.plot import plot_length_hist\n",
    "from explorationlib.plot import plot_length\n",
    "from explorationlib.plot import plot_targets2d\n",
    "from explorationlib.plot import plot_scent_grid\n",
    "from explorationlib.plot import plot_targets2d\n",
    "\n",
    "from explorationlib.score import total_reward\n",
    "from explorationlib.score import num_death"
   ]
  },
  {
   "cell_type": "code",
   "execution_count": null,
   "metadata": {
    "id": "KQbjVvs6p1Zz"
   },
   "outputs": [],
   "source": [
    "# Pretty plots\n",
    "%matplotlib inline\n",
    "%config InlineBackend.figure_format='retina'\n",
    "%config IPCompleter.greedy=True\n",
    "plt.rcParams[\"axes.facecolor\"] = \"white\"\n",
    "plt.rcParams[\"figure.facecolor\"] = \"white\"\n",
    "plt.rcParams[\"font.size\"] = \"16\"\n",
    "\n",
    "# Dev\n",
    "%load_ext autoreload\n",
    "%autoreload 2"
   ]
  },
  {
   "cell_type": "markdown",
   "metadata": {
    "id": "sMxnPUlZzSN9"
   },
   "source": [
    "## Section 1 - Simulating noisy scents"
   ]
  },
  {
   "cell_type": "markdown",
   "metadata": {
    "id": "U5WQC2m1hnO0"
   },
   "source": [
    "To build some intuition, let's plot the \"scent\" emitted by a single target."
   ]
  },
  {
   "cell_type": "markdown",
   "metadata": {
    "id": "vJJ1HiR6h1Op"
   },
   "source": [
    "### Full Scent\n",
    "\n",
    "Okay, let's first visualize what the scent diffusion around each target looks like in the environment using the diffusion parameters we have set up."
   ]
  },
  {
   "cell_type": "code",
   "execution_count": null,
   "metadata": {
    "id": "0fHcLlNpylrM"
   },
   "outputs": [],
   "source": [
    "target_boundary = (10, 10)"
   ]
  },
  {
   "cell_type": "code",
   "execution_count": null,
   "metadata": {
    "id": "C-I19zVNymDT"
   },
   "outputs": [],
   "source": [
    "amplitude = 1\n",
    "\n",
    "coord, scent = create_grid_scent_patches(\n",
    "        target_boundary, p=1.0, amplitude=amplitude, sigma=2)\n",
    "\n",
    "plt.imshow(scent, interpolation=None)"
   ]
  },
  {
   "cell_type": "markdown",
   "metadata": {
    "id": "xeoYEn00zmqx"
   },
   "source": [
    "### Noisy Scent\n",
    "\n",
    "To corrupt the signal we can simply add more Gaussian noise. In this case we will use the *add_noise* function with a $\\sigma=1$."
   ]
  },
  {
   "cell_type": "code",
   "execution_count": null,
   "metadata": {
    "id": "e6R0SV4Jyr2a"
   },
   "outputs": [],
   "source": [
    "amplitude = 1\n",
    "noise_sigma = 1.0\n",
    "\n",
    "coord, scent = create_grid_scent_patches(target_boundary, p=1.0, amplitude=amplitude, sigma=2)\n",
    "scent = add_noise(scent, noise_sigma)\n",
    "\n",
    "plt.imshow(scent, interpolation=None)"
   ]
  },
  {
   "cell_type": "markdown",
   "metadata": {
    "id": "Zw1sOYGFilfl"
   },
   "source": [
    "Doesn't look resolvable does it? If you squint, maybe you can see it?\n",
    "\n",
    "In order to confirm that there is signal there, let's take a look at the average over 100 noisy targets."
   ]
  },
  {
   "cell_type": "code",
   "execution_count": null,
   "metadata": {
    "id": "zPYe-pb5p1Z1"
   },
   "outputs": [],
   "source": [
    "amplitude = 1\n",
    "noise_sigma = 1.0\n",
    "num_samples = 100\n",
    "\n",
    "scents = []\n",
    "for _ in range(num_samples):\n",
    "    coord, scent = create_grid_scent_patches(target_boundary, p=1.0, amplitude=1, sigma=2)\n",
    "    scent = add_noise(scent, noise_sigma)\n",
    "    scents.append(deepcopy(scent))\n",
    "\n",
    "scent = np.sum(scents, axis=0)\n",
    "\n",
    "plt.imshow(scent, interpolation=None)"
   ]
  },
  {
   "cell_type": "markdown",
   "metadata": {
    "id": "Zv0unH1ZkJxG"
   },
   "source": [
    "So, pretty noisy but resolvable."
   ]
  },
  {
   "cell_type": "markdown",
   "metadata": {
    "id": "bDeWuSfGkM8G"
   },
   "source": [
    "---\n",
    "### Question 1.1\n",
    "\n",
    "Adding noise and lowering detection probability both act to increase distortion to the signal channel that will be used by our agents. Will this help or hinder the agents that use sensory signals and/or information to drive their decisions? Explain your answer."
   ]
  },
  {
   "cell_type": "markdown",
   "metadata": {
    "id": "GqDUN_8vIVq1"
   },
   "source": [
    "__Answer:__\n",
    "\n",
    "_(insert response here)_"
   ]
  },
  {
   "cell_type": "markdown",
   "metadata": {
    "id": "Hri_qayrlN2C"
   },
   "source": [
    "---\n",
    "### Question 1.2\n",
    "\n",
    "Re-run the simulations above, playing with both of the *noise_sigma* term, ranging from 1 to 10. What are the values for each parameter that lead to a complete loss in the scent signal even when averaging across 1000 samples?"
   ]
  },
  {
   "cell_type": "markdown",
   "metadata": {
    "id": "riLI26GeIcsL"
   },
   "source": [
    "__Answer:__\n",
    "\n",
    "_(insert response here)_"
   ]
  },
  {
   "cell_type": "markdown",
   "metadata": {
    "id": "JnKyN9oM0GTm"
   },
   "source": [
    "## Section 2 - Using Basic Sensory Evidence To Explore"
   ]
  },
  {
   "cell_type": "markdown",
   "metadata": {
    "id": "IpB4JhugmNJE"
   },
   "source": [
    "\n",
    "In this section we take on the simplest form of sensory tracking: whether or not a chemical gradient is increasing or decreasing.\n",
    "\n",
    "We start by setting up our basic environment."
   ]
  },
  {
   "cell_type": "code",
   "execution_count": null,
   "metadata": {
    "id": "StauX74y0QjT"
   },
   "outputs": [],
   "source": [
    "# Noise scents\n",
    "noise_sigma = 2 # We'll make it pretty noisy\n",
    "\n",
    "# Shared\n",
    "num_experiments = 100\n",
    "num_steps = 500\n",
    "seed_value = 5838\n",
    "\n",
    "# ! (leave alone)\n",
    "min_length = 1\n",
    "num_targets = 50\n",
    "target_boundary = (40, 40)\n",
    "\n",
    "# Targets\n",
    "prng = np.random.RandomState(seed_value)\n",
    "targets = uniform_targets(num_targets, target_boundary, prng=prng)\n",
    "values = constant_values(targets, 1)\n",
    "\n",
    "# Scents\n",
    "scents = []\n",
    "for _ in range(len(targets)):\n",
    "    coord, scent = create_grid_scent_patches(\n",
    "        target_boundary, p=1.0, amplitude=1, sigma=2)\n",
    "    scents.append(scent)\n",
    "\n",
    "# Env\n",
    "env = ScentGrid(mode=None)\n",
    "env.seed(seed_value)\n",
    "env.add_scents(targets, values, coord, scents, noise_sigma=noise_sigma)"
   ]
  },
  {
   "cell_type": "markdown",
   "metadata": {
    "id": "ip-6AMyMmzjk"
   },
   "source": [
    "Again we are working a scent grid environment where each target emits noisy chemical signals (scents) according to our definitions above.\n",
    "\n",
    "We will want the environment to be relatively sparse, to make the task somewhat difficult. Thus we will only generate 25 targets in a big open field.\n",
    "\n",
    "Here's an example of our environment"
   ]
  },
  {
   "cell_type": "code",
   "execution_count": null,
   "metadata": {
    "id": "4xKn5Oog3HB8"
   },
   "outputs": [],
   "source": [
    "plot_boundary = target_boundary\n",
    "ax = None\n",
    "ax = plot_targets2d(\n",
    "    env,\n",
    "    boundary=plot_boundary,\n",
    "    color=\"black\",\n",
    "    alpha=1,\n",
    "    label=\"Targets\",\n",
    "    ax=ax,\n",
    ")"
   ]
  },
  {
   "cell_type": "markdown",
   "metadata": {
    "id": "4SRoMBksnAML"
   },
   "source": [
    "We will use 2 agents in these sims:\n",
    "\n",
    "- Rando: Uses random Brownian motion search.\n",
    "- Chemo: Uses only the detected scent gradient to make a decision as to whether or not to \"jump\".\n",
    "\n",
    "How do these agents work? Check the explorationlib code for details.\n",
    "\n",
    "* In the left panel on Colab, click on the file icon to access the file view for your Colab notebook.\n",
    "* Click the \"..\" file to go up one level (if necessary) and then navigate to `/usr/local/lib/python3.XX/dist-packages/explorationlib/agent.py` and double click the file (or just click the link in this bullet) to open up the library's code for defining exploration agents.\n",
    "* Find the _DiffusionGrid_ and _GradientDiffusionGrid_ functions to see how they are implemented."
   ]
  },
  {
   "cell_type": "code",
   "execution_count": null,
   "metadata": {
    "id": "hvKupKt10V5s"
   },
   "outputs": [],
   "source": [
    "# Agents\n",
    "\n",
    "# Random search agent\n",
    "diff = DiffusionGrid(min_length=min_length)\n",
    "diff.seed(seed_value)\n",
    "\n",
    "# Chemotaxis agent\n",
    "min_length = 1 # Minimum step length on the grid\n",
    "p_neg = 0.8 # Probability of jumping if gradient is decreasing\n",
    "p_pos = 0.2 # Probabilty of jumping if gradient is increasing\n",
    "chemo = GradientDiffusionGrid(\n",
    "    min_length=min_length,\n",
    "    p_neg=p_neg,\n",
    "    p_pos=p_pos,\n",
    ")\n",
    "chemo.seed(seed_value)\n"
   ]
  },
  {
   "cell_type": "markdown",
   "metadata": {
    "id": "awCEAAyGngBm"
   },
   "source": [
    "Now let's run the experiments."
   ]
  },
  {
   "cell_type": "code",
   "execution_count": null,
   "metadata": {
    "id": "rVTGtSPT0fN_"
   },
   "outputs": [],
   "source": [
    "# Experiments\n",
    "rand_exp = experiment(\n",
    "    f\"rand\",\n",
    "    diff,\n",
    "    env,\n",
    "    num_steps=num_steps,\n",
    "    num_experiments=num_experiments,\n",
    "    dump=False,\n",
    "    split_state=True,\n",
    "    seed=seed_value\n",
    ")\n",
    "chemo_exp = experiment(\n",
    "    f\"chemo\",\n",
    "    chemo,\n",
    "    env,\n",
    "    num_steps=num_steps,\n",
    "    num_experiments=num_experiments,\n",
    "    dump=False,\n",
    "    split_state=True,\n",
    "    seed=seed_value\n",
    ")"
   ]
  },
  {
   "cell_type": "markdown",
   "metadata": {
    "id": "aNn5xm5nno3t"
   },
   "source": [
    "Let's plot an example experiment. Here I'm choosing the second run for each agent."
   ]
  },
  {
   "cell_type": "code",
   "execution_count": null,
   "metadata": {
    "id": "-1x_tV4C0jMS"
   },
   "outputs": [],
   "source": [
    "plot_boundary = target_boundary\n",
    "\n",
    "# -\n",
    "num_experiment = 2\n",
    "ax = None\n",
    "ax = plot_position2d(\n",
    "    select_exp(rand_exp, num_experiment),\n",
    "    boundary=plot_boundary,\n",
    "    label=\"Rando\",\n",
    "    color=\"red\",\n",
    "    alpha=0.8,\n",
    "    ax=ax,\n",
    ")\n",
    "ax = plot_position2d(\n",
    "    select_exp(chemo_exp, num_experiment),\n",
    "    boundary=plot_boundary,\n",
    "    label=\"Chemo\",\n",
    "    color=\"blue\",\n",
    "    alpha=0.6,\n",
    "    ax=ax,\n",
    ")\n",
    "ax = plot_targets2d(\n",
    "    env,\n",
    "    boundary=plot_boundary,\n",
    "    color=\"black\",\n",
    "    alpha=1,\n",
    "    label=\"Targets\",\n",
    "    ax=ax,\n",
    ")"
   ]
  },
  {
   "cell_type": "markdown",
   "metadata": {
    "id": "Sw96O-9pnzTb"
   },
   "source": [
    "Hard to distinguish their individual behaviors, but our agents seem to be exploring. It looks like this Chemo agent may be moving more than the Rando counterpart. So let's look at the overall distance both agents cover.\n"
   ]
  },
  {
   "cell_type": "code",
   "execution_count": null,
   "metadata": {
    "id": "ICBnDBbep1Z7"
   },
   "outputs": [],
   "source": [
    "# Results\n",
    "results = [rand_exp, chemo_exp]\n",
    "names = [\"Rando\", \"Chemo\"]\n",
    "colors = [\"red\", \"blue\"]\n",
    "\n",
    "# Score by eff\n",
    "scores = []\n",
    "for name, res, color in zip(names, results, colors):\n",
    "    l = 0.0\n",
    "    for r in res:\n",
    "        l += np.sum(r[\"agent_num_step\"])\n",
    "    scores.append(l)\n",
    "\n",
    "# Tabulate\n",
    "m, sd = [], []\n",
    "for (name, s, c) in zip(names, scores, colors):\n",
    "    m.append(np.mean(s))\n",
    "    sd.append(np.std(s))\n",
    "\n",
    "# Plot means\n",
    "fig = plt.figure(figsize=(4, 3))\n",
    "plt.bar(names, m, yerr=sd, color=\"black\", alpha=0.6)\n",
    "plt.ylabel(\"Total run distance\")\n",
    "plt.tight_layout()\n",
    "sns.despine()"
   ]
  },
  {
   "cell_type": "markdown",
   "metadata": {
    "id": "JtpQUbsGsmsR"
   },
   "source": [
    "---\n",
    "### Question 2.1\n",
    "\n",
    "Why is the Chemo agent covering more distance than the random diffusion agent?"
   ]
  },
  {
   "cell_type": "markdown",
   "metadata": {
    "id": "pbZ7uQ0qIiA1"
   },
   "source": [
    "__Answer:__\n",
    "\n",
    "_(insert response here)_"
   ]
  },
  {
   "cell_type": "markdown",
   "metadata": {
    "id": "jKi3FEL-sx_a"
   },
   "source": [
    "Okay, now we can look at the overall performance of the two agents.\n",
    "\n",
    "First, let's look at the most extreme performance measure: deaths. If an agent does not reach _at least one_ food pellet, then it dies at the end of the simulation. You've got to eat to survive afterall. Out of our set of simulations, how many deaths occured with each agent?"
   ]
  },
  {
   "cell_type": "code",
   "execution_count": null,
   "metadata": {
    "id": "yPaHH65P2EP8"
   },
   "outputs": [],
   "source": [
    "# Results\n",
    "results = [rand_exp, chemo_exp]\n",
    "names = [\"Rando\", \"Chemo\"]\n",
    "colors = [\"red\", \"blue\"]\n",
    "\n",
    "# Score by eff\n",
    "scores = []\n",
    "for name, res, color in zip(names, results, colors):\n",
    "    scores.append(num_death(res))\n",
    "\n",
    "# Tabulate\n",
    "m, sd = [], []\n",
    "for (name, s, c) in zip(names, scores, colors):\n",
    "    m.append(np.mean(s))\n",
    "    sd.append(np.std(s))\n",
    "\n",
    "# Plot means\n",
    "fig = plt.figure(figsize=(4, 3))\n",
    "plt.bar(names, m, yerr=sd, color=\"black\", alpha=0.6)\n",
    "plt.ylabel(\"Deaths\")\n",
    "plt.tight_layout()\n",
    "sns.despine()"
   ]
  },
  {
   "cell_type": "code",
   "execution_count": null,
   "metadata": {
    "id": "7Kl9LjUL2IMK"
   },
   "outputs": [],
   "source": [
    "# Results\n",
    "results = [rand_exp, chemo_exp]\n",
    "names = [\"Rando\", \"Chemo\"]\n",
    "colors = [\"red\", \"blue\"]\n",
    "\n",
    "# Score by eff\n",
    "scores = []\n",
    "for name, res, color in zip(names, results, colors):\n",
    "    r = total_reward(res)\n",
    "    scores.append(r)\n",
    "\n",
    "# Tabulate\n",
    "m, sd = [], []\n",
    "for (name, s, c) in zip(names, scores, colors):\n",
    "    m.append(np.mean(s))\n",
    "    sd.append(np.std(s))\n",
    "\n",
    "# Plot means\n",
    "fig = plt.figure(figsize=(5, 4))\n",
    "plt.bar(names, m, yerr=sd, color=\"black\", alpha=0.6)\n",
    "plt.ylabel(\"Total reward\")\n",
    "plt.tight_layout()\n",
    "sns.despine()\n",
    "\n",
    "# Dists\n",
    "fig = plt.figure(figsize=(5, 4))\n",
    "for (name, s, c) in zip(names, scores, colors):\n",
    "    plt.hist(s, label=name, color=c, alpha=0.5, bins=np.linspace(0, np.max(scores), 50))\n",
    "    plt.legend()\n",
    "    plt.xlabel(\"Score\")\n",
    "    plt.tight_layout()\n",
    "    sns.despine()"
   ]
  },
  {
   "cell_type": "markdown",
   "metadata": {
    "id": "n1-KWIgnn_Rp"
   },
   "source": [
    "---\n",
    "### Question 2.2\n",
    "\n",
    "How do each of our agents perform across the performance measures we have chosen?"
   ]
  },
  {
   "cell_type": "markdown",
   "metadata": {
    "id": "_PbHIhYZIlyK"
   },
   "source": [
    "__Answer:__\n",
    "\n",
    "_(insert response here)_"
   ]
  },
  {
   "cell_type": "markdown",
   "metadata": {
    "id": "zaFBT_ICdBwF"
   },
   "source": [
    "---\n",
    "### Question 2.3\n",
    "\n",
    "What explains this difference in performance? Be specific."
   ]
  },
  {
   "cell_type": "markdown",
   "metadata": {
    "id": "E8Crsq0kIo9b"
   },
   "source": [
    "__Answer:__\n",
    "\n",
    "_(insert response here)_"
   ]
  },
  {
   "cell_type": "markdown",
   "metadata": {
    "id": "NH8VjYWkdvQV"
   },
   "source": [
    "---\n",
    "### Question 2.4\n",
    "\n",
    "Change the number of targets to 100 and re-run the simulations. How did the performance of the agents change as you increased the density of the food in the environment? Why does this happen? Be specific."
   ]
  },
  {
   "cell_type": "markdown",
   "metadata": {
    "id": "Q2MiK4A9IrFf"
   },
   "source": [
    "__Answer:__\n",
    "\n",
    "_(insert response here)_"
   ]
  },
  {
   "cell_type": "markdown",
   "metadata": {
    "id": "BkLiElhxI9cg"
   },
   "source": [
    "\n",
    "---\n",
    "**IMPORTANT** Did you collaborate with anyone on this assignment, or use LLMs like ChatGPT? If so, list their names here.\n",
    "> *Write Name(s) here*"
   ]
  }
 ],
 "metadata": {
  "colab": {
   "provenance": [],
   "toc_visible": true
  },
  "kernelspec": {
   "display_name": "Python 3 (ipykernel)",
   "language": "python",
   "name": "python3"
  },
  "language_info": {
   "codemirror_mode": {
    "name": "ipython",
    "version": 3
   },
   "file_extension": ".py",
   "mimetype": "text/x-python",
   "name": "python",
   "nbconvert_exporter": "python",
   "pygments_lexer": "ipython3",
   "version": "3.8.3"
  }
 },
 "nbformat": 4,
 "nbformat_minor": 0
}