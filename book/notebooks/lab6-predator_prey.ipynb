{
 "cells": [
  {
   "cell_type": "markdown",
   "metadata": {
    "id": "EFQQaFZcFDeR"
   },
   "source": [
    "# Lab 6 - Predator-prey dynamics\n",
    "\n",
    "In this assignment we study exploration for targets that can move. Prey, in other words. We also add uncertainty to their capture, with a probability of escape term, _p escape_. Think of this as a successful fleeing. \n",
    "\n",
    "Our exploration strategies are once again random. We have no scent or memory as an aide.\n",
    "\n",
    "The world is a grid world. \n",
    "\n",
    "The lab has two sections. \n",
    "\n",
    "- _First_ is a demo mostly. We will explore speed, scale, detection, predator number, and escape. Here we have one predator (our explorer) and one prey (our target), well mostly.\n",
    "- _Second_, is where things get more interesting. We'll change the venue. Make it bigger. Add more prey, and of different species. I'll then award you with 10 \"evolution points'' that you can spend by increasing the number of predators, their speed, their movement scale, or their vision.\n",
    "\n",
    "Our metrics are metrics of death. We use two, but our focus is on their difference. \n",
    "\n",
    "- _Predator deaths_: Any experimental trial which does not lead to finding at least a single target (aka reward or prey) means the exploring agent (predator) dies. It's a harsh noisy world we live in, after all. \n",
    "- _Prey deaths_: The number of prey deaths is the number of targets found, which is the same as the number of rewards observed. However unlike past exploration tasks, once a prey (target) has been found it is removed from the field, and stays dead for the rest of that experiment. When the experiment resets, for each _num experiment_, all the targets spring back to life and the predator(s) get another chance.\n",
    "- _Prey deaths - Predator deaths_: We'll call this last value, the difference between deaths, the _fitness score_. More positive values are better. More negative values are worse. \n",
    "\n",
    "## Install and import needed modules"
   ]
  },
  {
   "cell_type": "code",
   "execution_count": null,
   "metadata": {
    "colab": {
     "base_uri": "https://localhost:8080/"
    },
    "executionInfo": {
     "elapsed": 11188,
     "status": "ok",
     "timestamp": 1685725751874,
     "user": {
      "displayName": "Timothy Verstynen",
      "userId": "04724296371017749786"
     },
     "user_tz": 240
    },
    "id": "stPkOENHFDeS",
    "outputId": "2be4ef32-58ce-48c9-e8fa-10a9eaf79892"
   },
   "outputs": [],
   "source": [
    "# Install explorationlib?\n",
    "!pip install --upgrade git+https://github.com/CoAxLab/explorationlib\n",
    "!pip install --upgrade git+https://github.com/MattChanTK/gym-maze.git"
   ]
  },
  {
   "cell_type": "code",
   "execution_count": null,
   "metadata": {
    "executionInfo": {
     "elapsed": 2,
     "status": "ok",
     "timestamp": 1685725773254,
     "user": {
      "displayName": "Timothy Verstynen",
      "userId": "04724296371017749786"
     },
     "user_tz": 240
    },
    "id": "syt8ZbfKFDeT"
   },
   "outputs": [],
   "source": [
    "import shutil\n",
    "import glob\n",
    "import os\n",
    "\n",
    "import numpy as np\n",
    "import pandas as pd\n",
    "import seaborn as sns\n",
    "import matplotlib.pyplot as plt\n",
    "\n",
    "import explorationlib\n",
    "from explorationlib.agent import DiffusionGrid\n",
    "from explorationlib.agent import LevyGrid\n",
    "from explorationlib.agent import FreezeLevyGrid\n",
    "\n",
    "from explorationlib.local_gym import uniform_targets\n",
    "from explorationlib.local_gym import constant_values\n",
    "from explorationlib.local_gym import CompetitiveGrid\n",
    "\n",
    "from explorationlib.run import multi_experiment\n",
    "from explorationlib.util import select_exp\n",
    "from explorationlib.util import select_agent\n",
    "from explorationlib.util import load\n",
    "from explorationlib.util import save\n",
    "\n",
    "from explorationlib.plot import plot_position2d\n",
    "from explorationlib.plot import plot_positions2d\n",
    "from explorationlib.plot import plot_length_hist\n",
    "from explorationlib.plot import plot_length\n",
    "from explorationlib.plot import plot_targets2d\n",
    "from explorationlib.plot import show_gif\n",
    "\n",
    "from explorationlib import score\n",
    "from explorationlib.score import num_death\n",
    "# from explorationlib.score import average_reward\n",
    "from explorationlib.score import total_reward\n",
    "from explorationlib.score import first_reward"
   ]
  },
  {
   "cell_type": "code",
   "execution_count": null,
   "metadata": {
    "executionInfo": {
     "elapsed": 204,
     "status": "ok",
     "timestamp": 1685725779322,
     "user": {
      "displayName": "Timothy Verstynen",
      "userId": "04724296371017749786"
     },
     "user_tz": 240
    },
    "id": "kKaaupYpFDeT"
   },
   "outputs": [],
   "source": [
    "# Pretty plots\n",
    "%matplotlib inline\n",
    "%config InlineBackend.figure_format='retina'\n",
    "%config IPCompleter.greedy=True\n",
    "plt.rcParams[\"axes.facecolor\"] = \"white\"\n",
    "plt.rcParams[\"figure.facecolor\"] = \"white\"\n",
    "plt.rcParams[\"font.size\"] = \"16\"\n",
    "\n",
    "# Dev\n",
    "%load_ext autoreload\n",
    "%autoreload 2"
   ]
  },
  {
   "cell_type": "markdown",
   "metadata": {
    "id": "5n0dmNpsFDeU"
   },
   "source": [
    "## Section 1 - A lone, hungry coyote\n",
    "\n",
    "In this section we'll study one explorer (predator) and one target (prey) noisy, as a base case. Both will be diffusion models, to start with anyway. They will start with the same movement scale, detection radius and speed. From there we'll try some changes, to see what helps predators and _how much it helps._ We'll see what helps the prey, and _how much_."
   ]
  },
  {
   "cell_type": "markdown",
   "metadata": {
    "id": "8WMzVejdFDeU"
   },
   "source": [
    "### The base case"
   ]
  },
  {
   "cell_type": "code",
   "execution_count": null,
   "metadata": {
    "colab": {
     "base_uri": "https://localhost:8080/",
     "height": 245
    },
    "executionInfo": {
     "elapsed": 195,
     "status": "error",
     "timestamp": 1685725781086,
     "user": {
      "displayName": "Timothy Verstynen",
      "userId": "04724296371017749786"
     },
     "user_tz": 240
    },
    "id": "ijqGe2jUFDeU",
    "outputId": "ccb98a2d-24a0-445c-e7ed-6fa52ea276d1"
   },
   "outputs": [],
   "source": [
    "# Shared env params\n",
    "num_steps = 100\n",
    "num_experiments = 500\n",
    "seed_value = 559\n",
    "\n",
    "num_agents = 2\n",
    "num_targets = 1\n",
    "target_index = list(range(0, num_targets))\n",
    "\n",
    "detection_radius = 1\n",
    "p_target = 1\n",
    "p_escape = (1 - p_target)\n",
    "\n",
    "target_boundary = (10, 10)\n",
    "\n",
    "step_size = 1\n",
    "min_length = 1\n",
    "detection_radius =  1\n",
    "scale = 2\n",
    "\n",
    "# Create env \n",
    "prng = np.random.RandomState(seed_value)\n",
    "env = CompetitiveGrid(num_agents=num_agents)\n",
    "targets = uniform_targets(num_targets, target_boundary, prng=prng)\n",
    "values = constant_values(targets, 1.0)"
   ]
  },
  {
   "cell_type": "markdown",
   "metadata": {
    "id": "Eo40fIUWFDeV"
   },
   "source": [
    "#### Question 1.1\n",
    "\n",
    "We start with an equal match, scale, speed, number, on a small domain, with a detection radius that's about 10 percent of the domain. Make a guess. Will the fitness score be a positive number on average, or a negative one? Explain yourself.\n",
    "\n",
    "That is, does it even make sense to hunt alone when you don't have any advantage?"
   ]
  },
  {
   "cell_type": "code",
   "execution_count": null,
   "metadata": {
    "executionInfo": {
     "elapsed": 9,
     "status": "aborted",
     "timestamp": 1685725706323,
     "user": {
      "displayName": "Timothy Verstynen",
      "userId": "04724296371017749786"
     },
     "user_tz": 240
    },
    "id": "OAySSJcVFDeV"
   },
   "outputs": [],
   "source": [
    "# Write your answer here as comment. "
   ]
  },
  {
   "cell_type": "markdown",
   "metadata": {
    "id": "XXwiHlMxFDeV"
   },
   "source": [
    "Let's see if you were right"
   ]
  },
  {
   "cell_type": "code",
   "execution_count": null,
   "metadata": {
    "executionInfo": {
     "elapsed": 10,
     "status": "aborted",
     "timestamp": 1685725706324,
     "user": {
      "displayName": "Timothy Verstynen",
      "userId": "04724296371017749786"
     },
     "user_tz": 240
    },
    "id": "W5btEOsFFDeW"
   },
   "outputs": [],
   "source": [
    "model_codes = [0]\n",
    "results = []\n",
    "\n",
    "# Intial targets\n",
    "env.add_targets(\n",
    "    target_index, \n",
    "    targets, \n",
    "    values, \n",
    "    detection_radius=detection_radius, \n",
    "    p_target=p_target\n",
    ")\n",
    "\n",
    "# Preds\n",
    "pred = [\n",
    "    DiffusionGrid(\n",
    "        scale=scale, \n",
    "        min_length=min_length, \n",
    "        step_size=step_size\n",
    "    )\n",
    "]\n",
    "\n",
    "# Preys\n",
    "prey = [\n",
    "    DiffusionGrid(\n",
    "        scale=scale, \n",
    "        min_length=min_length, \n",
    "        step_size=step_size,\n",
    "    )\n",
    "] \n",
    "\n",
    "# All agents\n",
    "agents = prey + pred\n",
    "\n",
    "# !\n",
    "comp_exp = multi_experiment(\n",
    "    f\"base\",\n",
    "    agents, \n",
    "    env,\n",
    "    num_steps=num_steps,\n",
    "    num_experiments=num_experiments,\n",
    "    seed=seed_value,\n",
    "    split_state=False,\n",
    "    dump=False\n",
    ")\n",
    "\n",
    "# -\n",
    "results.append(comp_exp)"
   ]
  },
  {
   "cell_type": "code",
   "execution_count": null,
   "metadata": {
    "executionInfo": {
     "elapsed": 10,
     "status": "aborted",
     "timestamp": 1685725706324,
     "user": {
      "displayName": "Timothy Verstynen",
      "userId": "04724296371017749786"
     },
     "user_tz": 240
    },
    "id": "Ut8eaMCYFDeX"
   },
   "outputs": [],
   "source": [
    "print(f\"Prey index : {target_index}\")"
   ]
  },
  {
   "cell_type": "markdown",
   "metadata": {
    "id": "zP1RjzbpFDeX"
   },
   "source": [
    "### Examples\n",
    "Plot 5 example experiments of a predator search, prey evasion. Both are random walks."
   ]
  },
  {
   "cell_type": "code",
   "execution_count": null,
   "metadata": {
    "executionInfo": {
     "elapsed": 10,
     "status": "aborted",
     "timestamp": 1685725706324,
     "user": {
      "displayName": "Timothy Verstynen",
      "userId": "04724296371017749786"
     },
     "user_tz": 240
    },
    "id": "WzdGZz07FDeX"
   },
   "outputs": [],
   "source": [
    "plot_boundary = (20, 20)\n",
    "for n in range(5):\n",
    "    # Example bout\n",
    "    ax = None\n",
    "    ax = plot_positions2d(\n",
    "        select_exp(comp_exp, n),\n",
    "        num_agents,\n",
    "        boundary=plot_boundary,\n",
    "        labels=[f\"Prey{n}\" for n in target_index] + [\"Pred\"],\n",
    "        colors=None,\n",
    "        alpha=0.6,\n",
    "        figsize=(3, 3),\n",
    "    )\n",
    "    ax = plot_targets2d(\n",
    "        env,\n",
    "        boundary=plot_boundary,\n",
    "        color=\"black\",\n",
    "        alpha=1,\n",
    "        label=\"Intial target\",\n",
    "        title=n,\n",
    "        ax=ax,\n",
    "    )"
   ]
  },
  {
   "cell_type": "markdown",
   "metadata": {
    "id": "H2IM2QbpFDeX"
   },
   "source": [
    "### Analysis"
   ]
  },
  {
   "cell_type": "code",
   "execution_count": null,
   "metadata": {
    "executionInfo": {
     "elapsed": 10,
     "status": "aborted",
     "timestamp": 1685725706324,
     "user": {
      "displayName": "Timothy Verstynen",
      "userId": "04724296371017749786"
     },
     "user_tz": 240
    },
    "id": "E6-t40jLFDeX"
   },
   "outputs": [],
   "source": [
    "# Est. death\n",
    "pred_scores = []\n",
    "prey_scores = []\n",
    "for name, result in zip(model_codes, results):\n",
    "    pred_scores.append(num_death(result))   \n",
    "    prey_scores.append(np.sum(total_reward(result)))\n",
    "\n",
    "# Est. fitness\n",
    "fitness = np.asarray(prey_scores) - np.asarray(pred_scores)\n",
    "fitness = fitness.tolist()"
   ]
  },
  {
   "cell_type": "code",
   "execution_count": null,
   "metadata": {
    "executionInfo": {
     "elapsed": 10,
     "status": "aborted",
     "timestamp": 1685725706324,
     "user": {
      "displayName": "Timothy Verstynen",
      "userId": "04724296371017749786"
     },
     "user_tz": 240
    },
    "id": "5Cq7vOiHFDeY"
   },
   "outputs": [],
   "source": [
    "fig = plt.figure(figsize=(4, 6))\n",
    "plt.bar([str(n) for n in model_codes], pred_scores, color=\"black\", alpha=0.6)\n",
    "plt.ylabel(\"Pred death\")\n",
    "plt.xlabel(\"Model code\")\n",
    "plt.ylim(0, num_experiments)\n",
    "plt.tight_layout()\n",
    "sns.despine()\n",
    "\n",
    "fig = plt.figure(figsize=(4, 6))\n",
    "plt.bar([str(n) for n in model_codes], prey_scores, color=\"black\", alpha=0.6)\n",
    "plt.ylabel(\"Prey deaths\")\n",
    "plt.xlabel(\"Model code\")\n",
    "plt.ylim(0, num_experiments)\n",
    "plt.tight_layout()\n",
    "sns.despine()\n",
    "\n",
    "fig = plt.figure(figsize=(4, 6))\n",
    "plt.bar([str(n) for n in model_codes], fitness, color=\"black\", alpha=0.6)\n",
    "plt.ylabel(\"Fitness\")\n",
    "plt.xlabel(\"Model code\")\n",
    "plt.tight_layout()\n",
    "plt.ylim(-num_experiments, num_experiments)\n",
    "sns.despine()"
   ]
  },
  {
   "cell_type": "markdown",
   "metadata": {
    "id": "VMSa3XYGFDeY"
   },
   "source": [
    "#### Question 1.2\n",
    "\n",
    "Was you answer to Q 1.1 correct? Were you close? If you were wrong, or way off, please try an explain why. In what way did your intuition betray you? "
   ]
  },
  {
   "cell_type": "code",
   "execution_count": null,
   "metadata": {
    "executionInfo": {
     "elapsed": 11,
     "status": "aborted",
     "timestamp": 1685725706325,
     "user": {
      "displayName": "Timothy Verstynen",
      "userId": "04724296371017749786"
     },
     "user_tz": 240
    },
    "id": "j_Sxp_oPFDeY"
   },
   "outputs": [],
   "source": [
    "# Write your answer here as comment. Explain yourself"
   ]
  },
  {
   "cell_type": "markdown",
   "metadata": {
    "id": "042271DbFDeY"
   },
   "source": [
    "### Eagle eyes\n",
    "Here we will increase the detection radius up to five fold.\n",
    "\n",
    "#### Question 1.3\n",
    "\n",
    "Make a guess. Will linear increases in vision (aka detection radius) give our predator a linear improvement in fitness value, for this particular task and prey starting location?"
   ]
  },
  {
   "cell_type": "code",
   "execution_count": null,
   "metadata": {
    "executionInfo": {
     "elapsed": 10,
     "status": "aborted",
     "timestamp": 1685725706325,
     "user": {
      "displayName": "Timothy Verstynen",
      "userId": "04724296371017749786"
     },
     "user_tz": 240
    },
    "id": "5MHr-0BbFDeZ"
   },
   "outputs": [],
   "source": [
    "# Write your answer here as comment. Explain yourself."
   ]
  },
  {
   "cell_type": "markdown",
   "metadata": {},
   "source": [
    "Now, let's find out. We're going to increase detection radius in 5 steps."
   ]
  },
  {
   "cell_type": "code",
   "execution_count": null,
   "metadata": {
    "executionInfo": {
     "elapsed": 10,
     "status": "aborted",
     "timestamp": 1685725706325,
     "user": {
      "displayName": "Timothy Verstynen",
      "userId": "04724296371017749786"
     },
     "user_tz": 240
    },
    "id": "Qztje1s1FDeZ"
   },
   "outputs": [],
   "source": [
    "detection_radii = [1, 2, 3, 4, 5]\n",
    "model_codes = list(range(len(detection_radii)))\n",
    "\n",
    "# !\n",
    "results = []\n",
    "for name, x in zip(model_codes, detection_radii):\n",
    "    # Intial targets\n",
    "    env.add_targets(\n",
    "        target_index, \n",
    "        targets, \n",
    "        values, \n",
    "        detection_radius=x, \n",
    "        p_target=p_target\n",
    "    )\n",
    "\n",
    "    # Preds\n",
    "    pred = [\n",
    "        DiffusionGrid(\n",
    "            scale=scale, \n",
    "            min_length=min_length, \n",
    "            step_size=step_size\n",
    "        )\n",
    "    ]\n",
    "\n",
    "    # Preys\n",
    "    preys = [\n",
    "        DiffusionGrid(\n",
    "            scale=scale, \n",
    "            min_length=min_length, \n",
    "            step_size=step_size\n",
    "        )\n",
    "    ] \n",
    "\n",
    "    # All agents\n",
    "    agents = preys + pred\n",
    "\n",
    "    # !\n",
    "    comp_exp = multi_experiment(\n",
    "        f\"vision_{name}\",\n",
    "        agents, \n",
    "        env,\n",
    "        num_steps=num_steps,\n",
    "        num_experiments=num_experiments,\n",
    "        seed=seed_value,\n",
    "        split_state=False,\n",
    "        dump=False\n",
    "    )\n",
    "    results.append(comp_exp)"
   ]
  },
  {
   "cell_type": "code",
   "execution_count": null,
   "metadata": {
    "executionInfo": {
     "elapsed": 10,
     "status": "aborted",
     "timestamp": 1685725706325,
     "user": {
      "displayName": "Timothy Verstynen",
      "userId": "04724296371017749786"
     },
     "user_tz": 240
    },
    "id": "idvQcMpKFDeZ"
   },
   "outputs": [],
   "source": [
    "# Est. death\n",
    "pred_scores = []\n",
    "prey_scores = []\n",
    "for i, result in zip(model_codes, results):\n",
    "    pred_scores.append(num_death(result))   \n",
    "    prey_scores.append(np.sum(total_reward(result)))\n",
    "\n",
    "# Est. fitness\n",
    "fitness = np.asarray(prey_scores) - np.asarray(pred_scores)\n",
    "fitness = fitness.tolist()"
   ]
  },
  {
   "cell_type": "code",
   "execution_count": null,
   "metadata": {
    "executionInfo": {
     "elapsed": 10,
     "status": "aborted",
     "timestamp": 1685725706325,
     "user": {
      "displayName": "Timothy Verstynen",
      "userId": "04724296371017749786"
     },
     "user_tz": 240
    },
    "id": "w7AV6_4zFDeZ"
   },
   "outputs": [],
   "source": [
    "fig = plt.figure(figsize=(3, 3))\n",
    "plt.bar([str(n) for n in model_codes], pred_scores, color=\"black\", alpha=0.6)\n",
    "plt.ylabel(\"Pred death\")\n",
    "plt.xlabel(\"Vision radius\")\n",
    "plt.ylim(0, num_experiments)\n",
    "plt.tight_layout()\n",
    "sns.despine()\n",
    "\n",
    "fig = plt.figure(figsize=(3, 3))\n",
    "plt.bar([str(n) for n in model_codes], prey_scores, color=\"black\", alpha=0.6)\n",
    "plt.ylabel(\"Prey deaths\")\n",
    "plt.xlabel(\"Vision radius\")\n",
    "plt.ylim(0, num_experiments)\n",
    "plt.tight_layout()\n",
    "sns.despine()\n",
    "\n",
    "fig = plt.figure(figsize=(3, 3))\n",
    "plt.bar([str(n) for n in model_codes], fitness, color=\"black\", alpha=0.6)\n",
    "plt.ylabel(\"Fitness\")\n",
    "plt.xlabel(\"Vision radius\")\n",
    "plt.tight_layout()\n",
    "plt.ylim(-num_experiments, num_experiments)\n",
    "sns.despine()"
   ]
  },
  {
   "cell_type": "markdown",
   "metadata": {
    "id": "tsG3aHy1FDeZ"
   },
   "source": [
    "#### Question 1.5\n",
    "Was your answer to the last question correct? If it was not, hypothesize why that was."
   ]
  },
  {
   "cell_type": "code",
   "execution_count": null,
   "metadata": {
    "executionInfo": {
     "elapsed": 10,
     "status": "aborted",
     "timestamp": 1685725706325,
     "user": {
      "displayName": "Timothy Verstynen",
      "userId": "04724296371017749786"
     },
     "user_tz": 240
    },
    "id": "suP91tGRFDea"
   },
   "outputs": [],
   "source": [
    "# Write your answer here as comment. Explain yourself."
   ]
  },
  {
   "cell_type": "markdown",
   "metadata": {
    "id": "EPvOTQgSFDea"
   },
   "source": [
    "### The fast and the....\n",
    "Here we will increase the step size of the predator up to five fold. This is akin to increasing its speed relative to the target.\n",
    "\n",
    "#### Question 1.6\n",
    "\n",
    "Make a guess. Will linear increases in speed (aka step size) give our predator a linear improvement in fitness value, for this particular task and prey starting location?"
   ]
  },
  {
   "cell_type": "code",
   "execution_count": null,
   "metadata": {
    "executionInfo": {
     "elapsed": 11,
     "status": "aborted",
     "timestamp": 1685725706326,
     "user": {
      "displayName": "Timothy Verstynen",
      "userId": "04724296371017749786"
     },
     "user_tz": 240
    },
    "id": "Oryyeg8EFDea"
   },
   "outputs": [],
   "source": [
    "# Write your answer here as comment. Explain yourself."
   ]
  },
  {
   "cell_type": "markdown",
   "metadata": {},
   "source": [
    "Okay, now let's take a look."
   ]
  },
  {
   "cell_type": "code",
   "execution_count": null,
   "metadata": {
    "executionInfo": {
     "elapsed": 10,
     "status": "aborted",
     "timestamp": 1685725706326,
     "user": {
      "displayName": "Timothy Verstynen",
      "userId": "04724296371017749786"
     },
     "user_tz": 240
    },
    "id": "hhvAnDAhFDea"
   },
   "outputs": [],
   "source": [
    "target_step_sizes = [1, 2, 3, 4, 5]\n",
    "model_codes = list(range(len(target_step_sizes)))\n",
    "\n",
    "# !\n",
    "results = []\n",
    "for name, x in zip(model_codes, target_step_sizes):\n",
    "    # Intial targets\n",
    "    env.add_targets(\n",
    "        target_index, \n",
    "        targets, \n",
    "        values, \n",
    "        detection_radius=detection_radius, \n",
    "        p_target=p_target\n",
    "    )\n",
    "\n",
    "    # Preds\n",
    "    pred = [\n",
    "        DiffusionGrid(\n",
    "            scale=scale, \n",
    "            min_length=min_length, \n",
    "            step_size=x\n",
    "        )\n",
    "    ]\n",
    "\n",
    "    # Preys\n",
    "    preys = [\n",
    "        DiffusionGrid(\n",
    "            scale=scale, \n",
    "            min_length=min_length, \n",
    "            step_size=step_size\n",
    "        )\n",
    "    ] \n",
    "\n",
    "    # All agents\n",
    "    agents = preys + pred\n",
    "\n",
    "    # !\n",
    "    comp_exp = multi_experiment(\n",
    "        f\"speed_{name}\",\n",
    "        agents, \n",
    "        env,\n",
    "        num_steps=num_steps,\n",
    "        num_experiments=num_experiments,\n",
    "        seed=seed_value,\n",
    "        split_state=False,\n",
    "        dump=False\n",
    "    )\n",
    "    results.append(comp_exp)"
   ]
  },
  {
   "cell_type": "code",
   "execution_count": null,
   "metadata": {
    "executionInfo": {
     "elapsed": 10,
     "status": "aborted",
     "timestamp": 1685725706326,
     "user": {
      "displayName": "Timothy Verstynen",
      "userId": "04724296371017749786"
     },
     "user_tz": 240
    },
    "id": "rVSedq8rFDea"
   },
   "outputs": [],
   "source": [
    "# ---\n",
    "# Est. death\n",
    "pred_scores = []\n",
    "prey_scores = []\n",
    "for i, result in zip(model_codes, results):\n",
    "    pred_scores.append(num_death(result))   \n",
    "    prey_scores.append(np.sum(total_reward(result)))\n",
    "\n",
    "# Est. fitness\n",
    "fitness = np.asarray(prey_scores) - np.asarray(pred_scores)\n",
    "fitness = fitness.tolist()"
   ]
  },
  {
   "cell_type": "code",
   "execution_count": null,
   "metadata": {
    "executionInfo": {
     "elapsed": 10,
     "status": "aborted",
     "timestamp": 1685725706326,
     "user": {
      "displayName": "Timothy Verstynen",
      "userId": "04724296371017749786"
     },
     "user_tz": 240
    },
    "id": "h6bz27VeFDea"
   },
   "outputs": [],
   "source": [
    "fig = plt.figure(figsize=(3, 3))\n",
    "plt.bar([str(n) for n in model_codes], pred_scores, color=\"black\", alpha=0.6)\n",
    "plt.ylabel(\"Pred death\")\n",
    "plt.xlabel(\"Speed\")\n",
    "plt.ylim(0, num_experiments)\n",
    "plt.tight_layout()\n",
    "sns.despine()\n",
    "\n",
    "fig = plt.figure(figsize=(3, 3))\n",
    "plt.bar([str(n) for n in model_codes], prey_scores, color=\"black\", alpha=0.6)\n",
    "plt.ylabel(\"Prey deaths\")\n",
    "plt.xlabel(\"Speed\")\n",
    "plt.ylim(0, num_experiments)\n",
    "plt.tight_layout()\n",
    "sns.despine()\n",
    "\n",
    "fig = plt.figure(figsize=(3, 3))\n",
    "plt.bar([str(n) for n in model_codes], fitness, color=\"black\", alpha=0.6)\n",
    "plt.ylabel(\"Fitness\")\n",
    "plt.xlabel(\"Speed\")\n",
    "plt.tight_layout()\n",
    "plt.ylim(-num_experiments, num_experiments)\n",
    "sns.despine()"
   ]
  },
  {
   "cell_type": "markdown",
   "metadata": {
    "id": "HercJVGZFDea"
   },
   "source": [
    "#### Question 1.7\n",
    "Was your answer to the last question correct? If it was not, hypothesize why that was."
   ]
  },
  {
   "cell_type": "code",
   "execution_count": null,
   "metadata": {
    "executionInfo": {
     "elapsed": 10,
     "status": "aborted",
     "timestamp": 1685725706326,
     "user": {
      "displayName": "Timothy Verstynen",
      "userId": "04724296371017749786"
     },
     "user_tz": 240
    },
    "id": "RtYfdaXLFDea"
   },
   "outputs": [],
   "source": [
    "# Write your answer here as a comment. Explain yourself"
   ]
  },
  {
   "cell_type": "markdown",
   "metadata": {
    "id": "DqvfX7_xFDeb"
   },
   "source": [
    "### Range anxiety\n",
    "Here we will increase the range/scale of the predator up to five fold. This is akin to increasing how far it will travel in a fixed time interval.\n",
    "\n",
    "#### Question 1.8\n",
    "\n",
    "Make a guess. Will linear increases in exploration range (aka scale) give our predator a linear improvement in fitness value, for this particular task and prey starting location?"
   ]
  },
  {
   "cell_type": "code",
   "execution_count": null,
   "metadata": {
    "executionInfo": {
     "elapsed": 10,
     "status": "aborted",
     "timestamp": 1685725706326,
     "user": {
      "displayName": "Timothy Verstynen",
      "userId": "04724296371017749786"
     },
     "user_tz": 240
    },
    "id": "K0MkfZNDFDeb"
   },
   "outputs": [],
   "source": [
    "# Write your answer here as a comment. Explain yourself"
   ]
  },
  {
   "cell_type": "code",
   "execution_count": null,
   "metadata": {
    "executionInfo": {
     "elapsed": 10,
     "status": "aborted",
     "timestamp": 1685725706326,
     "user": {
      "displayName": "Timothy Verstynen",
      "userId": "04724296371017749786"
     },
     "user_tz": 240
    },
    "id": "5T32X2pJFDeb"
   },
   "outputs": [],
   "source": [
    "pred_scales = [1, 2, 3, 4, 5]\n",
    "model_codes = list(range(len(pred_scales)))\n",
    "\n",
    "# !\n",
    "results = []\n",
    "for name, x in zip(model_codes, pred_scales):\n",
    "    # Intial targets\n",
    "    env.add_targets(\n",
    "        target_index, \n",
    "        targets, \n",
    "        values, \n",
    "        detection_radius=detection_radius, \n",
    "        p_target=p_target\n",
    "    )\n",
    "\n",
    "    # Preds\n",
    "    pred = [\n",
    "        DiffusionGrid(\n",
    "            scale=x, \n",
    "            min_length=min_length, \n",
    "            step_size=step_size\n",
    "        )\n",
    "    ]\n",
    "\n",
    "    # Preys\n",
    "    preys = [\n",
    "        DiffusionGrid(\n",
    "            scale=scale, \n",
    "            min_length=min_length, \n",
    "            step_size=step_size\n",
    "        )\n",
    "    ] \n",
    "\n",
    "    # All agents\n",
    "    agents = preys + pred\n",
    "\n",
    "    # !\n",
    "    comp_exp = multi_experiment(\n",
    "        f\"scale_{name}\",\n",
    "        agents, \n",
    "        env,\n",
    "        num_steps=num_steps,\n",
    "        num_experiments=num_experiments,\n",
    "        seed=seed_value,\n",
    "        split_state=False,\n",
    "        dump=False\n",
    "    )\n",
    "    results.append(comp_exp)"
   ]
  },
  {
   "cell_type": "code",
   "execution_count": null,
   "metadata": {
    "executionInfo": {
     "elapsed": 9,
     "status": "aborted",
     "timestamp": 1685725706326,
     "user": {
      "displayName": "Timothy Verstynen",
      "userId": "04724296371017749786"
     },
     "user_tz": 240
    },
    "id": "Rtb13uxdFDeb"
   },
   "outputs": [],
   "source": [
    "# ---\n",
    "# Est. death\n",
    "pred_scores = []\n",
    "prey_scores = []\n",
    "for i, result in zip(model_codes, results):\n",
    "    pred_scores.append(num_death(result))   \n",
    "    prey_scores.append(np.sum(total_reward(result)))\n",
    "\n",
    "# Est. fitness\n",
    "fitness = np.asarray(prey_scores) - np.asarray(pred_scores)\n",
    "fitness = fitness.tolist()"
   ]
  },
  {
   "cell_type": "code",
   "execution_count": null,
   "metadata": {
    "executionInfo": {
     "elapsed": 9,
     "status": "aborted",
     "timestamp": 1685725706326,
     "user": {
      "displayName": "Timothy Verstynen",
      "userId": "04724296371017749786"
     },
     "user_tz": 240
    },
    "id": "Ik_s4vQZFDeb"
   },
   "outputs": [],
   "source": [
    "fig = plt.figure(figsize=(3, 3))\n",
    "plt.bar([str(n) for n in model_codes], pred_scores, color=\"black\", alpha=0.6)\n",
    "plt.ylabel(\"Pred death\")\n",
    "plt.xlabel(\"Range\")\n",
    "plt.ylim(0, num_experiments)\n",
    "plt.tight_layout()\n",
    "sns.despine()\n",
    "\n",
    "fig = plt.figure(figsize=(3, 3))\n",
    "plt.bar([str(n) for n in model_codes], prey_scores, color=\"black\", alpha=0.6)\n",
    "plt.ylabel(\"Prey deaths\")\n",
    "plt.xlabel(\"Range\")\n",
    "plt.ylim(0, num_experiments)\n",
    "plt.tight_layout()\n",
    "sns.despine()\n",
    "\n",
    "fig = plt.figure(figsize=(3, 3))\n",
    "plt.bar([str(n) for n in model_codes], fitness, color=\"black\", alpha=0.6)\n",
    "plt.ylabel(\"Fitness\")\n",
    "plt.xlabel(\"Range\")\n",
    "plt.tight_layout()\n",
    "plt.ylim(-num_experiments, num_experiments)\n",
    "sns.despine()"
   ]
  },
  {
   "cell_type": "markdown",
   "metadata": {
    "id": "UNAPCbC5FDeb"
   },
   "source": [
    "#### Question 1.9\n",
    "Was your answer to the last question correct? If it was not, hypothesize why that was."
   ]
  },
  {
   "cell_type": "code",
   "execution_count": null,
   "metadata": {
    "executionInfo": {
     "elapsed": 26227,
     "status": "aborted",
     "timestamp": 1685725706327,
     "user": {
      "displayName": "Timothy Verstynen",
      "userId": "04724296371017749786"
     },
     "user_tz": 240
    },
    "id": "O3bZv2pCFDec"
   },
   "outputs": [],
   "source": [
    "# Write your answer here as comment. Explain yourself."
   ]
  },
  {
   "cell_type": "markdown",
   "metadata": {
    "id": "2Y3NTb4zFDec"
   },
   "source": [
    "### Hunting buddies\n",
    "Will adding more predators help? If, that is, everything else is the same as our base case.\n",
    "\n",
    "#### Question 1.10\n",
    "\n",
    "Make a guess. Will linear increases in predators give a linear improvement in fitness value, for this particular task and prey starting location?"
   ]
  },
  {
   "cell_type": "code",
   "execution_count": null,
   "metadata": {
    "executionInfo": {
     "elapsed": 26227,
     "status": "aborted",
     "timestamp": 1685725706327,
     "user": {
      "displayName": "Timothy Verstynen",
      "userId": "04724296371017749786"
     },
     "user_tz": 240
    },
    "id": "i5FUM_atFDec"
   },
   "outputs": [],
   "source": [
    "# Write your answer here as comment. Explain yourself."
   ]
  },
  {
   "cell_type": "markdown",
   "metadata": {},
   "source": [
    "Time to take a look."
   ]
  },
  {
   "cell_type": "code",
   "execution_count": null,
   "metadata": {
    "executionInfo": {
     "elapsed": 26227,
     "status": "aborted",
     "timestamp": 1685725706327,
     "user": {
      "displayName": "Timothy Verstynen",
      "userId": "04724296371017749786"
     },
     "user_tz": 240
    },
    "id": "Kx9bTHKVFDec"
   },
   "outputs": [],
   "source": [
    "num_predators = [1, 2, 3, 4, 5]\n",
    "model_codes = list(range(len(num_predators)))\n",
    "\n",
    "# !\n",
    "results = []\n",
    "for name, x in zip(model_codes, num_predators):\n",
    "    x_num_agents = 1 + x\n",
    "    x_num_targets = 1\n",
    "    x_target_index = list(range(0, x_num_targets))\n",
    "\n",
    "    # Create env \n",
    "    x_env = CompetitiveGrid(num_agents=x_num_agents)\n",
    "    x_targets = uniform_targets(x_num_targets, target_boundary, prng=prng)\n",
    "    x_values = constant_values(x_targets, 1.0)\n",
    "\n",
    "    # Intial targets\n",
    "    x_env.add_targets(\n",
    "        x_target_index, \n",
    "        x_targets, \n",
    "        x_values, \n",
    "        detection_radius=detection_radius, \n",
    "        p_target=p_target\n",
    "    )\n",
    "\n",
    "    # Preds\n",
    "    preds = [\n",
    "        DiffusionGrid(\n",
    "            scale=scale, \n",
    "            min_length=min_length, \n",
    "            step_size=step_size\n",
    "        )\n",
    "    ] * x\n",
    "\n",
    "    # Preys\n",
    "    preys = [\n",
    "        DiffusionGrid(\n",
    "            scale=scale, \n",
    "            min_length=min_length, \n",
    "            step_size=step_size\n",
    "        )\n",
    "    ] \n",
    "\n",
    "    # All agents\n",
    "    agents = preys + pred\n",
    "\n",
    "    # !\n",
    "    comp_exp = multi_experiment(\n",
    "        f\"pred_{name}\",\n",
    "        agents, \n",
    "        x_env,\n",
    "        num_steps=num_steps,\n",
    "        num_experiments=num_experiments,\n",
    "        seed=seed_value,\n",
    "        split_state=False,\n",
    "        dump=False\n",
    "    )\n",
    "    results.append(comp_exp)"
   ]
  },
  {
   "cell_type": "code",
   "execution_count": null,
   "metadata": {
    "executionInfo": {
     "elapsed": 26226,
     "status": "aborted",
     "timestamp": 1685725706327,
     "user": {
      "displayName": "Timothy Verstynen",
      "userId": "04724296371017749786"
     },
     "user_tz": 240
    },
    "id": "JpwLTK7eFDec"
   },
   "outputs": [],
   "source": [
    "# Est. death\n",
    "pred_scores = []\n",
    "prey_scores = []\n",
    "for i, result in zip(model_codes, results):\n",
    "    pred_scores.append(num_death(result))   \n",
    "    prey_scores.append(np.sum(total_reward(result)))\n",
    "\n",
    "# Est. fitness\n",
    "fitness = np.asarray(prey_scores) - np.asarray(pred_scores)\n",
    "fitness = fitness.tolist()"
   ]
  },
  {
   "cell_type": "code",
   "execution_count": null,
   "metadata": {
    "executionInfo": {
     "elapsed": 26226,
     "status": "aborted",
     "timestamp": 1685725706327,
     "user": {
      "displayName": "Timothy Verstynen",
      "userId": "04724296371017749786"
     },
     "user_tz": 240
    },
    "id": "Ssx9SDAEFDec"
   },
   "outputs": [],
   "source": [
    "fig = plt.figure(figsize=(3, 3))\n",
    "plt.bar([str(n) for n in model_codes], pred_scores, color=\"black\", alpha=0.6)\n",
    "plt.ylabel(\"Pred death\")\n",
    "plt.xlabel(\"Num predators\")\n",
    "plt.ylim(0, num_experiments)\n",
    "plt.tight_layout()\n",
    "sns.despine()\n",
    "\n",
    "fig = plt.figure(figsize=(3, 3))\n",
    "plt.bar([str(n) for n in model_codes], prey_scores, color=\"black\", alpha=0.6)\n",
    "plt.ylabel(\"Prey deaths\")\n",
    "plt.xlabel(\"Num predators\")\n",
    "plt.ylim(0, num_experiments)\n",
    "plt.tight_layout()\n",
    "sns.despine()\n",
    "\n",
    "fig = plt.figure(figsize=(3, 3))\n",
    "plt.bar([str(n) for n in model_codes], fitness, color=\"black\", alpha=0.6)\n",
    "plt.ylabel(\"Fitness\")\n",
    "plt.xlabel(\"Num predators\")\n",
    "plt.tight_layout()\n",
    "plt.ylim(-num_experiments, num_experiments)\n",
    "sns.despine()"
   ]
  },
  {
   "cell_type": "markdown",
   "metadata": {
    "id": "CHVhZtoTFDec"
   },
   "source": [
    "#### Question 1.11\n",
    "Was your answer to the last question correct? If it was not, hypothesize why that was."
   ]
  },
  {
   "cell_type": "code",
   "execution_count": null,
   "metadata": {
    "executionInfo": {
     "elapsed": 26225,
     "status": "aborted",
     "timestamp": 1685725706327,
     "user": {
      "displayName": "Timothy Verstynen",
      "userId": "04724296371017749786"
     },
     "user_tz": 240
    },
    "id": "q5txFAZFFDed"
   },
   "outputs": [],
   "source": [
    "# Write your answer here as comment. Explain yourself."
   ]
  },
  {
   "cell_type": "markdown",
   "metadata": {
    "id": "Vs36lXxJFDed"
   },
   "source": [
    "### No one can see me!?\n",
    "\n",
    "Here we will increase the prey's ability to escape, _p escape_.\n",
    "\n",
    "#### Question 1.12\n",
    "\n",
    "Make a guess. Will linear increases to p escape give a linear decrease in fitness value, for this particular task and prey starting location?"
   ]
  },
  {
   "cell_type": "code",
   "execution_count": null,
   "metadata": {
    "executionInfo": {
     "elapsed": 26225,
     "status": "aborted",
     "timestamp": 1685725706328,
     "user": {
      "displayName": "Timothy Verstynen",
      "userId": "04724296371017749786"
     },
     "user_tz": 240
    },
    "id": "byL2tU-AFDed"
   },
   "outputs": [],
   "source": [
    "# Write your answer here as comment. Explain yourself."
   ]
  },
  {
   "cell_type": "markdown",
   "metadata": {},
   "source": [
    "Good luck prey!"
   ]
  },
  {
   "cell_type": "code",
   "execution_count": null,
   "metadata": {
    "executionInfo": {
     "elapsed": 26225,
     "status": "aborted",
     "timestamp": 1685725706328,
     "user": {
      "displayName": "Timothy Verstynen",
      "userId": "04724296371017749786"
     },
     "user_tz": 240
    },
    "id": "bubhhgJ_FDed"
   },
   "outputs": [],
   "source": [
    "p_escapes = [0.1, 0.2, 0.3, 0.4, 0.5]\n",
    "model_codes = list(range(len(p_escapes)))\n",
    "\n",
    "# !\n",
    "results = []\n",
    "for name, x in zip(model_codes, p_escapes):\n",
    "    # Intial targets\n",
    "    env.add_targets(\n",
    "        target_index, \n",
    "        targets, \n",
    "        values, \n",
    "        detection_radius=detection_radius, \n",
    "        p_target=1 - x,\n",
    "    )\n",
    "\n",
    "    # Preds\n",
    "    pred = [\n",
    "        DiffusionGrid(\n",
    "            scale=scale, \n",
    "            min_length=min_length, \n",
    "            step_size=step_size\n",
    "        )\n",
    "    ]\n",
    "\n",
    "    # Preys\n",
    "    preys = [\n",
    "        DiffusionGrid(\n",
    "            scale=scale, \n",
    "            min_length=min_length, \n",
    "            step_size=step_size\n",
    "        )\n",
    "    ] \n",
    "\n",
    "    # All agents\n",
    "    agents = preys + pred\n",
    "\n",
    "    # !\n",
    "    comp_exp = multi_experiment(\n",
    "        f\"escape_{name}\",\n",
    "        agents, \n",
    "        env,\n",
    "        num_steps=num_steps,\n",
    "        num_experiments=num_experiments,\n",
    "        seed=seed_value,\n",
    "        split_state=False,\n",
    "        dump=False\n",
    "    )\n",
    "    results.append(comp_exp)"
   ]
  },
  {
   "cell_type": "code",
   "execution_count": null,
   "metadata": {
    "executionInfo": {
     "elapsed": 26224,
     "status": "aborted",
     "timestamp": 1685725706328,
     "user": {
      "displayName": "Timothy Verstynen",
      "userId": "04724296371017749786"
     },
     "user_tz": 240
    },
    "id": "LiBx8oJYFDed"
   },
   "outputs": [],
   "source": [
    "# Est. death\n",
    "pred_scores = []\n",
    "prey_scores = []\n",
    "for i, result in zip(model_codes, results):\n",
    "    pred_scores.append(num_death(result))   \n",
    "    prey_scores.append(np.sum(total_reward(result)))\n",
    "\n",
    "# Est. fitness\n",
    "fitness = np.asarray(prey_scores) - np.asarray(pred_scores)\n",
    "fitness = fitness.tolist()"
   ]
  },
  {
   "cell_type": "code",
   "execution_count": null,
   "metadata": {
    "executionInfo": {
     "elapsed": 26223,
     "status": "aborted",
     "timestamp": 1685725706328,
     "user": {
      "displayName": "Timothy Verstynen",
      "userId": "04724296371017749786"
     },
     "user_tz": 240
    },
    "id": "q-6tobh1FDed"
   },
   "outputs": [],
   "source": [
    "fig = plt.figure(figsize=(3, 3))\n",
    "plt.bar([str(n) for n in model_codes], pred_scores, color=\"black\", alpha=0.6)\n",
    "plt.ylabel(\"Pred death\")\n",
    "plt.xlabel(\"p escape\")\n",
    "plt.ylim(0, num_experiments)\n",
    "plt.tight_layout()\n",
    "sns.despine()\n",
    "\n",
    "fig = plt.figure(figsize=(3, 3))\n",
    "plt.bar([str(n) for n in model_codes], prey_scores, color=\"black\", alpha=0.6)\n",
    "plt.ylabel(\"Prey deaths\")\n",
    "plt.xlabel(\"p escape\")\n",
    "plt.ylim(0, num_experiments)\n",
    "plt.tight_layout()\n",
    "sns.despine()\n",
    "\n",
    "fig = plt.figure(figsize=(3, 3))\n",
    "plt.bar([str(n) for n in model_codes], fitness, color=\"black\", alpha=0.6)\n",
    "plt.ylabel(\"Fitness\")\n",
    "plt.xlabel(\"p escape\")\n",
    "plt.tight_layout()\n",
    "plt.ylim(-num_experiments, num_experiments)\n",
    "sns.despine()"
   ]
  },
  {
   "cell_type": "markdown",
   "metadata": {
    "id": "IXqq4jL_FDee"
   },
   "source": [
    "#### Question 1.13\n",
    "Was your answer to the last question correct? If it was not, hypothesize why that was."
   ]
  },
  {
   "cell_type": "code",
   "execution_count": null,
   "metadata": {
    "executionInfo": {
     "elapsed": 26223,
     "status": "aborted",
     "timestamp": 1685725706328,
     "user": {
      "displayName": "Timothy Verstynen",
      "userId": "04724296371017749786"
     },
     "user_tz": 240
    },
    "id": "xyy2AOUuFDee"
   },
   "outputs": [],
   "source": [
    "# Write your answer here as comment. Explain yourself."
   ]
  },
  {
   "cell_type": "markdown",
   "metadata": {
    "id": "RyyQjLWXFDee"
   },
   "source": [
    "## Section 2 - Life is in your hands now....\n",
    "\n",
    "Okay, now let's play a game for some extra credit. We'll award you 10 \"evolutionary\" points. You can spend them on four parametrers: step size, scale, num_predators. The domain is now bigger, and the are 12 prey of three different \"species\". **Do not change any parameters but the four listed.**\n",
    "\n",
    "## Challenge\n",
    "\n",
    "The challenge is to find the **best** way to spend the 10 points so as to maximize the fitness (i.e., prey - predators). \n",
    "\n",
    "Play around with combinations of values to find the best fitness possible. Save the notebook and submit it for 2pts of extra credit on your final grade. Whoever submits the highest fitness score gets an extra 2pts on their final grade.\n",
    "\n",
    "**NOTE:** Do not go over 10 total points or else you will be disqualified and receive no extra credit. Do not change any other parameters or else you will be disqualified and receive no credit."
   ]
  },
  {
   "cell_type": "code",
   "execution_count": null,
   "metadata": {
    "executionInfo": {
     "elapsed": 26223,
     "status": "aborted",
     "timestamp": 1685725706329,
     "user": {
      "displayName": "Timothy Verstynen",
      "userId": "04724296371017749786"
     },
     "user_tz": 240
    },
    "id": "0Ddp39yXFDee"
   },
   "outputs": [],
   "source": [
    "# ---------------------------------------------------------------------------------\n",
    "# Explain your hypothesis/guess here....\n",
    "\n",
    "\n",
    "# ---------------------------------------------------------------------------------\n",
    "# Spend here ONLY (count the points carefully)\n",
    "scale = 2\n",
    "detection_radius = 1\n",
    "step_size = 1\n",
    "num_predators = 1\n",
    "\n",
    "# ---------------------------------------------------------------------------------\n",
    "# DO NOT TOUCH ANYTHING ELSE BELOW\n",
    "# ---------------------------------------------------------------------------------\n",
    "\n",
    "# ---------------------------------------------------------------------------------\n",
    "# Run\n",
    "min_length = 1\n",
    "preys = [\n",
    "    # Fast\n",
    "    DiffusionGrid(scale=scale*2, min_length=min_length, step_size=step_size*2),\n",
    "    DiffusionGrid(scale=scale*2, min_length=min_length, step_size=step_size*2),\n",
    "    DiffusionGrid(scale=scale*2, min_length=min_length, step_size=step_size*2),\n",
    "    DiffusionGrid(scale=scale*2, min_length=min_length, step_size=step_size*2),\n",
    "    # Flight\n",
    "    LevyGrid(exponent=2, step_size=step_size),\n",
    "    LevyGrid(exponent=2, step_size=step_size),\n",
    "    LevyGrid(exponent=2, step_size=step_size),\n",
    "    LevyGrid(exponent=2, step_size=step_size),\n",
    "    # Freeze\n",
    "    FreezeLevyGrid(p_freeze=0.9, exponent=2,step_size=step_size),\n",
    "    FreezeLevyGrid(p_freeze=0.9, exponent=2,step_size=step_size),\n",
    "    FreezeLevyGrid(p_freeze=0.9, exponent=2,step_size=step_size),\n",
    "    FreezeLevyGrid(p_freeze=0.9, exponent=2,step_size=step_size)\n",
    "] \n",
    "\n",
    "# Shared env params\n",
    "num_steps = 100\n",
    "num_experiments = 100\n",
    "seed_value = 559\n",
    "\n",
    "num_targets = len(preys)\n",
    "target_index = list(range(0, num_targets))\n",
    "num_agents = num_predators + num_targets\n",
    "\n",
    "p_target = 1\n",
    "target_boundary = (25, 25)\n",
    "\n",
    "# Create env \n",
    "prng = np.random.RandomState(seed_value)\n",
    "env = CompetitiveGrid(num_agents=num_agents)\n",
    "targets = uniform_targets(num_targets, target_boundary, prng=prng)\n",
    "values = constant_values(targets, 1.0)\n",
    "\n",
    "# Run\n",
    "model_codes = [0]\n",
    "results = []\n",
    "\n",
    "# Intial targets\n",
    "env.add_targets(\n",
    "    target_index, \n",
    "    targets, \n",
    "    values, \n",
    "    detection_radius=detection_radius, \n",
    "    p_target=p_target,\n",
    ")\n",
    "\n",
    "# Preds\n",
    "preds = [\n",
    "    DiffusionGrid(\n",
    "        scale=scale, \n",
    "        min_length=min_length, \n",
    "        step_size=step_size\n",
    "    )\n",
    "] * num_predators\n",
    "\n",
    "# All agents\n",
    "agents = preys + preds\n",
    "\n",
    "# !\n",
    "comp_exp = multi_experiment(\n",
    "    f\"oracle\",\n",
    "    agents, \n",
    "    env,\n",
    "    num_steps=num_steps,\n",
    "    num_experiments=num_experiments,\n",
    "    seed=seed_value,\n",
    "    split_state=False,\n",
    "    dump=False\n",
    ")\n",
    "\n",
    "results.append(comp_exp)\n",
    "\n",
    "# ---------------------------------------------------------------------------------\n",
    "# Est. death\n",
    "pred_scores = []\n",
    "prey_scores = []\n",
    "for i, result in zip(model_codes, results):\n",
    "    pred_scores.append(num_death(result))   \n",
    "    prey_scores.append(np.sum(total_reward(result)))\n",
    "\n",
    "# Est. fitness\n",
    "fitness = np.asarray(prey_scores) - np.asarray(pred_scores)\n",
    "fitness = fitness.tolist()\n",
    "\n",
    "# Plot\n",
    "fig = plt.figure(figsize=(3, 3))\n",
    "plt.bar([str(n) for n in model_codes], fitness, color=\"black\", alpha=0.6)\n",
    "plt.ylabel(\"Fitness\")\n",
    "plt.xlabel(\"Model code\")\n",
    "plt.tight_layout()\n",
    "sns.despine()\n",
    "\n",
    "# Report\n",
    "print(f\"The fitness was {fitness} (max score is {num_experiments*num_targets})\")"
   ]
  }
 ],
 "metadata": {
  "colab": {
   "provenance": []
  },
  "kernelspec": {
   "display_name": "Python 3 (ipykernel)",
   "language": "python",
   "name": "python3"
  },
  "language_info": {
   "codemirror_mode": {
    "name": "ipython",
    "version": 3
   },
   "file_extension": ".py",
   "mimetype": "text/x-python",
   "name": "python",
   "nbconvert_exporter": "python",
   "pygments_lexer": "ipython3",
   "version": "3.8.3"
  }
 },
 "nbformat": 4,
 "nbformat_minor": 1
}
