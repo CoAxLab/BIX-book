{
 "cells": [
  {
   "cell_type": "markdown",
   "metadata": {
    "id": "sHIeLwWce4tw"
   },
   "source": [
    "# Lab 3 - Chemotaxis\n",
    "\n",
    "This lab is designed to get you familiar with the basics of chemotaxis in bacteria, specifically _e. coli_.  \n",
    "\n",
    "We will compare our random agent from Lab 1 (Rando) with a gradient searcher who operates akin to a simple bacteria agent. We'll call this agent Chemo.\n",
    "\n",
    "There are three goals here.\n",
    "\n",
    "1. Extrapolate on scent signals and gradients.\n",
    "2. Examine exploration for targets with a variable scent in an open field.\n",
    "3. Look at the robustness of chemotaxis to noise."
   ]
  },
  {
   "cell_type": "markdown",
   "metadata": {
    "id": "KNr4qUoAfTlH"
   },
   "source": [
    "## Background\n",
    "\n",
    "In this lab we return to _taxic explorations_. We visit the sniff world (aka _ScentGrid_) and at what happens when sense signals are not just noisy, but partially observed. In otherwords, when there is distortion in the channel of information.\n",
    "\n",
    "Our environment this times just deletes scent information from the grid, with a probability $(1- p_{scent})$. The noisy background is of course unaffected by this deletion.\n"
   ]
  },
  {
   "cell_type": "markdown",
   "metadata": {
    "id": "HvWP2GmYgBhZ"
   },
   "source": [
    "## Bacteria again?\n",
    "Our basic model of bacterial exploration is as simple as can be.\n",
    "\n",
    "- When the gradient is positive, meaning you are going \"up\" the gradient, the probability of turning is set to _p pos_.\n",
    "- When the gradient is negative, the turning probability is set to _p neg_. (See code below, for an example).\n",
    "- If the agent \"decides\" to turn, the direction it takes is uniform random.\n",
    "- The length of travel before the next turn decision is sampled from an exponential distribution just like the _DiffusionDiscrete_\n"
   ]
  },
  {
   "cell_type": "markdown",
   "metadata": {
    "id": "x42GmIbGxVWx"
   },
   "source": [
    "**Structured randomness and chemotaxis**\n",
    "\n",
    "In lab 2 we played with a random search agent that wandered using Brownian motion. Here we will introuce a new random agent that moves according to Levy walks.\n",
    "\n",
    "* A Levy walk is a continuing process of random movement where at each \"step\" of movement, a direction of and distance of movement is chosen randomly. The distance $\\delta_i$ of movement at each time step $i$ is sampled from the random distribution as follows: $\\delta_i = {u_i}^{-\\frac{1}{\\gamma}}$, where $u_i \\sim N(\\mu,\\sigma)$ and $\\gamma > 1$.\n",
    "\n",
    "Our _chemotaxis_ agent (_AccumulatorGradientDiscrete_) tries to directly estimate the gradient of the scent $\\nabla$  by comparing the level of scent at the last grid position it occupied to the current scent level ($o$). By last position here we mean the last position when it moved last.\n",
    "\n",
    "$$\\nabla \\approx o_t - o_{t-1}$$\n",
    "\n",
    "Our chemotaxis agent thus behaves as follows:\n",
    "\n",
    "- When the scent gradient is positive, meaning you are going \"up\" the gradient, the probability of turning is set to _p pos_.\n",
    "- When the gradient is negative, the turning probability is set to _p neg_. (See code below, for an example).\n",
    "- If the agent \"decides\" to turn, the direction is uniform random.\n",
    "- The length of travel before the next turn decision is sampled from an exponential distribution just like the _DiffusionDiscrete_ evironment."
   ]
  },
  {
   "cell_type": "markdown",
   "metadata": {
    "id": "xckEUII_xVWx"
   },
   "source": [
    "### Costly cognition\n",
    "The _chemotaxis_ agents will use an evidence accumulation process that we will explore in more detail later. This uses the iterative accumulation of evidence from sensory signals to try and make better decisions about the direction of the gradient. These decisions are of course statistical in nature.\n",
    "\n",
    "For the _randotaxis_ agent number of steps means the number of steps or actions the agent takes.\n"
   ]
  },
  {
   "cell_type": "markdown",
   "metadata": {
    "id": "9GbUZLcmhC87"
   },
   "source": [
    "## Section - Setup"
   ]
  },
  {
   "cell_type": "markdown",
   "metadata": {
    "id": "eAVJYYdhhKSL"
   },
   "source": [
    "First let's set things up for the two parts of the lab. You've done this before, so we don't need to specify each installation and module step."
   ]
  },
  {
   "cell_type": "code",
   "execution_count": null,
   "metadata": {
    "id": "jSjGc6XzCnE7"
   },
   "outputs": [],
   "source": [
    "# Temporarily while working on the code. Delete and uncomment pip install below when done\n",
    "import sys\n",
    "sys.path.append(\"/Users/timothyv/Cloud/Google Drive/Code/explorationlib/explorationlib\")\n",
    "#!pip install /Users/timothyv/Cloud/Google Drive/Code/explorationlib/explorationlib"
   ]
  },
  {
   "cell_type": "code",
   "execution_count": null,
   "metadata": {
    "colab": {
     "base_uri": "https://localhost:8080/"
    },
    "executionInfo": {
     "elapsed": 24712,
     "status": "ok",
     "timestamp": 1717668974436,
     "user": {
      "displayName": "Timothy Verstynen",
      "userId": "04724296371017749786"
     },
     "user_tz": 240
    },
    "id": "GaM7UFV6yKE1",
    "outputId": "a75d0ffd-0d60-41fa-8ecb-44566ec00385"
   },
   "outputs": [
    {
     "name": "stdout",
     "output_type": "stream",
     "text": [
      "Collecting git+https://github.com/MattChanTK/gym-maze.git\n",
      "  Cloning https://github.com/MattChanTK/gym-maze.git to /private/var/folders/6_/rrkxrwx90sb8r8dskz3syftm0000gp/T/pip-req-build-560piqdk\n",
      "  Running command git clone --filter=blob:none --quiet https://github.com/MattChanTK/gym-maze.git /private/var/folders/6_/rrkxrwx90sb8r8dskz3syftm0000gp/T/pip-req-build-560piqdk\n",
      "  Resolved https://github.com/MattChanTK/gym-maze.git to commit 83176811b49b5538a6213520612f44fb1bc49114\n",
      "  Preparing metadata (setup.py) ... \u001b[?25ldone\n",
      "\u001b[?25hCollecting gym (from gym-maze==0.4)\n",
      "  Downloading gym-0.26.2.tar.gz (721 kB)\n",
      "\u001b[2K     \u001b[90m━━━━━━━━━━━━━━━━━━━━━━━━━━━━━━━━━━━━━━━\u001b[0m \u001b[32m721.7/721.7 kB\u001b[0m \u001b[31m9.1 MB/s\u001b[0m eta \u001b[36m0:00:00\u001b[0m00:01\u001b[0m00:01\u001b[0m\n",
      "\u001b[?25h  Installing build dependencies ... \u001b[?25ldone\n",
      "\u001b[?25h  Getting requirements to build wheel ... \u001b[?25ldone\n",
      "\u001b[?25h  Preparing metadata (pyproject.toml) ... \u001b[?25ldone\n",
      "\u001b[?25hCollecting pygame (from gym-maze==0.4)\n",
      "  Downloading pygame-2.5.2-cp311-cp311-macosx_11_0_arm64.whl.metadata (13 kB)\n",
      "Requirement already satisfied: numpy in /Users/timothyv/miniconda3/lib/python3.11/site-packages (from gym-maze==0.4) (1.26.4)\n",
      "Collecting cloudpickle>=1.2.0 (from gym->gym-maze==0.4)\n",
      "  Downloading cloudpickle-3.0.0-py3-none-any.whl.metadata (7.0 kB)\n",
      "Collecting gym-notices>=0.0.4 (from gym->gym-maze==0.4)\n",
      "  Downloading gym_notices-0.0.8-py3-none-any.whl.metadata (1.0 kB)\n",
      "Downloading pygame-2.5.2-cp311-cp311-macosx_11_0_arm64.whl (12.2 MB)\n",
      "\u001b[2K   \u001b[90m━━━━━━━━━━━━━━━━━━━━━━━━━━━━━━━━━━━━━━━━\u001b[0m \u001b[32m12.2/12.2 MB\u001b[0m \u001b[31m42.6 MB/s\u001b[0m eta \u001b[36m0:00:00\u001b[0m00:01\u001b[0m00:01\u001b[0m\n",
      "\u001b[?25hDownloading cloudpickle-3.0.0-py3-none-any.whl (20 kB)\n",
      "Downloading gym_notices-0.0.8-py3-none-any.whl (3.0 kB)\n",
      "Building wheels for collected packages: gym-maze, gym\n",
      "  Building wheel for gym-maze (setup.py) ... \u001b[?25ldone\n",
      "\u001b[?25h  Created wheel for gym-maze: filename=gym_maze-0.4-py3-none-any.whl size=14214 sha256=eaac1c86bdd310bd88a21eead06a55d7bbe1eba0f8e8f012e986491b9214f648\n",
      "  Stored in directory: /private/var/folders/6_/rrkxrwx90sb8r8dskz3syftm0000gp/T/pip-ephem-wheel-cache-52q3os1x/wheels/78/da/85/c38ede16f0e0eabf3178877ff04136a4e944146327b26f601d\n",
      "  Building wheel for gym (pyproject.toml) ... \u001b[?25ldone\n",
      "\u001b[?25h  Created wheel for gym: filename=gym-0.26.2-py3-none-any.whl size=827618 sha256=9cfa86f6cab45326f301ce69ee4b3f3fd8fd1cbf561cd6e57b954c08e7cfce74\n",
      "  Stored in directory: /Users/timothyv/Library/Caches/pip/wheels/1c/77/9e/9af5470201a0b0543937933ee99ba884cd237d2faefe8f4d37\n",
      "Successfully built gym-maze gym\n",
      "Installing collected packages: gym-notices, pygame, cloudpickle, gym, gym-maze\n",
      "Successfully installed cloudpickle-3.0.0 gym-0.26.2 gym-maze-0.4 gym-notices-0.0.8 pygame-2.5.2\n"
     ]
    }
   ],
   "source": [
    "#!pip install --upgrade git+https://github.com/coaxlab/explorationlib\n",
    "!pip install --upgrade git+https://github.com/MattChanTK/gym-maze.git"
   ]
  },
  {
   "cell_type": "code",
   "execution_count": null,
   "metadata": {
    "id": "zI0CIEceyQx4"
   },
   "outputs": [],
   "source": [
    "import shutil\n",
    "import glob\n",
    "import os\n",
    "\n",
    "import numpy as np\n",
    "import pandas as pd\n",
    "import seaborn as sns\n",
    "import matplotlib.pyplot as plt\n",
    "\n",
    "from copy import deepcopy\n",
    "\n",
    "import explorationlib\n",
    "\n",
    "# from explorationlib.agent import DiffusionGrid\n",
    "# # from explorationlib.agent import AccumulatorGradientGrid\n",
    "# # from explorationlib.agent import AccumulatorInfoGrid\n",
    "# from explorationlib.agent import GradientDiffusionGrid\n",
    "\n",
    "\n",
    "# from explorationlib.run import experiment\n",
    "# from explorationlib.util import select_exp\n",
    "# from explorationlib.util import load\n",
    "# from explorationlib.util import save\n",
    "\n",
    "# from explorationlib.local_gym import uniform_targets\n",
    "# from explorationlib.local_gym import constant_values\n",
    "# from explorationlib.local_gym import ScentGrid\n",
    "# from explorationlib.local_gym import create_grid_scent\n",
    "# from explorationlib.local_gym import add_noise\n",
    "# from explorationlib.local_gym import create_grid_scent_patches\n",
    "\n",
    "# from explorationlib.plot import plot_position2d\n",
    "# from explorationlib.plot import plot_length_hist\n",
    "# from explorationlib.plot import plot_length\n",
    "# from explorationlib.plot import plot_targets2d\n",
    "# from explorationlib.plot import plot_scent_grid\n",
    "# from explorationlib.plot import plot_targets2d\n",
    "\n",
    "# from explorationlib.score import total_reward\n",
    "# from explorationlib.score import num_death"
   ]
  },
  {
   "cell_type": "code",
   "execution_count": null,
   "metadata": {
    "id": "KQbjVvs6p1Zz"
   },
   "outputs": [],
   "source": [
    "# Pretty plots\n",
    "%matplotlib inline\n",
    "%config InlineBackend.figure_format='retina'\n",
    "%config IPCompleter.greedy=True\n",
    "plt.rcParams[\"axes.facecolor\"] = \"white\"\n",
    "plt.rcParams[\"figure.facecolor\"] = \"white\"\n",
    "plt.rcParams[\"font.size\"] = \"16\"\n",
    "\n",
    "# Dev\n",
    "%load_ext autoreload\n",
    "%autoreload 2"
   ]
  },
  {
   "cell_type": "markdown",
   "metadata": {
    "id": "sMxnPUlZzSN9"
   },
   "source": [
    "## Section 1 - Simulating noisy \\& missing scents\n"
   ]
  },
  {
   "cell_type": "markdown",
   "metadata": {
    "id": "U5WQC2m1hnO0"
   },
   "source": [
    "To build some intuition, let's plot the \"scent\" emitted by a single target. That same scent corrupts by 1/2 a standard deviation of noise. That same signal, with all but 10 percent of it deleted. That same signal corrupted by noise _and_ all but 10 percent of it deleted."
   ]
  },
  {
   "cell_type": "markdown",
   "metadata": {
    "id": "vJJ1HiR6h1Op"
   },
   "source": [
    "### Full Scent\n",
    "\n",
    "Okay, let's first visualize what the scent diffusion around each target looks like in the environment using the diffusion parameters we have set up."
   ]
  },
  {
   "cell_type": "code",
   "execution_count": null,
   "metadata": {
    "id": "0fHcLlNpylrM"
   },
   "outputs": [],
   "source": [
    "target_boundary = (10, 10)"
   ]
  },
  {
   "cell_type": "code",
   "execution_count": null,
   "metadata": {
    "id": "C-I19zVNymDT",
    "outputId": "45bc1559-016b-4e40-9030-e54fc6d0ce07"
   },
   "outputs": [
    {
     "ename": "NameError",
     "evalue": "name 'create_grid_scent_patches' is not defined",
     "output_type": "error",
     "traceback": [
      "\u001b[0;31m---------------------------------------------------------------------------\u001b[0m",
      "\u001b[0;31mNameError\u001b[0m                                 Traceback (most recent call last)",
      "Cell \u001b[0;32mIn[15], line 3\u001b[0m\n\u001b[1;32m      1\u001b[0m amplitude \u001b[38;5;241m=\u001b[39m \u001b[38;5;241m1\u001b[39m\n\u001b[0;32m----> 3\u001b[0m coord, scent \u001b[38;5;241m=\u001b[39m \u001b[43mcreate_grid_scent_patches\u001b[49m(\n\u001b[1;32m      4\u001b[0m         target_boundary, p\u001b[38;5;241m=\u001b[39m\u001b[38;5;241m1.0\u001b[39m, amplitude\u001b[38;5;241m=\u001b[39mamplitude, sigma\u001b[38;5;241m=\u001b[39m\u001b[38;5;241m2\u001b[39m)\n\u001b[1;32m      6\u001b[0m plt\u001b[38;5;241m.\u001b[39mimshow(scent, interpolation\u001b[38;5;241m=\u001b[39m\u001b[38;5;28;01mNone\u001b[39;00m)\n",
      "\u001b[0;31mNameError\u001b[0m: name 'create_grid_scent_patches' is not defined"
     ]
    }
   ],
   "source": [
    "amplitude = 1\n",
    "\n",
    "coord, scent = create_grid_scent_patches(\n",
    "        target_boundary, p=1.0, amplitude=amplitude, sigma=2)\n",
    "\n",
    "plt.imshow(scent, interpolation=None)"
   ]
  },
  {
   "cell_type": "markdown",
   "metadata": {
    "id": "xeoYEn00zmqx"
   },
   "source": [
    "### Noisy Scent\n",
    "\n",
    "To corrupt the signal we can simply add more Gaussian noise. In this case we will use the *add_noise* function with a $\\sigma=1$."
   ]
  },
  {
   "cell_type": "code",
   "execution_count": null,
   "metadata": {
    "id": "e6R0SV4Jyr2a",
    "outputId": "515bbd06-5f75-440a-96bd-abacddf1004e"
   },
   "outputs": [
    {
     "data": {
      "text/plain": [
       "<matplotlib.image.AxesImage at 0x2a38deb50>"
      ]
     },
     "execution_count": 8,
     "metadata": {},
     "output_type": "execute_result"
    },
    {
     "data": {
      "image/png": "[encoded data removed]",
      "text/plain": [
       "<Figure size 432x288 with 1 Axes>"
      ]
     },
     "metadata": {
      "image/png": {
       "height": 254,
       "width": 259
      }
     },
     "output_type": "display_data"
    }
   ],
   "source": [
    "amplitude = 1\n",
    "noise_sigma = 1.0\n",
    "\n",
    "coord, scent = create_grid_scent_patches(target_boundary, p=1.0, amplitude=amplitude, sigma=2)\n",
    "scent = add_noise(scent, noise_sigma)\n",
    "\n",
    "plt.imshow(scent, interpolation=None)"
   ]
  },
  {
   "cell_type": "markdown",
   "metadata": {
    "id": "Zw1sOYGFilfl"
   },
   "source": [
    "Doesn't look resolvable does it? If you squint, maybe you can see it?\n",
    "\n",
    "In order to confirm that there is signal there, let's take a look at the average over 100 noisy targets."
   ]
  },
  {
   "cell_type": "code",
   "execution_count": null,
   "metadata": {
    "id": "zPYe-pb5p1Z1",
    "outputId": "2ea0d2f0-9d68-4666-cfb6-da61702aadcc"
   },
   "outputs": [
    {
     "data": {
      "text/plain": [
       "<matplotlib.image.AxesImage at 0x2a37a7640>"
      ]
     },
     "execution_count": 9,
     "metadata": {},
     "output_type": "execute_result"
    },
    {
     "data": {
      "image/png": "[encoded data removed]",
      "text/plain": [
       "<Figure size 432x288 with 1 Axes>"
      ]
     },
     "metadata": {
      "image/png": {
       "height": 254,
       "width": 259
      }
     },
     "output_type": "display_data"
    }
   ],
   "source": [
    "amplitude = 1\n",
    "noise_sigma = 1.0\n",
    "num_samples = 100\n",
    "\n",
    "scents = []\n",
    "for _ in range(num_samples):\n",
    "    coord, scent = create_grid_scent_patches(target_boundary, p=1.0, amplitude=1, sigma=2)\n",
    "    scent = add_noise(scent, noise_sigma)\n",
    "    scents.append(deepcopy(scent))\n",
    "\n",
    "scent = np.sum(scents, axis=0)\n",
    "\n",
    "plt.imshow(scent, interpolation=None)"
   ]
  },
  {
   "cell_type": "markdown",
   "metadata": {
    "id": "qw4wtU1kz3ui"
   },
   "source": [
    "### Missing Scent\n",
    "\n",
    "We can further distort or corrup the signal by making some of the information simply missing. Imaging we're in our little agents acquatic environment and currents move some of the sent signal away.\n",
    "\n",
    "Here we can control the probability of a scent molecule being detected at any point in space with the *p_scent* parameter."
   ]
  },
  {
   "cell_type": "code",
   "execution_count": 1,
   "metadata": {
    "colab": {
     "base_uri": "https://localhost:8080/",
     "height": 223
    },
    "executionInfo": {
     "elapsed": 5,
     "status": "error",
     "timestamp": 1719777976845,
     "user": {
      "displayName": "Timothy Verstynen",
      "userId": "04724296371017749786"
     },
     "user_tz": 240
    },
    "id": "_L_X9cR8p1Z1",
    "outputId": "5a97c510-4989-43a1-925e-bfe5813e7deb"
   },
   "outputs": [
    {
     "ename": "NameError",
     "evalue": "name 'create_grid_scent_patches' is not defined",
     "output_type": "error",
     "traceback": [
      "\u001b[0;31m---------------------------------------------------------------------------\u001b[0m",
      "\u001b[0;31mNameError\u001b[0m                                 Traceback (most recent call last)",
      "\u001b[0;32m<ipython-input-1-ee213883f1b3>\u001b[0m in \u001b[0;36m<cell line: 4>\u001b[0;34m()\u001b[0m\n\u001b[1;32m      2\u001b[0m \u001b[0mp_scent\u001b[0m \u001b[0;34m=\u001b[0m \u001b[0;36m0.1\u001b[0m\u001b[0;34m\u001b[0m\u001b[0;34m\u001b[0m\u001b[0m\n\u001b[1;32m      3\u001b[0m \u001b[0;34m\u001b[0m\u001b[0m\n\u001b[0;32m----> 4\u001b[0;31m \u001b[0mcoord\u001b[0m\u001b[0;34m,\u001b[0m \u001b[0mscent\u001b[0m \u001b[0;34m=\u001b[0m \u001b[0mcreate_grid_scent_patches\u001b[0m\u001b[0;34m(\u001b[0m\u001b[0mtarget_boundary\u001b[0m\u001b[0;34m,\u001b[0m \u001b[0mp\u001b[0m\u001b[0;34m=\u001b[0m\u001b[0mp_scent\u001b[0m\u001b[0;34m,\u001b[0m \u001b[0mamplitude\u001b[0m\u001b[0;34m=\u001b[0m\u001b[0mamplitude\u001b[0m\u001b[0;34m,\u001b[0m \u001b[0msigma\u001b[0m\u001b[0;34m=\u001b[0m\u001b[0;36m2\u001b[0m\u001b[0;34m)\u001b[0m\u001b[0;34m\u001b[0m\u001b[0;34m\u001b[0m\u001b[0m\n\u001b[0m\u001b[1;32m      5\u001b[0m \u001b[0;34m\u001b[0m\u001b[0m\n\u001b[1;32m      6\u001b[0m \u001b[0mplt\u001b[0m\u001b[0;34m.\u001b[0m\u001b[0mimshow\u001b[0m\u001b[0;34m(\u001b[0m\u001b[0mscent\u001b[0m\u001b[0;34m,\u001b[0m \u001b[0minterpolation\u001b[0m\u001b[0;34m=\u001b[0m\u001b[0;32mNone\u001b[0m\u001b[0;34m)\u001b[0m\u001b[0;34m\u001b[0m\u001b[0;34m\u001b[0m\u001b[0m\n",
      "\u001b[0;31mNameError\u001b[0m: name 'create_grid_scent_patches' is not defined"
     ]
    }
   ],
   "source": [
    "amplitude = 1000\n",
    "p_scent = 0.1\n",
    "\n",
    "coord, scent = create_grid_scent_patches(target_boundary, p=p_scent, amplitude=amplitude, sigma=2)\n",
    "\n",
    "plt.imshow(scent, interpolation=None)"
   ]
  },
  {
   "cell_type": "markdown",
   "metadata": {
    "id": "dYD-0ZOEjj7h"
   },
   "source": [
    "Again, let's average across 100 targets to see what the modal resolvable scent would look like over samples."
   ]
  },
  {
   "cell_type": "code",
   "execution_count": null,
   "metadata": {
    "id": "JbWC92xMp1Z2",
    "outputId": "e40a7268-eb3d-4238-8e66-6273682acf79"
   },
   "outputs": [
    {
     "data": {
      "text/plain": [
       "<matplotlib.image.AxesImage at 0x2a3a22430>"
      ]
     },
     "execution_count": 11,
     "metadata": {},
     "output_type": "execute_result"
    },
    {
     "data": {
      "image/png": "[encoded data removed]",
      "text/plain": [
       "<Figure size 432x288 with 1 Axes>"
      ]
     },
     "metadata": {
      "image/png": {
       "height": 254,
       "width": 259
      }
     },
     "output_type": "display_data"
    }
   ],
   "source": [
    "amplitude = 1\n",
    "p_scent = 0.1\n",
    "num_samples = 100\n",
    "\n",
    "scents = []\n",
    "for _ in range(num_samples):\n",
    "    coord, scent = create_grid_scent_patches(target_boundary, p=p_scent, amplitude=1, sigma=2)\n",
    "    scents.append(deepcopy(scent))\n",
    "\n",
    "scent = np.sum(scents, axis=0)\n",
    "\n",
    "plt.imshow(scent, interpolation=None)"
   ]
  },
  {
   "cell_type": "markdown",
   "metadata": {
    "id": "VS5yv-Puz_vv"
   },
   "source": [
    "### Noisy *and* Missing Scent\n",
    "\n",
    "Now let's see the most distorted signal we can: one with both Gaussian noise added *and* partially observed."
   ]
  },
  {
   "cell_type": "code",
   "execution_count": null,
   "metadata": {
    "id": "EMhO7eL50Cl9",
    "outputId": "5468695f-91a9-46f4-a384-509fb699a4c5"
   },
   "outputs": [
    {
     "data": {
      "text/plain": [
       "<matplotlib.image.AxesImage at 0x2a3a7f670>"
      ]
     },
     "execution_count": 12,
     "metadata": {},
     "output_type": "execute_result"
    },
    {
     "data": {
      "image/png": "[encoded data removed]",
      "text/plain": [
       "<Figure size 432x288 with 1 Axes>"
      ]
     },
     "metadata": {
      "image/png": {
       "height": 254,
       "width": 259
      }
     },
     "output_type": "display_data"
    }
   ],
   "source": [
    "amplitude = 1\n",
    "noise_sigma = 1\n",
    "p_scent = 0.1\n",
    "\n",
    "coord, scent = create_grid_scent_patches(target_boundary, p=p_scent, amplitude=amplitude, sigma=2)\n",
    "scent = add_noise(scent, noise_sigma)\n",
    "\n",
    "plt.imshow(scent, interpolation=None)"
   ]
  },
  {
   "cell_type": "markdown",
   "metadata": {
    "id": "7XLujCq-kEHw"
   },
   "source": [
    "And again, let's look over the average. But given how much noise we have added, we will need to average over more samples to see the pattern. Let's increase *num_samples* to 1000."
   ]
  },
  {
   "cell_type": "code",
   "execution_count": null,
   "metadata": {
    "id": "7wZJhdBC0EVj",
    "outputId": "b77e6280-6488-47df-92e7-e42157e584c1"
   },
   "outputs": [
    {
     "data": {
      "text/plain": [
       "<matplotlib.image.AxesImage at 0x2a3a1b640>"
      ]
     },
     "execution_count": 13,
     "metadata": {},
     "output_type": "execute_result"
    },
    {
     "data": {
      "image/png": "[encoded data removed]",
      "text/plain": [
       "<Figure size 432x288 with 1 Axes>"
      ]
     },
     "metadata": {
      "image/png": {
       "height": 254,
       "width": 259
      }
     },
     "output_type": "display_data"
    }
   ],
   "source": [
    "amplitude = 1\n",
    "noise_sigma = 1\n",
    "p_scent = 0.1\n",
    "num_samples = 1000\n",
    "\n",
    "scents = []\n",
    "for _ in range(num_samples):\n",
    "    coord, scent = create_grid_scent_patches(target_boundary, p=p_scent, amplitude=1, sigma=2)\n",
    "    scent = add_noise(scent, noise_sigma)\n",
    "    scents.append(deepcopy(scent))\n",
    "\n",
    "scent = np.sum(scents, axis=0)\n",
    "\n",
    "plt.imshow(scent, interpolation=None)"
   ]
  },
  {
   "cell_type": "markdown",
   "metadata": {
    "id": "Zv0unH1ZkJxG"
   },
   "source": [
    "So, pretty noisy but resolvable."
   ]
  },
  {
   "cell_type": "markdown",
   "metadata": {
    "id": "bDeWuSfGkM8G"
   },
   "source": [
    "### Question 1.1\n",
    "\n",
    "Adding noise and lowering detection probability both act to increase distortion to the signal channel that will be used by our agents. Will this help or hinder the agents that use sensory signals and/or information to drive their decisions? Explain your answer."
   ]
  },
  {
   "cell_type": "code",
   "execution_count": null,
   "metadata": {
    "id": "yEwtx5xSlFAV"
   },
   "outputs": [],
   "source": [
    "# Write your answer here, as a python comment"
   ]
  },
  {
   "cell_type": "markdown",
   "metadata": {
    "id": "Hri_qayrlN2C"
   },
   "source": [
    "### Question 1.2\n",
    "\n",
    "Re-run the Noisy *AND* Missing simulations above, playing with both of the *p_scent* and *noise_sigma* terms. Do this one at a time (i.e., when changing *p_scent* keep *noise_sigma=1*, when changign *noise_sigma* keep *p_scent=0.1*).\n",
    "\n",
    "What are the values for each parameter that lead to a complete loss in the scent signal even when averaging across 1000 samples?"
   ]
  },
  {
   "cell_type": "code",
   "execution_count": null,
   "metadata": {
    "id": "vz861SVimGnr"
   },
   "outputs": [],
   "source": [
    "# Write your answer here, as a python comment"
   ]
  },
  {
   "cell_type": "markdown",
   "metadata": {
    "id": "JnKyN9oM0GTm"
   },
   "source": [
    "## Section 2 - Using Sensory Evidence To Explore"
   ]
  },
  {
   "cell_type": "markdown",
   "metadata": {
    "id": "IpB4JhugmNJE"
   },
   "source": [
    "\n",
    "In this section we take on accumulating evidence as a policy for decision making in the form of simple chemotaxis with noisy sensors. The presence of this uncertainty makes decisions--of the kind common to decision theory--a necessity."
   ]
  },
  {
   "cell_type": "code",
   "execution_count": null,
   "metadata": {
    "id": "StauX74y0QjT"
   },
   "outputs": [],
   "source": [
    "# Noise and missing scents\n",
    "p_scent = 0.1\n",
    "noise_sigma = 1\n",
    "\n",
    "# Shared\n",
    "num_experiments = 100\n",
    "num_steps = 400\n",
    "seed_value = 5838\n",
    "\n",
    "# ! (leave alone)\n",
    "detection_radius = 1\n",
    "max_steps = 1\n",
    "min_length = 1\n",
    "num_targets = 50\n",
    "target_boundary = (10, 10)\n",
    "\n",
    "# Targets\n",
    "prng = np.random.RandomState(seed_value)\n",
    "targets = uniform_targets(num_targets, target_boundary, prng=prng)\n",
    "values = constant_values(targets, 1)\n",
    "\n",
    "# Scents\n",
    "scents = []\n",
    "for _ in range(len(targets)):\n",
    "    coord, scent = create_grid_scent_patches(\n",
    "        target_boundary, p=1.0, amplitude=1, sigma=2)\n",
    "    scents.append(scent)\n",
    "\n",
    "# Env\n",
    "env = ScentGrid(mode=None)\n",
    "env.seed(seed_value)\n",
    "env.add_scents(targets, values, coord, scents, noise_sigma=noise_sigma)"
   ]
  },
  {
   "cell_type": "markdown",
   "metadata": {
    "id": "ip-6AMyMmzjk"
   },
   "source": [
    "Again we are working a scent grid environment where each target emits noisy chemical signals (scents) according to our definitions above.\n",
    "\n",
    "Here's an example of our environment"
   ]
  },
  {
   "cell_type": "code",
   "execution_count": null,
   "metadata": {
    "id": "4xKn5Oog3HB8",
    "outputId": "7548278b-357a-4025-86e7-dc4cefde16e4"
   },
   "outputs": [
    {
     "data": {
      "image/png": "[encoded data removed]",
      "text/plain": [
       "<Figure size 216x216 with 1 Axes>"
      ]
     },
     "metadata": {
      "image/png": {
       "height": 225,
       "width": 365
      }
     },
     "output_type": "display_data"
    }
   ],
   "source": [
    "plot_boundary = (10, 10)\n",
    "num_experiment = 0\n",
    "ax = None\n",
    "ax = plot_targets2d(\n",
    "    env,\n",
    "    boundary=plot_boundary,\n",
    "    color=\"black\",\n",
    "    alpha=1,\n",
    "    label=\"Targets\",\n",
    "    ax=ax,\n",
    ")"
   ]
  },
  {
   "cell_type": "markdown",
   "metadata": {
    "id": "4SRoMBksnAML"
   },
   "source": [
    "We will use 2 agents in these sims:\n",
    "\n",
    "- Rando: Uses random Brownian motion search.\n",
    "- Chemo: Uses only the detected scent gradient to make a decision.\n",
    "\n",
    "How do these agents work? Check the explorationlib code for details.\n",
    "\n",
    "* In the left panel on Colab, click on the file icon to access the file view for your Colab notebook.\n",
    "* Click the \"..\" file to go up one level (if necessary) and then navigate to `/usr/local/lib/python3.7/dist-packages/explorationlib/agent.py` and double click the file (or just click the link in this bullet) to open up the library's code for defining exploration agents.\n",
    "* Find the _DiffusionGrid_ and _AccumulatorGradientGrid_ functions to see how they are implemented."
   ]
  },
  {
   "cell_type": "code",
   "execution_count": null,
   "metadata": {
    "id": "hvKupKt10V5s",
    "outputId": "3f780211-5d64-4a31-f3b4-5703381c486e"
   },
   "outputs": [
    {
     "data": {
      "text/plain": [
       "[5838]"
      ]
     },
     "execution_count": 16,
     "metadata": {},
     "output_type": "execute_result"
    }
   ],
   "source": [
    "# Agents\n",
    "\n",
    "# Random search agent\n",
    "diff = DiffusionGrid(min_length=min_length, scale=1)\n",
    "diff.seed(seed_value)\n",
    "\n",
    "# Chemotaxis agent\n",
    "min_length = 1\n",
    "scale = 2\n",
    "p_neg = 0.8\n",
    "p_pos = 0.2\n",
    "\n",
    "num_targets = 50\n",
    "target_boundary = (10, 10)\n",
    "\n",
    "chemo = GradientDiffusionGrid(\n",
    "    min_length=min_length,\n",
    "    scale=scale,\n",
    "    p_neg=p_neg,\n",
    "    p_pos=p_pos,\n",
    ")\n",
    "\n",
    "chemo.seed(seed_value)\n"
   ]
  },
  {
   "cell_type": "code",
   "execution_count": null,
   "metadata": {
    "id": "yExPBSG0vtPJ",
    "outputId": "2f7590a9-9d21-40b8-c639-eb8fa4f7dea6"
   },
   "outputs": [
    {
     "name": "stdout",
     "output_type": "stream",
     "text": [
      "1.24.4\n"
     ]
    }
   ],
   "source": [
    "print(np.__version__)"
   ]
  },
  {
   "cell_type": "markdown",
   "metadata": {
    "id": "awCEAAyGngBm"
   },
   "source": [
    "Now let's run the experiments."
   ]
  },
  {
   "cell_type": "code",
   "execution_count": null,
   "metadata": {
    "colab": {
     "referenced_widgets": [
      "0b4dd78c76434e60b6e94b327d61bbd2"
     ]
    },
    "id": "rVTGtSPT0fN_",
    "outputId": "d4669640-9539-4d28-a035-69fdb4f08ec1"
   },
   "outputs": [
    {
     "data": {
      "application/vnd.jupyter.widget-view+json": {
       "model_id": "0b4dd78c76434e60b6e94b327d61bbd2",
       "version_major": 2,
       "version_minor": 0
      },
      "text/plain": [
       "rand:   0%|          | 0/100 [00:00<?, ?it/s]"
      ]
     },
     "metadata": {},
     "output_type": "display_data"
    },
    {
     "ename": "AttributeError",
     "evalue": "'numpy.random._generator.Generator' object has no attribute 'rand'",
     "output_type": "error",
     "traceback": [
      "\u001b[0;31m---------------------------------------------------------------------------\u001b[0m",
      "\u001b[0;31mAttributeError\u001b[0m                            Traceback (most recent call last)",
      "Input \u001b[0;32mIn [17]\u001b[0m, in \u001b[0;36m<cell line: 2>\u001b[0;34m()\u001b[0m\n\u001b[1;32m      1\u001b[0m \u001b[38;5;66;03m# Experiments\u001b[39;00m\n\u001b[0;32m----> 2\u001b[0m rand_exp \u001b[38;5;241m=\u001b[39m \u001b[43mexperiment\u001b[49m\u001b[43m(\u001b[49m\n\u001b[1;32m      3\u001b[0m \u001b[43m    \u001b[49m\u001b[38;5;124;43mf\u001b[39;49m\u001b[38;5;124;43m\"\u001b[39;49m\u001b[38;5;124;43mrand\u001b[39;49m\u001b[38;5;124;43m\"\u001b[39;49m\u001b[43m,\u001b[49m\n\u001b[1;32m      4\u001b[0m \u001b[43m    \u001b[49m\u001b[43mdiff\u001b[49m\u001b[43m,\u001b[49m\n\u001b[1;32m      5\u001b[0m \u001b[43m    \u001b[49m\u001b[43menv\u001b[49m\u001b[43m,\u001b[49m\n\u001b[1;32m      6\u001b[0m \u001b[43m    \u001b[49m\u001b[43mnum_steps\u001b[49m\u001b[38;5;241;43m=\u001b[39;49m\u001b[43mnum_steps\u001b[49m\u001b[43m,\u001b[49m\n\u001b[1;32m      7\u001b[0m \u001b[43m    \u001b[49m\u001b[43mnum_experiments\u001b[49m\u001b[38;5;241;43m=\u001b[39;49m\u001b[43mnum_experiments\u001b[49m\u001b[43m,\u001b[49m\n\u001b[1;32m      8\u001b[0m \u001b[43m    \u001b[49m\u001b[43mdump\u001b[49m\u001b[38;5;241;43m=\u001b[39;49m\u001b[38;5;28;43;01mFalse\u001b[39;49;00m\u001b[43m,\u001b[49m\n\u001b[1;32m      9\u001b[0m \u001b[43m    \u001b[49m\u001b[43msplit_state\u001b[49m\u001b[38;5;241;43m=\u001b[39;49m\u001b[38;5;28;43;01mTrue\u001b[39;49;00m\u001b[43m,\u001b[49m\n\u001b[1;32m     10\u001b[0m \u001b[43m    \u001b[49m\u001b[43mseed\u001b[49m\u001b[38;5;241;43m=\u001b[39;49m\u001b[43mseed_value\u001b[49m\n\u001b[1;32m     11\u001b[0m \u001b[43m)\u001b[49m\n\u001b[1;32m     12\u001b[0m chemo_exp \u001b[38;5;241m=\u001b[39m experiment(\n\u001b[1;32m     13\u001b[0m     \u001b[38;5;124mf\u001b[39m\u001b[38;5;124m\"\u001b[39m\u001b[38;5;124mchemo\u001b[39m\u001b[38;5;124m\"\u001b[39m,\n\u001b[1;32m     14\u001b[0m     chemo,\n\u001b[0;32m   (...)\u001b[0m\n\u001b[1;32m     20\u001b[0m     seed\u001b[38;5;241m=\u001b[39mseed_value\n\u001b[1;32m     21\u001b[0m )\n",
      "File \u001b[0;32m/opt/homebrew/lib/python3.9/site-packages/explorationlib/run.py:72\u001b[0m, in \u001b[0;36mexperiment\u001b[0;34m(name, agent, env, num_steps, num_experiments, seed, split_state, dump, env_kwargs, agent_kwargs)\u001b[0m\n\u001b[1;32m     69\u001b[0m \u001b[38;5;28;01mfor\u001b[39;00m n \u001b[38;5;129;01min\u001b[39;00m \u001b[38;5;28mrange\u001b[39m(\u001b[38;5;241m1\u001b[39m, num_steps):\n\u001b[1;32m     70\u001b[0m     \u001b[38;5;66;03m# Step\u001b[39;00m\n\u001b[1;32m     71\u001b[0m     action \u001b[38;5;241m=\u001b[39m agent(state)\n\u001b[0;32m---> 72\u001b[0m     \u001b[43menv\u001b[49m\u001b[38;5;241;43m.\u001b[39;49m\u001b[43mstep\u001b[49m\u001b[43m(\u001b[49m\u001b[43maction\u001b[49m\u001b[43m)\u001b[49m\n\u001b[1;32m     73\u001b[0m     next_state, reward, done, info \u001b[38;5;241m=\u001b[39m env\u001b[38;5;241m.\u001b[39mlast()\n\u001b[1;32m     75\u001b[0m     \u001b[38;5;66;03m# Learn? Might do nothing.\u001b[39;00m\n",
      "File \u001b[0;32m/opt/homebrew/lib/python3.9/site-packages/explorationlib/local_gym.py:568\u001b[0m, in \u001b[0;36mScentGrid.step\u001b[0;34m(self, action)\u001b[0m\n\u001b[1;32m    566\u001b[0m \u001b[38;5;28;01mdef\u001b[39;00m \u001b[38;5;21mstep\u001b[39m(\u001b[38;5;28mself\u001b[39m, action):\n\u001b[1;32m    567\u001b[0m     \u001b[38;5;66;03m# Move\u001b[39;00m\n\u001b[0;32m--> 568\u001b[0m     \u001b[38;5;28;43msuper\u001b[39;49m\u001b[43m(\u001b[49m\u001b[43m)\u001b[49m\u001b[38;5;241;43m.\u001b[39;49m\u001b[43mstep\u001b[49m\u001b[43m(\u001b[49m\u001b[43maction\u001b[49m\u001b[43m)\u001b[49m  \u001b[38;5;66;03m# sets self.ind, etc\u001b[39;00m\n\u001b[1;32m    570\u001b[0m     \u001b[38;5;66;03m# Scent\u001b[39;00m\n\u001b[1;32m    571\u001b[0m     \u001b[38;5;28;01mif\u001b[39;00m \u001b[38;5;28mself\u001b[39m\u001b[38;5;241m.\u001b[39mscent_fn \u001b[38;5;129;01mis\u001b[39;00m \u001b[38;5;129;01mnot\u001b[39;00m \u001b[38;5;28;01mNone\u001b[39;00m:\n",
      "File \u001b[0;32m/opt/homebrew/lib/python3.9/site-packages/explorationlib/local_gym.py:473\u001b[0m, in \u001b[0;36mGrid.step\u001b[0;34m(self, action)\u001b[0m\n\u001b[1;32m    471\u001b[0m \u001b[38;5;28;01melse\u001b[39;00m:\n\u001b[1;32m    472\u001b[0m     action \u001b[38;5;241m=\u001b[39m [\u001b[38;5;28mint\u001b[39m(a) \u001b[38;5;28;01mfor\u001b[39;00m a \u001b[38;5;129;01min\u001b[39;00m action]\n\u001b[0;32m--> 473\u001b[0m     \u001b[38;5;28;43msuper\u001b[39;49m\u001b[43m(\u001b[49m\u001b[43m)\u001b[49m\u001b[38;5;241;43m.\u001b[39;49m\u001b[43mstep\u001b[49m\u001b[43m(\u001b[49m\u001b[43maction\u001b[49m\u001b[43m)\u001b[49m\n\u001b[1;32m    475\u001b[0m \u001b[38;5;28;01mreturn\u001b[39;00m \u001b[38;5;28mself\u001b[39m\u001b[38;5;241m.\u001b[39mlast()\n",
      "File \u001b[0;32m/opt/homebrew/lib/python3.9/site-packages/explorationlib/local_gym.py:313\u001b[0m, in \u001b[0;36mField.step\u001b[0;34m(self, action)\u001b[0m\n\u001b[1;32m    311\u001b[0m \u001b[38;5;250m\u001b[39m\u001b[38;5;124;03m\"\"\"Agent takes a step, then checks targets/friends.\"\"\"\u001b[39;00m\n\u001b[1;32m    312\u001b[0m \u001b[38;5;28mself\u001b[39m\u001b[38;5;241m.\u001b[39mstate \u001b[38;5;241m+\u001b[39m\u001b[38;5;241m=\u001b[39m action\n\u001b[0;32m--> 313\u001b[0m \u001b[38;5;28;43mself\u001b[39;49m\u001b[38;5;241;43m.\u001b[39;49m\u001b[43mcheck_targets\u001b[49m\u001b[43m(\u001b[49m\u001b[43m)\u001b[49m\n\u001b[1;32m    314\u001b[0m \u001b[38;5;28;01mreturn\u001b[39;00m \u001b[38;5;28mself\u001b[39m\u001b[38;5;241m.\u001b[39mlast()\n",
      "File \u001b[0;32m/opt/homebrew/lib/python3.9/site-packages/explorationlib/local_gym.py:376\u001b[0m, in \u001b[0;36mField.check_targets\u001b[0;34m(self)\u001b[0m\n\u001b[1;32m    373\u001b[0m     \u001b[38;5;28mself\u001b[39m\u001b[38;5;241m.\u001b[39mreward \u001b[38;5;241m=\u001b[39m \u001b[38;5;241m0.0\u001b[39m\n\u001b[1;32m    375\u001b[0m \u001b[38;5;66;03m# Coin flip\u001b[39;00m\n\u001b[0;32m--> 376\u001b[0m \u001b[38;5;28;01mif\u001b[39;00m \u001b[38;5;28;43mself\u001b[39;49m\u001b[38;5;241;43m.\u001b[39;49m\u001b[43mnp_random\u001b[49m\u001b[38;5;241;43m.\u001b[39;49m\u001b[43mrand\u001b[49m() \u001b[38;5;241m<\u001b[39m\u001b[38;5;241m=\u001b[39m \u001b[38;5;28mself\u001b[39m\u001b[38;5;241m.\u001b[39mp_target:\n\u001b[1;32m    377\u001b[0m     \u001b[38;5;28mself\u001b[39m\u001b[38;5;241m.\u001b[39mreward \u001b[38;5;241m=\u001b[39m value\n\u001b[1;32m    378\u001b[0m \u001b[38;5;28;01melse\u001b[39;00m:\n",
      "\u001b[0;31mAttributeError\u001b[0m: 'numpy.random._generator.Generator' object has no attribute 'rand'"
     ]
    }
   ],
   "source": [
    "# Experiments\n",
    "rand_exp = experiment(\n",
    "    f\"rand\",\n",
    "    diff,\n",
    "    env,\n",
    "    num_steps=num_steps,\n",
    "    num_experiments=num_experiments,\n",
    "    dump=False,\n",
    "    split_state=True,\n",
    "    seed=seed_value\n",
    ")\n",
    "chemo_exp = experiment(\n",
    "    f\"chemo\",\n",
    "    chemo,\n",
    "    env,\n",
    "    num_steps=num_steps,\n",
    "    num_experiments=num_experiments,\n",
    "    dump=False,\n",
    "    split_state=True,\n",
    "    seed=seed_value\n",
    ")"
   ]
  },
  {
   "cell_type": "markdown",
   "metadata": {
    "id": "aNn5xm5nno3t"
   },
   "source": [
    "Let's plot an example experiment. Here I'm choosing the second run for each agent."
   ]
  },
  {
   "cell_type": "code",
   "execution_count": null,
   "metadata": {
    "id": "-1x_tV4C0jMS"
   },
   "outputs": [],
   "source": [
    "plot_boundary = (20, 20)\n",
    "\n",
    "# -\n",
    "num_experiment = 2\n",
    "ax = None\n",
    "ax = plot_position2d(\n",
    "    select_exp(chemo_exp, num_experiment),\n",
    "    boundary=plot_boundary,\n",
    "    label=\"Chemo\",\n",
    "    color=\"blue\",\n",
    "    alpha=0.6,\n",
    "    ax=ax,\n",
    ")\n",
    "ax = plot_position2d(\n",
    "    select_exp(rand_exp, num_experiment),\n",
    "    boundary=plot_boundary,\n",
    "    label=\"Rando\",\n",
    "    color=\"red\",\n",
    "    alpha=0.8,\n",
    "    ax=ax,\n",
    ")\n",
    "ax = plot_targets2d(\n",
    "    env,\n",
    "    boundary=plot_boundary,\n",
    "    color=\"black\",\n",
    "    alpha=1,\n",
    "    label=\"Targets\",\n",
    "    ax=ax,\n",
    ")"
   ]
  },
  {
   "cell_type": "markdown",
   "metadata": {
    "id": "Sw96O-9pnzTb"
   },
   "source": [
    "Hard to distinguish their individual behaviors, but our agents seem to be exploring.\n",
    "\n",
    "Now let's evaluate some metrics of performance."
   ]
  },
  {
   "cell_type": "code",
   "execution_count": null,
   "metadata": {
    "id": "ICBnDBbep1Z7"
   },
   "outputs": [],
   "source": [
    "# Results\n",
    "results = [rand_exp, chemo_exp]\n",
    "names = [\"Rando\", \"Chemo\"]\n",
    "colors = [\"red\", \"blue\"]\n",
    "\n",
    "# Score by eff\n",
    "scores = []\n",
    "for name, res, color in zip(names, results, colors):\n",
    "    l = 0.0\n",
    "    for r in res:\n",
    "        l += r[\"agent_total_l\"][-1]\n",
    "    scores.append(l)\n",
    "\n",
    "# Tabulate\n",
    "m, sd = [], []\n",
    "for (name, s, c) in zip(names, scores, colors):\n",
    "    m.append(np.mean(s))\n",
    "    sd.append(np.std(s))\n",
    "\n",
    "# Plot means\n",
    "fig = plt.figure(figsize=(4, 3))\n",
    "plt.bar(names, m, yerr=sd, color=\"black\", alpha=0.6)\n",
    "plt.ylabel(\"Total distance\")\n",
    "plt.tight_layout()\n",
    "sns.despine()"
   ]
  },
  {
   "cell_type": "code",
   "execution_count": null,
   "metadata": {
    "id": "yPaHH65P2EP8"
   },
   "outputs": [],
   "source": [
    "# Results\n",
    "results = [rand_exp, chemo_exp]\n",
    "names = [\"Rando\", \"Chemo\"]\n",
    "colors = [\"red\", \"blue\"]\n",
    "\n",
    "# Score by eff\n",
    "scores = []\n",
    "for name, res, color in zip(names, results, colors):\n",
    "    scores.append(num_death(res))\n",
    "\n",
    "# Tabulate\n",
    "m, sd = [], []\n",
    "for (name, s, c) in zip(names, scores, colors):\n",
    "    m.append(np.mean(s))\n",
    "    sd.append(np.std(s))\n",
    "\n",
    "# Plot means\n",
    "fig = plt.figure(figsize=(4, 3))\n",
    "plt.bar(names, m, yerr=sd, color=\"black\", alpha=0.6)\n",
    "plt.ylabel(\"Deaths\")\n",
    "plt.tight_layout()\n",
    "sns.despine()"
   ]
  },
  {
   "cell_type": "code",
   "execution_count": null,
   "metadata": {
    "id": "7Kl9LjUL2IMK"
   },
   "outputs": [],
   "source": [
    "# Results\n",
    "results = [rand_exp, chemo_exp]\n",
    "names = [\"Rando\", \"Chemo\"]\n",
    "colors = [\"red\", \"blue\"]\n",
    "\n",
    "# Score by eff\n",
    "scores = []\n",
    "for name, res, color in zip(names, results, colors):\n",
    "    r = total_reward(res)\n",
    "    scores.append(r)\n",
    "\n",
    "# Tabulate\n",
    "m, sd = [], []\n",
    "for (name, s, c) in zip(names, scores, colors):\n",
    "    m.append(np.mean(s))\n",
    "    sd.append(np.std(s))\n",
    "\n",
    "# Plot means\n",
    "fig = plt.figure(figsize=(5, 4))\n",
    "plt.bar(names, m, yerr=sd, color=\"black\", alpha=0.6)\n",
    "plt.ylabel(\"Total reward\")\n",
    "plt.tight_layout()\n",
    "sns.despine()\n",
    "\n",
    "# Dists\n",
    "fig = plt.figure(figsize=(5, 4))\n",
    "for (name, s, c) in zip(names, scores, colors):\n",
    "    plt.hist(s, label=name, color=c, alpha=0.5, bins=np.linspace(0, np.max(scores), 50))\n",
    "    plt.legend()\n",
    "    plt.xlabel(\"Score\")\n",
    "    plt.tight_layout()\n",
    "    sns.despine()"
   ]
  },
  {
   "cell_type": "markdown",
   "metadata": {
    "id": "n1-KWIgnn_Rp"
   },
   "source": [
    "### Question 2.1\n",
    "\n",
    "How do each of our agents perform across the performance measures we have chosen?"
   ]
  },
  {
   "cell_type": "code",
   "execution_count": null,
   "metadata": {
    "id": "yqI8WJQjoMsi"
   },
   "outputs": [],
   "source": [
    "# Write your answer here as a comment. Explain yourself."
   ]
  }
 ],
 "metadata": {
  "colab": {
   "provenance": []
  },
  "kernelspec": {
   "display_name": "Python 3 (ipykernel)",
   "language": "python",
   "name": "python3"
  },
  "language_info": {
   "codemirror_mode": {
    "name": "ipython",
    "version": 3
   },
   "file_extension": ".py",
   "mimetype": "text/x-python",
   "name": "python",
   "nbconvert_exporter": "python",
   "pygments_lexer": "ipython3",
   "version": "3.9.13"
  }
 },
 "nbformat": 4,
 "nbformat_minor": 0
}