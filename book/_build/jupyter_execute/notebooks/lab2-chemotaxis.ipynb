{
 "cells": [
  {
   "cell_type": "markdown",
   "metadata": {
    "id": "sHIeLwWce4tw"
   },
   "source": [
    "# Lab 2 - Simple Chemotaxis\n",
    "\n",
    "This lab is designed to get you familiar with the basics of chemotaxis like that performed by bacteria, specifically _e. coli_.  \n",
    "\n",
    "We will compare our random agent from Lab 1 (Rando) with a gradient searcher who operates akin to a simple bacteria agent. We'll call this agent Chemo.\n",
    "\n",
    "There are three goals here.\n",
    "\n",
    "1. Extrapolate on scent signals and gradients.\n",
    "2. Examine exploration for targets with a variable scent in an open field.\n",
    "3. Compare simple chemotaxis, with a Levy-walk structure, to Brownian motion."
   ]
  },
  {
   "cell_type": "markdown",
   "metadata": {
    "id": "KNr4qUoAfTlH"
   },
   "source": [
    "## Background\n",
    "\n",
    "In this lab we return to _taxic explorations_. We visit the sniff world (aka _ScentGrid_) and at what happens when sense signals are noisy.\n"
   ]
  },
  {
   "cell_type": "markdown",
   "metadata": {
    "id": "x42GmIbGxVWx"
   },
   "source": [
    "**Structured randomness and basic chemotaxis**\n",
    "\n",
    "In lab 1 we played with a random search agent that wandered using Brownian motion. Here we will introuce a new random agent that moves according to Levy walks.\n",
    "\n",
    "* A Levy walk is a continuing process of random movement where at each \"step\" of movement, a direction of and distance of movement is chosen randomly. The distance $\\delta_i$ of movement at each time step $i$ is sampled from the random distribution as follows: $\\delta_i = {u_i}^{-\\frac{1}{\\gamma}}$, where $u_i \\sim N(\\mu,\\sigma)$ and $\\gamma > 1$.\n",
    "\n",
    "Our _chemotaxis_ agent (_GradientDiffusionGrid_) tries to directly estimate the gradient of the scent $\\nabla S$  by comparing the level of scent at the last grid position it occupied to the current scent level ($s$). By last position here we mean the last position when it moved last.\n",
    "\n",
    "$$\\nabla S \\approx s_t - s_{t-1}$$\n",
    "\n",
    "Our chemotaxis agent thus behaves as follows:\n",
    "\n",
    "- When the gradient is positive, meaning you are going \"up\" the gradient, the probability of turning and sampling from a Levy walk power law (i.e., a jump) is set to _p pos_.\n",
    "- When the gradient is negative, the probability of a jump is set to _p neg_. (See code below, for an example).\n",
    "- If the agent \"decides\" to jump, the direction it takes is uniform random.\n",
    "- The length of travel before the next turn decision is sampled from an Power-law distribution.\n"
   ]
  },
  {
   "cell_type": "markdown",
   "metadata": {
    "id": "9GbUZLcmhC87"
   },
   "source": [
    "## Section - Setup"
   ]
  },
  {
   "cell_type": "markdown",
   "metadata": {
    "id": "eAVJYYdhhKSL"
   },
   "source": [
    "First let's set things up for the two parts of the lab. You've done this before, so we don't need to specify each installation and module step."
   ]
  },
  {
   "cell_type": "code",
   "execution_count": 1,
   "metadata": {
    "colab": {
     "base_uri": "https://localhost:8080/"
    },
    "executionInfo": {
     "elapsed": 39532,
     "status": "ok",
     "timestamp": 1717682405762,
     "user": {
      "displayName": "Timothy Verstynen",
      "userId": "04724296371017749786"
     },
     "user_tz": 240
    },
    "id": "GaM7UFV6yKE1",
    "outputId": "32823bdc-f5e9-4b35-b7fd-4fba413902f4"
   },
   "outputs": [
    {
     "name": "stdout",
     "output_type": "stream",
     "text": [
      "Collecting git+https://github.com/coaxlab/explorationlib\n",
      "  Cloning https://github.com/coaxlab/explorationlib to /tmp/pip-req-build-zdwwov4y\n",
      "  Running command git clone --filter=blob:none --quiet https://github.com/coaxlab/explorationlib /tmp/pip-req-build-zdwwov4y\n",
      "  Resolved https://github.com/coaxlab/explorationlib to commit 04d0edefd36e1dba8a598028ddf7a351ef35e051\n",
      "  Preparing metadata (setup.py) ... \u001b[?25l\u001b[?25hdone\n",
      "Requirement already satisfied: numpy in /usr/local/lib/python3.10/dist-packages (from explorationlib==0.0.1) (1.25.2)\n",
      "Requirement already satisfied: scipy in /usr/local/lib/python3.10/dist-packages (from explorationlib==0.0.1) (1.11.4)\n",
      "Requirement already satisfied: pandas in /usr/local/lib/python3.10/dist-packages (from explorationlib==0.0.1) (2.0.3)\n",
      "Requirement already satisfied: matplotlib in /usr/local/lib/python3.10/dist-packages (from explorationlib==0.0.1) (3.7.1)\n",
      "Requirement already satisfied: seaborn in /usr/local/lib/python3.10/dist-packages (from explorationlib==0.0.1) (0.13.1)\n",
      "Requirement already satisfied: scikit-learn in /usr/local/lib/python3.10/dist-packages (from explorationlib==0.0.1) (1.2.2)\n",
      "Requirement already satisfied: numba in /usr/local/lib/python3.10/dist-packages (from explorationlib==0.0.1) (0.58.1)\n",
      "Requirement already satisfied: future in /usr/local/lib/python3.10/dist-packages (from explorationlib==0.0.1) (0.18.3)\n",
      "Requirement already satisfied: contourpy>=1.0.1 in /usr/local/lib/python3.10/dist-packages (from matplotlib->explorationlib==0.0.1) (1.2.1)\n",
      "Requirement already satisfied: cycler>=0.10 in /usr/local/lib/python3.10/dist-packages (from matplotlib->explorationlib==0.0.1) (0.12.1)\n",
      "Requirement already satisfied: fonttools>=4.22.0 in /usr/local/lib/python3.10/dist-packages (from matplotlib->explorationlib==0.0.1) (4.53.0)\n",
      "Requirement already satisfied: kiwisolver>=1.0.1 in /usr/local/lib/python3.10/dist-packages (from matplotlib->explorationlib==0.0.1) (1.4.5)\n",
      "Requirement already satisfied: packaging>=20.0 in /usr/local/lib/python3.10/dist-packages (from matplotlib->explorationlib==0.0.1) (24.0)\n",
      "Requirement already satisfied: pillow>=6.2.0 in /usr/local/lib/python3.10/dist-packages (from matplotlib->explorationlib==0.0.1) (9.4.0)\n",
      "Requirement already satisfied: pyparsing>=2.3.1 in /usr/local/lib/python3.10/dist-packages (from matplotlib->explorationlib==0.0.1) (3.1.2)\n",
      "Requirement already satisfied: python-dateutil>=2.7 in /usr/local/lib/python3.10/dist-packages (from matplotlib->explorationlib==0.0.1) (2.8.2)\n",
      "Requirement already satisfied: llvmlite<0.42,>=0.41.0dev0 in /usr/local/lib/python3.10/dist-packages (from numba->explorationlib==0.0.1) (0.41.1)\n",
      "Requirement already satisfied: pytz>=2020.1 in /usr/local/lib/python3.10/dist-packages (from pandas->explorationlib==0.0.1) (2023.4)\n",
      "Requirement already satisfied: tzdata>=2022.1 in /usr/local/lib/python3.10/dist-packages (from pandas->explorationlib==0.0.1) (2024.1)\n",
      "Requirement already satisfied: joblib>=1.1.1 in /usr/local/lib/python3.10/dist-packages (from scikit-learn->explorationlib==0.0.1) (1.4.2)\n",
      "Requirement already satisfied: threadpoolctl>=2.0.0 in /usr/local/lib/python3.10/dist-packages (from scikit-learn->explorationlib==0.0.1) (3.5.0)\n",
      "Requirement already satisfied: six>=1.5 in /usr/local/lib/python3.10/dist-packages (from python-dateutil>=2.7->matplotlib->explorationlib==0.0.1) (1.16.0)\n",
      "Building wheels for collected packages: explorationlib\n",
      "  Building wheel for explorationlib (setup.py) ... \u001b[?25l\u001b[?25hdone\n",
      "  Created wheel for explorationlib: filename=explorationlib-0.0.1-py3-none-any.whl size=41492 sha256=f5a78b2786303f2a852c68b90ca680a0a70bbbe04c3829599e46e81441a64dcd\n",
      "  Stored in directory: /tmp/pip-ephem-wheel-cache-fauaun4y/wheels/71/57/e8/88c93e85ce02efaef024038b2ddcb6c6dec8a1a212f712bb05\n",
      "Successfully built explorationlib\n",
      "Installing collected packages: explorationlib\n",
      "Successfully installed explorationlib-0.0.1\n",
      "Collecting git+https://github.com/MattChanTK/gym-maze.git\n",
      "  Cloning https://github.com/MattChanTK/gym-maze.git to /tmp/pip-req-build-2twohfnd\n",
      "  Running command git clone --filter=blob:none --quiet https://github.com/MattChanTK/gym-maze.git /tmp/pip-req-build-2twohfnd\n",
      "  Resolved https://github.com/MattChanTK/gym-maze.git to commit 83176811b49b5538a6213520612f44fb1bc49114\n",
      "  Preparing metadata (setup.py) ... \u001b[?25l\u001b[?25hdone\n",
      "Requirement already satisfied: gym in /usr/local/lib/python3.10/dist-packages (from gym-maze==0.4) (0.25.2)\n",
      "Requirement already satisfied: pygame in /usr/local/lib/python3.10/dist-packages (from gym-maze==0.4) (2.5.2)\n",
      "Requirement already satisfied: numpy in /usr/local/lib/python3.10/dist-packages (from gym-maze==0.4) (1.25.2)\n",
      "Requirement already satisfied: cloudpickle>=1.2.0 in /usr/local/lib/python3.10/dist-packages (from gym->gym-maze==0.4) (2.2.1)\n",
      "Requirement already satisfied: gym-notices>=0.0.4 in /usr/local/lib/python3.10/dist-packages (from gym->gym-maze==0.4) (0.0.8)\n",
      "Building wheels for collected packages: gym-maze\n",
      "  Building wheel for gym-maze (setup.py) ... \u001b[?25l\u001b[?25hdone\n",
      "  Created wheel for gym-maze: filename=gym_maze-0.4-py3-none-any.whl size=14214 sha256=40567701c7fdd48af95806e0cce0e283ed164c3e9323cb7d0ea02866c706b123\n",
      "  Stored in directory: /tmp/pip-ephem-wheel-cache-0301wrl4/wheels/b0/53/2e/e282706624110bc964538d7840bef68fef2bc1865a87e3016e\n",
      "Successfully built gym-maze\n",
      "Installing collected packages: gym-maze\n",
      "Successfully installed gym-maze-0.4\n"
     ]
    }
   ],
   "source": [
    "!pip install --upgrade git+https://github.com/coaxlab/explorationlib\n",
    "!pip install --upgrade git+https://github.com/MattChanTK/gym-maze.git"
   ]
  },
  {
   "cell_type": "code",
   "execution_count": 2,
   "metadata": {
    "executionInfo": {
     "elapsed": 12245,
     "status": "ok",
     "timestamp": 1717682418001,
     "user": {
      "displayName": "Timothy Verstynen",
      "userId": "04724296371017749786"
     },
     "user_tz": 240
    },
    "id": "zI0CIEceyQx4"
   },
   "outputs": [],
   "source": [
    "import shutil\n",
    "import glob\n",
    "import os\n",
    "\n",
    "import numpy as np\n",
    "import pandas as pd\n",
    "import seaborn as sns\n",
    "import matplotlib.pyplot as plt\n",
    "from copy import deepcopy\n",
    "\n",
    "import explorationlib\n",
    "from explorationlib.local_gym import ScentGrid\n",
    "\n",
    "from explorationlib.agent import DiffusionGrid\n",
    "from explorationlib.agent import GradientDiffusionGrid\n",
    "\n",
    "\n",
    "from explorationlib.run import experiment\n",
    "from explorationlib.util import select_exp\n",
    "from explorationlib.util import load\n",
    "from explorationlib.util import save\n",
    "\n",
    "from explorationlib.local_gym import uniform_targets\n",
    "from explorationlib.local_gym import constant_values\n",
    "from explorationlib.local_gym import ScentGrid\n",
    "from explorationlib.local_gym import create_grid_scent\n",
    "from explorationlib.local_gym import add_noise\n",
    "from explorationlib.local_gym import create_grid_scent_patches\n",
    "\n",
    "from explorationlib.plot import plot_position2d\n",
    "from explorationlib.plot import plot_length_hist\n",
    "from explorationlib.plot import plot_length\n",
    "from explorationlib.plot import plot_targets2d\n",
    "from explorationlib.plot import plot_scent_grid\n",
    "from explorationlib.plot import plot_targets2d\n",
    "\n",
    "from explorationlib.score import total_reward\n",
    "from explorationlib.score import num_death"
   ]
  },
  {
   "cell_type": "code",
   "execution_count": 3,
   "metadata": {
    "executionInfo": {
     "elapsed": 200,
     "status": "ok",
     "timestamp": 1717682418195,
     "user": {
      "displayName": "Timothy Verstynen",
      "userId": "04724296371017749786"
     },
     "user_tz": 240
    },
    "id": "KQbjVvs6p1Zz"
   },
   "outputs": [],
   "source": [
    "# Pretty plots\n",
    "%matplotlib inline\n",
    "%config InlineBackend.figure_format='retina'\n",
    "%config IPCompleter.greedy=True\n",
    "plt.rcParams[\"axes.facecolor\"] = \"white\"\n",
    "plt.rcParams[\"figure.facecolor\"] = \"white\"\n",
    "plt.rcParams[\"font.size\"] = \"16\"\n",
    "\n",
    "# Dev\n",
    "%load_ext autoreload\n",
    "%autoreload 2"
   ]
  },
  {
   "cell_type": "markdown",
   "metadata": {
    "id": "sMxnPUlZzSN9"
   },
   "source": [
    "## Section 1 - Simulating noisy scents"
   ]
  },
  {
   "cell_type": "markdown",
   "metadata": {
    "id": "U5WQC2m1hnO0"
   },
   "source": [
    "To build some intuition, let's plot the \"scent\" emitted by a single target."
   ]
  },
  {
   "cell_type": "markdown",
   "metadata": {
    "id": "vJJ1HiR6h1Op"
   },
   "source": [
    "### Full Scent\n",
    "\n",
    "Okay, let's first visualize what the scent diffusion around each target looks like in the environment using the diffusion parameters we have set up."
   ]
  },
  {
   "cell_type": "code",
   "execution_count": 4,
   "metadata": {
    "executionInfo": {
     "elapsed": 1,
     "status": "ok",
     "timestamp": 1717682418196,
     "user": {
      "displayName": "Timothy Verstynen",
      "userId": "04724296371017749786"
     },
     "user_tz": 240
    },
    "id": "0fHcLlNpylrM"
   },
   "outputs": [],
   "source": [
    "target_boundary = (10, 10)"
   ]
  },
  {
   "cell_type": "code",
   "execution_count": 5,
   "metadata": {
    "colab": {
     "base_uri": "https://localhost:8080/",
     "height": 456
    },
    "executionInfo": {
     "elapsed": 714,
     "status": "ok",
     "timestamp": 1717682418909,
     "user": {
      "displayName": "Timothy Verstynen",
      "userId": "04724296371017749786"
     },
     "user_tz": 240
    },
    "id": "C-I19zVNymDT",
    "outputId": "e7b8e93c-17b2-4ed8-bc45-5462cf3c5a0b"
   },
   "outputs": [
    {
     "data": {
      "text/plain": [
       "<matplotlib.image.AxesImage at 0x7cdaad352350>"
      ]
     },
     "execution_count": 5,
     "metadata": {},
     "output_type": "execute_result"
    },
    {
     "data": {
      "image/png": "[encoded data removed]",
      "text/plain": [
       "<Figure size 640x480 with 1 Axes>"
      ]
     },
     "metadata": {
      "image/png": {
       "height": 420,
       "width": 448
      }
     },
     "output_type": "display_data"
    }
   ],
   "source": [
    "amplitude = 1\n",
    "\n",
    "coord, scent = create_grid_scent_patches(\n",
    "        target_boundary, p=1.0, amplitude=amplitude, sigma=2)\n",
    "\n",
    "plt.imshow(scent, interpolation=None)"
   ]
  },
  {
   "cell_type": "markdown",
   "metadata": {
    "id": "xeoYEn00zmqx"
   },
   "source": [
    "### Noisy Scent\n",
    "\n",
    "To corrupt the signal we can simply add more Gaussian noise. In this case we will use the *add_noise* function with a $\\sigma=1$."
   ]
  },
  {
   "cell_type": "code",
   "execution_count": 6,
   "metadata": {
    "colab": {
     "base_uri": "https://localhost:8080/",
     "height": 456
    },
    "executionInfo": {
     "elapsed": 876,
     "status": "ok",
     "timestamp": 1717682419782,
     "user": {
      "displayName": "Timothy Verstynen",
      "userId": "04724296371017749786"
     },
     "user_tz": 240
    },
    "id": "e6R0SV4Jyr2a",
    "outputId": "a681dc67-cf26-48ab-c2b7-5442230b5b9b"
   },
   "outputs": [
    {
     "data": {
      "text/plain": [
       "<matplotlib.image.AxesImage at 0x7cdaad28b6d0>"
      ]
     },
     "execution_count": 6,
     "metadata": {},
     "output_type": "execute_result"
    },
    {
     "data": {
      "image/png": "[encoded data removed]",
      "text/plain": [
       "<Figure size 640x480 with 1 Axes>"
      ]
     },
     "metadata": {
      "image/png": {
       "height": 420,
       "width": 448
      }
     },
     "output_type": "display_data"
    }
   ],
   "source": [
    "amplitude = 1\n",
    "noise_sigma = 1.0\n",
    "\n",
    "coord, scent = create_grid_scent_patches(target_boundary, p=1.0, amplitude=amplitude, sigma=2)\n",
    "scent = add_noise(scent, noise_sigma)\n",
    "\n",
    "plt.imshow(scent, interpolation=None)"
   ]
  },
  {
   "cell_type": "markdown",
   "metadata": {
    "id": "Zw1sOYGFilfl"
   },
   "source": [
    "Doesn't look resolvable does it? If you squint, maybe you can see it?\n",
    "\n",
    "In order to confirm that there is signal there, let's take a look at the average over 100 noisy targets."
   ]
  },
  {
   "cell_type": "code",
   "execution_count": 7,
   "metadata": {
    "colab": {
     "base_uri": "https://localhost:8080/",
     "height": 456
    },
    "executionInfo": {
     "elapsed": 346,
     "status": "ok",
     "timestamp": 1717682420124,
     "user": {
      "displayName": "Timothy Verstynen",
      "userId": "04724296371017749786"
     },
     "user_tz": 240
    },
    "id": "zPYe-pb5p1Z1",
    "outputId": "e795649d-810b-47bf-e886-8cd5c84dbf13"
   },
   "outputs": [
    {
     "data": {
      "text/plain": [
       "<matplotlib.image.AxesImage at 0x7cdaab148a30>"
      ]
     },
     "execution_count": 7,
     "metadata": {},
     "output_type": "execute_result"
    },
    {
     "data": {
      "image/png": "[encoded data removed]",
      "text/plain": [
       "<Figure size 640x480 with 1 Axes>"
      ]
     },
     "metadata": {
      "image/png": {
       "height": 420,
       "width": 448
      }
     },
     "output_type": "display_data"
    }
   ],
   "source": [
    "amplitude = 1\n",
    "noise_sigma = 1.0\n",
    "num_samples = 100\n",
    "\n",
    "scents = []\n",
    "for _ in range(num_samples):\n",
    "    coord, scent = create_grid_scent_patches(target_boundary, p=1.0, amplitude=1, sigma=2)\n",
    "    scent = add_noise(scent, noise_sigma)\n",
    "    scents.append(deepcopy(scent))\n",
    "\n",
    "scent = np.sum(scents, axis=0)\n",
    "\n",
    "plt.imshow(scent, interpolation=None)"
   ]
  },
  {
   "cell_type": "markdown",
   "metadata": {
    "id": "Zv0unH1ZkJxG"
   },
   "source": [
    "So, pretty noisy but resolvable."
   ]
  },
  {
   "cell_type": "markdown",
   "metadata": {
    "id": "bDeWuSfGkM8G"
   },
   "source": [
    "### Question 1.1\n",
    "\n",
    "Adding noise and lowering detection probability both act to increase distortion to the signal channel that will be used by our agents. Will this help or hinder the agents that use sensory signals and/or information to drive their decisions? Explain your answer."
   ]
  },
  {
   "cell_type": "code",
   "execution_count": 8,
   "metadata": {
    "executionInfo": {
     "elapsed": 252,
     "status": "ok",
     "timestamp": 1717682420374,
     "user": {
      "displayName": "Timothy Verstynen",
      "userId": "04724296371017749786"
     },
     "user_tz": 240
    },
    "id": "yEwtx5xSlFAV"
   },
   "outputs": [],
   "source": [
    "# Write your answer here, as a python comment"
   ]
  },
  {
   "cell_type": "markdown",
   "metadata": {
    "id": "Hri_qayrlN2C"
   },
   "source": [
    "### Question 1.2\n",
    "\n",
    "Re-run the simulations above, playing with both of the *noise_sigma* term, ranging from 1 to 10. What are the values for each parameter that lead to a complete loss in the scent signal even when averaging across 1000 samples?"
   ]
  },
  {
   "cell_type": "code",
   "execution_count": 9,
   "metadata": {
    "executionInfo": {
     "elapsed": 4,
     "status": "ok",
     "timestamp": 1717682420374,
     "user": {
      "displayName": "Timothy Verstynen",
      "userId": "04724296371017749786"
     },
     "user_tz": 240
    },
    "id": "vz861SVimGnr"
   },
   "outputs": [],
   "source": [
    "# Write your answer here, as a python comment"
   ]
  },
  {
   "cell_type": "markdown",
   "metadata": {
    "id": "JnKyN9oM0GTm"
   },
   "source": [
    "## Section 2 - Using Basic Sensory Evidence To Explore"
   ]
  },
  {
   "cell_type": "markdown",
   "metadata": {
    "id": "IpB4JhugmNJE"
   },
   "source": [
    "\n",
    "In this section we take on the simplest form of sensory tracking: whether or not a chemical gradient is increasing or decreasing.\n",
    "\n",
    "We start by setting up our basic environment."
   ]
  },
  {
   "cell_type": "code",
   "execution_count": 10,
   "metadata": {
    "executionInfo": {
     "elapsed": 3,
     "status": "ok",
     "timestamp": 1717682420374,
     "user": {
      "displayName": "Timothy Verstynen",
      "userId": "04724296371017749786"
     },
     "user_tz": 240
    },
    "id": "StauX74y0QjT"
   },
   "outputs": [],
   "source": [
    "# Noise scents\n",
    "noise_sigma = 2 # We'll make it pretty noisy\n",
    "\n",
    "# Shared\n",
    "num_experiments = 100\n",
    "num_steps = 200\n",
    "seed_value = 5838\n",
    "\n",
    "# ! (leave alone)\n",
    "min_length = 1\n",
    "num_targets = 25\n",
    "target_boundary = (40, 40)\n",
    "\n",
    "# Targets\n",
    "prng = np.random.RandomState(seed_value)\n",
    "targets = uniform_targets(num_targets, target_boundary, prng=prng)\n",
    "values = constant_values(targets, 1)\n",
    "\n",
    "# Scents\n",
    "scents = []\n",
    "for _ in range(len(targets)):\n",
    "    coord, scent = create_grid_scent_patches(\n",
    "        target_boundary, p=1.0, amplitude=1, sigma=2)\n",
    "    scents.append(scent)\n",
    "\n",
    "# Env\n",
    "env = ScentGrid(mode=None)\n",
    "env.seed(seed_value)\n",
    "env.add_scents(targets, values, coord, scents, noise_sigma=noise_sigma)"
   ]
  },
  {
   "cell_type": "markdown",
   "metadata": {
    "id": "ip-6AMyMmzjk"
   },
   "source": [
    "Again we are working a scent grid environment where each target emits noisy chemical signals (scents) according to our definitions above.\n",
    "\n",
    "We will want the environment to be relatively sparse, to make the task somewhat difficult. Thus we will only generate 25 targets in a big open field.\n",
    "\n",
    "Here's an example of our environment"
   ]
  },
  {
   "cell_type": "code",
   "execution_count": 11,
   "metadata": {
    "colab": {
     "base_uri": "https://localhost:8080/",
     "height": 334
    },
    "executionInfo": {
     "elapsed": 216,
     "status": "ok",
     "timestamp": 1717682420588,
     "user": {
      "displayName": "Timothy Verstynen",
      "userId": "04724296371017749786"
     },
     "user_tz": 240
    },
    "id": "4xKn5Oog3HB8",
    "outputId": "1a113635-e09f-40d7-ee4f-c2f3b9baf7ed"
   },
   "outputs": [
    {
     "data": {
      "image/png": "[encoded data removed]",
      "text/plain": [
       "<Figure size 300x300 with 1 Axes>"
      ]
     },
     "metadata": {
      "image/png": {
       "height": 317,
       "width": 507
      }
     },
     "output_type": "display_data"
    }
   ],
   "source": [
    "plot_boundary = target_boundary\n",
    "ax = None\n",
    "ax = plot_targets2d(\n",
    "    env,\n",
    "    boundary=plot_boundary,\n",
    "    color=\"black\",\n",
    "    alpha=1,\n",
    "    label=\"Targets\",\n",
    "    ax=ax,\n",
    ")"
   ]
  },
  {
   "cell_type": "markdown",
   "metadata": {
    "id": "4SRoMBksnAML"
   },
   "source": [
    "We will use 2 agents in these sims:\n",
    "\n",
    "- Rando: Uses random Brownian motion search.\n",
    "- Chemo: Uses only the detected scent gradient to make a decision as to whether or not to \"jump\".\n",
    "\n",
    "How do these agents work? Check the explorationlib code for details.\n",
    "\n",
    "* In the left panel on Colab, click on the file icon to access the file view for your Colab notebook.\n",
    "* Click the \"..\" file to go up one level (if necessary) and then navigate to `/usr/local/lib/python3.XX/dist-packages/explorationlib/agent.py` and double click the file (or just click the link in this bullet) to open up the library's code for defining exploration agents.\n",
    "* Find the _DiffusionGrid_ and _GradientDiffusionGrid_ functions to see how they are implemented."
   ]
  },
  {
   "cell_type": "code",
   "execution_count": 12,
   "metadata": {
    "colab": {
     "base_uri": "https://localhost:8080/"
    },
    "executionInfo": {
     "elapsed": 152,
     "status": "ok",
     "timestamp": 1717682420737,
     "user": {
      "displayName": "Timothy Verstynen",
      "userId": "04724296371017749786"
     },
     "user_tz": 240
    },
    "id": "hvKupKt10V5s",
    "outputId": "ee1a45e4-4cc5-4182-8bf4-25a48ff8c77c"
   },
   "outputs": [
    {
     "data": {
      "text/plain": [
       "[5838]"
      ]
     },
     "execution_count": 12,
     "metadata": {},
     "output_type": "execute_result"
    }
   ],
   "source": [
    "# Agents\n",
    "\n",
    "# Random search agent\n",
    "diff = DiffusionGrid(min_length=min_length, scale=1)\n",
    "diff.seed(seed_value)\n",
    "\n",
    "# Chemotaxis agent\n",
    "min_length = 1 # Minimum step length on the grid\n",
    "scale = 4 # The smaller this value, the bigger the Levy flights\n",
    "p_neg = 0.8 # Probability of jumping if gradient is decreasing\n",
    "p_pos = 0.2 # Probabilty of jumping if gradient is increasing\n",
    "chemo = GradientDiffusionGrid(\n",
    "    min_length=min_length,\n",
    "    scale=scale,\n",
    "    p_neg=p_neg,\n",
    "    p_pos=p_pos,\n",
    ")\n",
    "chemo.seed(seed_value)\n"
   ]
  },
  {
   "cell_type": "markdown",
   "metadata": {
    "id": "awCEAAyGngBm"
   },
   "source": [
    "Now let's run the experiments."
   ]
  },
  {
   "cell_type": "code",
   "execution_count": 13,
   "metadata": {
    "colab": {
     "base_uri": "https://localhost:8080/",
     "height": 81,
     "referenced_widgets": [
      "4b5f40e0ca6a478cb08f3515a17088ab",
      "1b15f0aad26c4520a284176e2286c772",
      "e30e0cffe8144f3fae09c3f7d1ace552",
      "beb6c0cfc6674378943d1c166144535e",
      "4182cbaccfdb4891a8312658932c08a5",
      "e7ed53b60b9e4d709ed023b16b5b9bb3",
      "f007dd4637a34d959eeb4436c34bc2f0",
      "aec8dcbc372f48fb8407650cb50c65b2",
      "71ae967b3299478984caf3e08b4e4dac",
      "56a1aeb51af94a58b96f9b98b7be63ba",
      "815cc04a1f684cd9a22e919862b2ba46",
      "ee0124cd96964242bf373c969cb4d09d",
      "eea055146883404a9a936928dae9779e",
      "c5e95b8163e74704adeaed334b96fcb8",
      "c83ac65e00374ecc8f3bd76fc4dd3a4e",
      "1eeed926d5344c54aad861112fc6c371",
      "f65b342408e247c4a8d693063410bb02",
      "54d0fd5012204ed8978dfffdf07ee558",
      "0259f618e79d44c88c2b1bd07ad5b132",
      "5898816a58dd44ce80b6feac604f55de",
      "59f9c15a9d8d4bc6ae55054782cde3f9",
      "1770d6bd07da457a906e8c61433d6726"
     ]
    },
    "executionInfo": {
     "elapsed": 36394,
     "status": "ok",
     "timestamp": 1717682457128,
     "user": {
      "displayName": "Timothy Verstynen",
      "userId": "04724296371017749786"
     },
     "user_tz": 240
    },
    "id": "rVTGtSPT0fN_",
    "outputId": "9a8f8e8a-3a4d-4b14-c20d-0b8803e239e7"
   },
   "outputs": [
    {
     "data": {
      "application/vnd.jupyter.widget-view+json": {
       "model_id": "4b5f40e0ca6a478cb08f3515a17088ab",
       "version_major": 2,
       "version_minor": 0
      },
      "text/plain": [
       "rand:   0%|          | 0/100 [00:00<?, ?it/s]"
      ]
     },
     "metadata": {},
     "output_type": "display_data"
    },
    {
     "data": {
      "application/vnd.jupyter.widget-view+json": {
       "model_id": "ee0124cd96964242bf373c969cb4d09d",
       "version_major": 2,
       "version_minor": 0
      },
      "text/plain": [
       "chemo:   0%|          | 0/100 [00:00<?, ?it/s]"
      ]
     },
     "metadata": {},
     "output_type": "display_data"
    }
   ],
   "source": [
    "# Experiments\n",
    "rand_exp = experiment(\n",
    "    f\"rand\",\n",
    "    diff,\n",
    "    env,\n",
    "    num_steps=num_steps,\n",
    "    num_experiments=num_experiments,\n",
    "    dump=False,\n",
    "    split_state=True,\n",
    "    seed=seed_value\n",
    ")\n",
    "chemo_exp = experiment(\n",
    "    f\"chemo\",\n",
    "    chemo,\n",
    "    env,\n",
    "    num_steps=num_steps,\n",
    "    num_experiments=num_experiments,\n",
    "    dump=False,\n",
    "    split_state=True,\n",
    "    seed=seed_value\n",
    ")"
   ]
  },
  {
   "cell_type": "markdown",
   "metadata": {
    "id": "aNn5xm5nno3t"
   },
   "source": [
    "Let's plot an example experiment. Here I'm choosing the second run for each agent."
   ]
  },
  {
   "cell_type": "code",
   "execution_count": 14,
   "metadata": {
    "colab": {
     "base_uri": "https://localhost:8080/",
     "height": 334
    },
    "executionInfo": {
     "elapsed": 513,
     "status": "ok",
     "timestamp": 1717682457637,
     "user": {
      "displayName": "Timothy Verstynen",
      "userId": "04724296371017749786"
     },
     "user_tz": 240
    },
    "id": "-1x_tV4C0jMS",
    "outputId": "fe86bfa6-cf77-48db-d4fa-402786551dc8"
   },
   "outputs": [
    {
     "data": {
      "image/png": "[encoded data removed]",
      "text/plain": [
       "<Figure size 300x300 with 1 Axes>"
      ]
     },
     "metadata": {
      "image/png": {
       "height": 317,
       "width": 507
      }
     },
     "output_type": "display_data"
    }
   ],
   "source": [
    "plot_boundary = target_boundary\n",
    "\n",
    "# -\n",
    "num_experiment = 2\n",
    "ax = None\n",
    "ax = plot_position2d(\n",
    "    select_exp(chemo_exp, num_experiment),\n",
    "    boundary=plot_boundary,\n",
    "    label=\"Chemo\",\n",
    "    color=\"blue\",\n",
    "    alpha=0.6,\n",
    "    ax=ax,\n",
    ")\n",
    "ax = plot_position2d(\n",
    "    select_exp(rand_exp, num_experiment),\n",
    "    boundary=plot_boundary,\n",
    "    label=\"Rando\",\n",
    "    color=\"red\",\n",
    "    alpha=0.8,\n",
    "    ax=ax,\n",
    ")\n",
    "ax = plot_targets2d(\n",
    "    env,\n",
    "    boundary=plot_boundary,\n",
    "    color=\"black\",\n",
    "    alpha=1,\n",
    "    label=\"Targets\",\n",
    "    ax=ax,\n",
    ")"
   ]
  },
  {
   "cell_type": "markdown",
   "metadata": {
    "id": "Sw96O-9pnzTb"
   },
   "source": [
    "Hard to distinguish their individual behaviors, but our agents seem to be exploring. It looks like this Chemo agent may be moving more than the Rando counterpart. So let's look at the overall distance both agents cover.\n"
   ]
  },
  {
   "cell_type": "code",
   "execution_count": 15,
   "metadata": {
    "colab": {
     "base_uri": "https://localhost:8080/",
     "height": 290
    },
    "executionInfo": {
     "elapsed": 449,
     "status": "ok",
     "timestamp": 1717682458085,
     "user": {
      "displayName": "Timothy Verstynen",
      "userId": "04724296371017749786"
     },
     "user_tz": 240
    },
    "id": "ICBnDBbep1Z7",
    "outputId": "43f2aee8-07c6-423a-9d32-e5e6c6a39f12"
   },
   "outputs": [
    {
     "data": {
      "image/png": "[encoded data removed]",
      "text/plain": [
       "<Figure size 400x300 with 1 Axes>"
      ]
     },
     "metadata": {
      "image/png": {
       "height": 273,
       "width": 373
      }
     },
     "output_type": "display_data"
    }
   ],
   "source": [
    "# Results\n",
    "results = [rand_exp, chemo_exp]\n",
    "names = [\"Rando\", \"Chemo\"]\n",
    "colors = [\"red\", \"blue\"]\n",
    "\n",
    "# Score by eff\n",
    "scores = []\n",
    "for name, res, color in zip(names, results, colors):\n",
    "    l = 0.0\n",
    "    for r in res:\n",
    "        l += r[\"agent_total_l\"][-1]\n",
    "    scores.append(l)\n",
    "\n",
    "# Tabulate\n",
    "m, sd = [], []\n",
    "for (name, s, c) in zip(names, scores, colors):\n",
    "    m.append(np.mean(s))\n",
    "    sd.append(np.std(s))\n",
    "\n",
    "# Plot means\n",
    "fig = plt.figure(figsize=(4, 3))\n",
    "plt.bar(names, m, yerr=sd, color=\"black\", alpha=0.6)\n",
    "plt.ylabel(\"Total distance\")\n",
    "plt.tight_layout()\n",
    "sns.despine()"
   ]
  },
  {
   "cell_type": "markdown",
   "metadata": {
    "id": "xFi2XXa-shag"
   },
   "source": [
    "Clearly the Chemo agent is moving more."
   ]
  },
  {
   "cell_type": "markdown",
   "metadata": {
    "id": "JtpQUbsGsmsR"
   },
   "source": [
    "### Question 2.1\n",
    "\n",
    "Why is the Chemo agent covering more distance?"
   ]
  },
  {
   "cell_type": "code",
   "execution_count": 16,
   "metadata": {
    "executionInfo": {
     "elapsed": 4,
     "status": "ok",
     "timestamp": 1717682458085,
     "user": {
      "displayName": "Timothy Verstynen",
      "userId": "04724296371017749786"
     },
     "user_tz": 240
    },
    "id": "_FypAsM0stMO"
   },
   "outputs": [],
   "source": [
    "# Write your answer here as a comment. Explain yourself."
   ]
  },
  {
   "cell_type": "markdown",
   "metadata": {
    "id": "jKi3FEL-sx_a"
   },
   "source": [
    "Okay, now we can look at the overall performance of the two agents.\n",
    "\n",
    "First, let's look at the most extreme performance measure: deaths. If an agent does not reach _at least one_ food pellet, then it dies at the end of the simulation. You've got to eat to survive afterall. Out of our set of simulations, how many deaths occured with each agent?"
   ]
  },
  {
   "cell_type": "code",
   "execution_count": 17,
   "metadata": {
    "colab": {
     "base_uri": "https://localhost:8080/",
     "height": 354,
     "referenced_widgets": [
      "8b0f13f008864c999375ec69eedfa746",
      "ef040d63f4eb4014b1ba8a692c4f95aa",
      "d25bcb705e454a72a893f584c293e43f",
      "8d272bbc650848ef8589f8dca6dddd41",
      "d97c8f3b37d74df68e278bf2e17c7056",
      "eddaf7149ec043e8b8c13af59fc8b647",
      "bbfa2a8b5ddc4c158f8c5efff7eb8d75",
      "feadd5b26f5e4f4090117141c6c04d11",
      "944722610cbc40adbf78927538529fc1",
      "e82f19c0e9ca408daa05270326c0580c",
      "a314d1c507254aa7923be50a06b47916",
      "6faaf8e411324f5f836ab213b9d2f491",
      "e56b4ad753344e4dbf9dd1170c9b034b",
      "a69adc30c1df457a9e26666ffbddec2c",
      "11688e05d555421eb3b156fd760cc6ee",
      "f701d31b3a1649528e0501c3461d3c0e",
      "d49152e9ecb7405abab0612d1de603a0",
      "a95767ccb7d5427d8096168114596119",
      "c82de1378a184655bc93082a7badf75c",
      "a63da627af6e48b484411c8c174046e4",
      "a13078e36e6c45f0be285a74fa1cc760",
      "1a8d8640ef6d409aaae9e68f90d2c9f4"
     ]
    },
    "executionInfo": {
     "elapsed": 671,
     "status": "ok",
     "timestamp": 1717682458752,
     "user": {
      "displayName": "Timothy Verstynen",
      "userId": "04724296371017749786"
     },
     "user_tz": 240
    },
    "id": "yPaHH65P2EP8",
    "outputId": "371d4e56-d8c5-478b-ce92-6ff30ec9cf7c"
   },
   "outputs": [
    {
     "data": {
      "application/vnd.jupyter.widget-view+json": {
       "model_id": "8b0f13f008864c999375ec69eedfa746",
       "version_major": 2,
       "version_minor": 0
      },
      "text/plain": [
       "num_death:   0%|          | 0/100 [00:00<?, ?it/s]"
      ]
     },
     "metadata": {},
     "output_type": "display_data"
    },
    {
     "data": {
      "application/vnd.jupyter.widget-view+json": {
       "model_id": "6faaf8e411324f5f836ab213b9d2f491",
       "version_major": 2,
       "version_minor": 0
      },
      "text/plain": [
       "num_death:   0%|          | 0/100 [00:00<?, ?it/s]"
      ]
     },
     "metadata": {},
     "output_type": "display_data"
    },
    {
     "data": {
      "image/png": "[encoded data removed]",
      "text/plain": [
       "<Figure size 400x300 with 1 Axes>"
      ]
     },
     "metadata": {
      "image/png": {
       "height": 273,
       "width": 373
      }
     },
     "output_type": "display_data"
    }
   ],
   "source": [
    "# Results\n",
    "results = [rand_exp, chemo_exp]\n",
    "names = [\"Rando\", \"Chemo\"]\n",
    "colors = [\"red\", \"blue\"]\n",
    "\n",
    "# Score by eff\n",
    "scores = []\n",
    "for name, res, color in zip(names, results, colors):\n",
    "    scores.append(num_death(res))\n",
    "\n",
    "# Tabulate\n",
    "m, sd = [], []\n",
    "for (name, s, c) in zip(names, scores, colors):\n",
    "    m.append(np.mean(s))\n",
    "    sd.append(np.std(s))\n",
    "\n",
    "# Plot means\n",
    "fig = plt.figure(figsize=(4, 3))\n",
    "plt.bar(names, m, yerr=sd, color=\"black\", alpha=0.6)\n",
    "plt.ylabel(\"Deaths\")\n",
    "plt.tight_layout()\n",
    "sns.despine()"
   ]
  },
  {
   "cell_type": "code",
   "execution_count": 18,
   "metadata": {
    "colab": {
     "base_uri": "https://localhost:8080/",
     "height": 829,
     "referenced_widgets": [
      "269051f596aa4dc391cb3992fc9edf84",
      "4b12ddfee09a46408bf68834efaf44b7",
      "674a05c75e6a43e1bd0217c3a0b28842",
      "5b9ef34355ad4458bcc4b6f4cc26e8af",
      "c062acb3852c476da034d4773d722c1e",
      "b382115b7a50418c9215c2c0c5433bdc",
      "5c4d5b52b34e492b9155452d6075dd08",
      "0e3db370c3a74555a33183afb51e80cc",
      "9dc3c21d3d9f41468ede758510c7943f",
      "b6fc0fe0b56a45f7813f26e22a6a5d86",
      "0abb0246300247c58b7833df40d3e89b",
      "f1b1b088464d409bb10d72a6302b12c1",
      "94a8419fea3f4f9fa876ee0f390f3609",
      "2354c9ffe50344e58a26c862115baa49",
      "e6aacaa9f4714b769d11a525821c6aeb",
      "c7c059375b5141518775a13778386f55",
      "8749deaaa13f4dd88d4fb118c9cb25f2",
      "34487412cf8b4bb08a1722086ae8d3cf",
      "a0525065861c464ab915e5f3e6aab7d1",
      "74d9ed9d047b421e80a3215da41d8eac",
      "a04284a1924e45cfb6c187170439f88a",
      "7c469ec18ebe44008bab69860a04f88c"
     ]
    },
    "executionInfo": {
     "elapsed": 1063,
     "status": "ok",
     "timestamp": 1717682459811,
     "user": {
      "displayName": "Timothy Verstynen",
      "userId": "04724296371017749786"
     },
     "user_tz": 240
    },
    "id": "7Kl9LjUL2IMK",
    "outputId": "dcd1a4e6-97c7-431b-a067-b1e567244053"
   },
   "outputs": [
    {
     "data": {
      "application/vnd.jupyter.widget-view+json": {
       "model_id": "269051f596aa4dc391cb3992fc9edf84",
       "version_major": 2,
       "version_minor": 0
      },
      "text/plain": [
       "total_reward:   0%|          | 0/100 [00:00<?, ?it/s]"
      ]
     },
     "metadata": {},
     "output_type": "display_data"
    },
    {
     "data": {
      "application/vnd.jupyter.widget-view+json": {
       "model_id": "f1b1b088464d409bb10d72a6302b12c1",
       "version_major": 2,
       "version_minor": 0
      },
      "text/plain": [
       "total_reward:   0%|          | 0/100 [00:00<?, ?it/s]"
      ]
     },
     "metadata": {},
     "output_type": "display_data"
    },
    {
     "data": {
      "image/png": "[encoded data removed]",
      "text/plain": [
       "<Figure size 500x400 with 1 Axes>"
      ]
     },
     "metadata": {
      "image/png": {
       "height": 373,
       "width": 473
      }
     },
     "output_type": "display_data"
    },
    {
     "data": {
      "image/png": "[encoded data removed]",
      "text/plain": [
       "<Figure size 500x400 with 1 Axes>"
      ]
     },
     "metadata": {
      "image/png": {
       "height": 375,
       "width": 471
      }
     },
     "output_type": "display_data"
    }
   ],
   "source": [
    "# Results\n",
    "results = [rand_exp, chemo_exp]\n",
    "names = [\"Rando\", \"Chemo\"]\n",
    "colors = [\"red\", \"blue\"]\n",
    "\n",
    "# Score by eff\n",
    "scores = []\n",
    "for name, res, color in zip(names, results, colors):\n",
    "    r = total_reward(res)\n",
    "    scores.append(r)\n",
    "\n",
    "# Tabulate\n",
    "m, sd = [], []\n",
    "for (name, s, c) in zip(names, scores, colors):\n",
    "    m.append(np.mean(s))\n",
    "    sd.append(np.std(s))\n",
    "\n",
    "# Plot means\n",
    "fig = plt.figure(figsize=(5, 4))\n",
    "plt.bar(names, m, yerr=sd, color=\"black\", alpha=0.6)\n",
    "plt.ylabel(\"Total reward\")\n",
    "plt.tight_layout()\n",
    "sns.despine()\n",
    "\n",
    "# Dists\n",
    "fig = plt.figure(figsize=(5, 4))\n",
    "for (name, s, c) in zip(names, scores, colors):\n",
    "    plt.hist(s, label=name, color=c, alpha=0.5, bins=np.linspace(0, np.max(scores), 50))\n",
    "    plt.legend()\n",
    "    plt.xlabel(\"Score\")\n",
    "    plt.tight_layout()\n",
    "    sns.despine()"
   ]
  },
  {
   "cell_type": "markdown",
   "metadata": {
    "id": "n1-KWIgnn_Rp"
   },
   "source": [
    "### Question 2.2\n",
    "\n",
    "How do each of our agents perform across the performance measures we have chosen?"
   ]
  },
  {
   "cell_type": "code",
   "execution_count": 19,
   "metadata": {
    "executionInfo": {
     "elapsed": 2,
     "status": "ok",
     "timestamp": 1717682459811,
     "user": {
      "displayName": "Timothy Verstynen",
      "userId": "04724296371017749786"
     },
     "user_tz": 240
    },
    "id": "yqI8WJQjoMsi"
   },
   "outputs": [],
   "source": [
    "# Write your answer here as a comment. Explain yourself."
   ]
  }
 ],
 "metadata": {
  "colab": {
   "provenance": []
  },
  "kernelspec": {
   "display_name": "Python 3 (ipykernel)",
   "language": "python",
   "name": "python3"
  },
  "language_info": {
   "codemirror_mode": {
    "name": "ipython",
    "version": 3
   },
   "file_extension": ".py",
   "mimetype": "text/x-python",
   "name": "python",
   "nbconvert_exporter": "python",
   "pygments_lexer": "ipython3",
   "version": "3.8.3"
  },
  "widgets": {
   "application/vnd.jupyter.widget-state+json": {
    "0259f618e79d44c88c2b1bd07ad5b132": {
     "model_module": "@jupyter-widgets/base",
     "model_module_version": "1.2.0",
     "model_name": "LayoutModel",
     "state": {
      "_model_module": "@jupyter-widgets/base",
      "_model_module_version": "1.2.0",
      "_model_name": "LayoutModel",
      "_view_count": null,
      "_view_module": "@jupyter-widgets/base",
      "_view_module_version": "1.2.0",
      "_view_name": "LayoutView",
      "align_content": null,
      "align_items": null,
      "align_self": null,
      "border": null,
      "bottom": null,
      "display": null,
      "flex": null,
      "flex_flow": null,
      "grid_area": null,
      "grid_auto_columns": null,
      "grid_auto_flow": null,
      "grid_auto_rows": null,
      "grid_column": null,
      "grid_gap": null,
      "grid_row": null,
      "grid_template_areas": null,
      "grid_template_columns": null,
      "grid_template_rows": null,
      "height": null,
      "justify_content": null,
      "justify_items": null,
      "left": null,
      "margin": null,
      "max_height": null,
      "max_width": null,
      "min_height": null,
      "min_width": null,
      "object_fit": null,
      "object_position": null,
      "order": null,
      "overflow": null,
      "overflow_x": null,
      "overflow_y": null,
      "padding": null,
      "right": null,
      "top": null,
      "visibility": null,
      "width": null
     }
    },
    "0abb0246300247c58b7833df40d3e89b": {
     "model_module": "@jupyter-widgets/controls",
     "model_module_version": "1.5.0",
     "model_name": "DescriptionStyleModel",
     "state": {
      "_model_module": "@jupyter-widgets/controls",
      "_model_module_version": "1.5.0",
      "_model_name": "DescriptionStyleModel",
      "_view_count": null,
      "_view_module": "@jupyter-widgets/base",
      "_view_module_version": "1.2.0",
      "_view_name": "StyleView",
      "description_width": ""
     }
    },
    "0e3db370c3a74555a33183afb51e80cc": {
     "model_module": "@jupyter-widgets/base",
     "model_module_version": "1.2.0",
     "model_name": "LayoutModel",
     "state": {
      "_model_module": "@jupyter-widgets/base",
      "_model_module_version": "1.2.0",
      "_model_name": "LayoutModel",
      "_view_count": null,
      "_view_module": "@jupyter-widgets/base",
      "_view_module_version": "1.2.0",
      "_view_name": "LayoutView",
      "align_content": null,
      "align_items": null,
      "align_self": null,
      "border": null,
      "bottom": null,
      "display": null,
      "flex": null,
      "flex_flow": null,
      "grid_area": null,
      "grid_auto_columns": null,
      "grid_auto_flow": null,
      "grid_auto_rows": null,
      "grid_column": null,
      "grid_gap": null,
      "grid_row": null,
      "grid_template_areas": null,
      "grid_template_columns": null,
      "grid_template_rows": null,
      "height": null,
      "justify_content": null,
      "justify_items": null,
      "left": null,
      "margin": null,
      "max_height": null,
      "max_width": null,
      "min_height": null,
      "min_width": null,
      "object_fit": null,
      "object_position": null,
      "order": null,
      "overflow": null,
      "overflow_x": null,
      "overflow_y": null,
      "padding": null,
      "right": null,
      "top": null,
      "visibility": null,
      "width": null
     }
    },
    "11688e05d555421eb3b156fd760cc6ee": {
     "model_module": "@jupyter-widgets/controls",
     "model_module_version": "1.5.0",
     "model_name": "HTMLModel",
     "state": {
      "_dom_classes": [],
      "_model_module": "@jupyter-widgets/controls",
      "_model_module_version": "1.5.0",
      "_model_name": "HTMLModel",
      "_view_count": null,
      "_view_module": "@jupyter-widgets/controls",
      "_view_module_version": "1.5.0",
      "_view_name": "HTMLView",
      "description": "",
      "description_tooltip": null,
      "layout": "IPY_MODEL_a13078e36e6c45f0be285a74fa1cc760",
      "placeholder": "​",
      "style": "IPY_MODEL_1a8d8640ef6d409aaae9e68f90d2c9f4",
      "value": " 100/100 [00:00&lt;00:00, 4170.03it/s]"
     }
    },
    "1770d6bd07da457a906e8c61433d6726": {
     "model_module": "@jupyter-widgets/controls",
     "model_module_version": "1.5.0",
     "model_name": "DescriptionStyleModel",
     "state": {
      "_model_module": "@jupyter-widgets/controls",
      "_model_module_version": "1.5.0",
      "_model_name": "DescriptionStyleModel",
      "_view_count": null,
      "_view_module": "@jupyter-widgets/base",
      "_view_module_version": "1.2.0",
      "_view_name": "StyleView",
      "description_width": ""
     }
    },
    "1a8d8640ef6d409aaae9e68f90d2c9f4": {
     "model_module": "@jupyter-widgets/controls",
     "model_module_version": "1.5.0",
     "model_name": "DescriptionStyleModel",
     "state": {
      "_model_module": "@jupyter-widgets/controls",
      "_model_module_version": "1.5.0",
      "_model_name": "DescriptionStyleModel",
      "_view_count": null,
      "_view_module": "@jupyter-widgets/base",
      "_view_module_version": "1.2.0",
      "_view_name": "StyleView",
      "description_width": ""
     }
    },
    "1b15f0aad26c4520a284176e2286c772": {
     "model_module": "@jupyter-widgets/controls",
     "model_module_version": "1.5.0",
     "model_name": "HTMLModel",
     "state": {
      "_dom_classes": [],
      "_model_module": "@jupyter-widgets/controls",
      "_model_module_version": "1.5.0",
      "_model_name": "HTMLModel",
      "_view_count": null,
      "_view_module": "@jupyter-widgets/controls",
      "_view_module_version": "1.5.0",
      "_view_name": "HTMLView",
      "description": "",
      "description_tooltip": null,
      "layout": "IPY_MODEL_e7ed53b60b9e4d709ed023b16b5b9bb3",
      "placeholder": "​",
      "style": "IPY_MODEL_f007dd4637a34d959eeb4436c34bc2f0",
      "value": "rand: 100%"
     }
    },
    "1eeed926d5344c54aad861112fc6c371": {
     "model_module": "@jupyter-widgets/base",
     "model_module_version": "1.2.0",
     "model_name": "LayoutModel",
     "state": {
      "_model_module": "@jupyter-widgets/base",
      "_model_module_version": "1.2.0",
      "_model_name": "LayoutModel",
      "_view_count": null,
      "_view_module": "@jupyter-widgets/base",
      "_view_module_version": "1.2.0",
      "_view_name": "LayoutView",
      "align_content": null,
      "align_items": null,
      "align_self": null,
      "border": null,
      "bottom": null,
      "display": null,
      "flex": null,
      "flex_flow": null,
      "grid_area": null,
      "grid_auto_columns": null,
      "grid_auto_flow": null,
      "grid_auto_rows": null,
      "grid_column": null,
      "grid_gap": null,
      "grid_row": null,
      "grid_template_areas": null,
      "grid_template_columns": null,
      "grid_template_rows": null,
      "height": null,
      "justify_content": null,
      "justify_items": null,
      "left": null,
      "margin": null,
      "max_height": null,
      "max_width": null,
      "min_height": null,
      "min_width": null,
      "object_fit": null,
      "object_position": null,
      "order": null,
      "overflow": null,
      "overflow_x": null,
      "overflow_y": null,
      "padding": null,
      "right": null,
      "top": null,
      "visibility": null,
      "width": null
     }
    },
    "2354c9ffe50344e58a26c862115baa49": {
     "model_module": "@jupyter-widgets/controls",
     "model_module_version": "1.5.0",
     "model_name": "FloatProgressModel",
     "state": {
      "_dom_classes": [],
      "_model_module": "@jupyter-widgets/controls",
      "_model_module_version": "1.5.0",
      "_model_name": "FloatProgressModel",
      "_view_count": null,
      "_view_module": "@jupyter-widgets/controls",
      "_view_module_version": "1.5.0",
      "_view_name": "ProgressView",
      "bar_style": "success",
      "description": "",
      "description_tooltip": null,
      "layout": "IPY_MODEL_a0525065861c464ab915e5f3e6aab7d1",
      "max": 100,
      "min": 0,
      "orientation": "horizontal",
      "style": "IPY_MODEL_74d9ed9d047b421e80a3215da41d8eac",
      "value": 100
     }
    },
    "269051f596aa4dc391cb3992fc9edf84": {
     "model_module": "@jupyter-widgets/controls",
     "model_module_version": "1.5.0",
     "model_name": "HBoxModel",
     "state": {
      "_dom_classes": [],
      "_model_module": "@jupyter-widgets/controls",
      "_model_module_version": "1.5.0",
      "_model_name": "HBoxModel",
      "_view_count": null,
      "_view_module": "@jupyter-widgets/controls",
      "_view_module_version": "1.5.0",
      "_view_name": "HBoxView",
      "box_style": "",
      "children": [
       "IPY_MODEL_4b12ddfee09a46408bf68834efaf44b7",
       "IPY_MODEL_674a05c75e6a43e1bd0217c3a0b28842",
       "IPY_MODEL_5b9ef34355ad4458bcc4b6f4cc26e8af"
      ],
      "layout": "IPY_MODEL_c062acb3852c476da034d4773d722c1e"
     }
    },
    "34487412cf8b4bb08a1722086ae8d3cf": {
     "model_module": "@jupyter-widgets/controls",
     "model_module_version": "1.5.0",
     "model_name": "DescriptionStyleModel",
     "state": {
      "_model_module": "@jupyter-widgets/controls",
      "_model_module_version": "1.5.0",
      "_model_name": "DescriptionStyleModel",
      "_view_count": null,
      "_view_module": "@jupyter-widgets/base",
      "_view_module_version": "1.2.0",
      "_view_name": "StyleView",
      "description_width": ""
     }
    },
    "4182cbaccfdb4891a8312658932c08a5": {
     "model_module": "@jupyter-widgets/base",
     "model_module_version": "1.2.0",
     "model_name": "LayoutModel",
     "state": {
      "_model_module": "@jupyter-widgets/base",
      "_model_module_version": "1.2.0",
      "_model_name": "LayoutModel",
      "_view_count": null,
      "_view_module": "@jupyter-widgets/base",
      "_view_module_version": "1.2.0",
      "_view_name": "LayoutView",
      "align_content": null,
      "align_items": null,
      "align_self": null,
      "border": null,
      "bottom": null,
      "display": null,
      "flex": null,
      "flex_flow": null,
      "grid_area": null,
      "grid_auto_columns": null,
      "grid_auto_flow": null,
      "grid_auto_rows": null,
      "grid_column": null,
      "grid_gap": null,
      "grid_row": null,
      "grid_template_areas": null,
      "grid_template_columns": null,
      "grid_template_rows": null,
      "height": null,
      "justify_content": null,
      "justify_items": null,
      "left": null,
      "margin": null,
      "max_height": null,
      "max_width": null,
      "min_height": null,
      "min_width": null,
      "object_fit": null,
      "object_position": null,
      "order": null,
      "overflow": null,
      "overflow_x": null,
      "overflow_y": null,
      "padding": null,
      "right": null,
      "top": null,
      "visibility": null,
      "width": null
     }
    },
    "4b12ddfee09a46408bf68834efaf44b7": {
     "model_module": "@jupyter-widgets/controls",
     "model_module_version": "1.5.0",
     "model_name": "HTMLModel",
     "state": {
      "_dom_classes": [],
      "_model_module": "@jupyter-widgets/controls",
      "_model_module_version": "1.5.0",
      "_model_name": "HTMLModel",
      "_view_count": null,
      "_view_module": "@jupyter-widgets/controls",
      "_view_module_version": "1.5.0",
      "_view_name": "HTMLView",
      "description": "",
      "description_tooltip": null,
      "layout": "IPY_MODEL_b382115b7a50418c9215c2c0c5433bdc",
      "placeholder": "​",
      "style": "IPY_MODEL_5c4d5b52b34e492b9155452d6075dd08",
      "value": "total_reward: 100%"
     }
    },
    "4b5f40e0ca6a478cb08f3515a17088ab": {
     "model_module": "@jupyter-widgets/controls",
     "model_module_version": "1.5.0",
     "model_name": "HBoxModel",
     "state": {
      "_dom_classes": [],
      "_model_module": "@jupyter-widgets/controls",
      "_model_module_version": "1.5.0",
      "_model_name": "HBoxModel",
      "_view_count": null,
      "_view_module": "@jupyter-widgets/controls",
      "_view_module_version": "1.5.0",
      "_view_name": "HBoxView",
      "box_style": "",
      "children": [
       "IPY_MODEL_1b15f0aad26c4520a284176e2286c772",
       "IPY_MODEL_e30e0cffe8144f3fae09c3f7d1ace552",
       "IPY_MODEL_beb6c0cfc6674378943d1c166144535e"
      ],
      "layout": "IPY_MODEL_4182cbaccfdb4891a8312658932c08a5"
     }
    },
    "54d0fd5012204ed8978dfffdf07ee558": {
     "model_module": "@jupyter-widgets/controls",
     "model_module_version": "1.5.0",
     "model_name": "DescriptionStyleModel",
     "state": {
      "_model_module": "@jupyter-widgets/controls",
      "_model_module_version": "1.5.0",
      "_model_name": "DescriptionStyleModel",
      "_view_count": null,
      "_view_module": "@jupyter-widgets/base",
      "_view_module_version": "1.2.0",
      "_view_name": "StyleView",
      "description_width": ""
     }
    },
    "56a1aeb51af94a58b96f9b98b7be63ba": {
     "model_module": "@jupyter-widgets/base",
     "model_module_version": "1.2.0",
     "model_name": "LayoutModel",
     "state": {
      "_model_module": "@jupyter-widgets/base",
      "_model_module_version": "1.2.0",
      "_model_name": "LayoutModel",
      "_view_count": null,
      "_view_module": "@jupyter-widgets/base",
      "_view_module_version": "1.2.0",
      "_view_name": "LayoutView",
      "align_content": null,
      "align_items": null,
      "align_self": null,
      "border": null,
      "bottom": null,
      "display": null,
      "flex": null,
      "flex_flow": null,
      "grid_area": null,
      "grid_auto_columns": null,
      "grid_auto_flow": null,
      "grid_auto_rows": null,
      "grid_column": null,
      "grid_gap": null,
      "grid_row": null,
      "grid_template_areas": null,
      "grid_template_columns": null,
      "grid_template_rows": null,
      "height": null,
      "justify_content": null,
      "justify_items": null,
      "left": null,
      "margin": null,
      "max_height": null,
      "max_width": null,
      "min_height": null,
      "min_width": null,
      "object_fit": null,
      "object_position": null,
      "order": null,
      "overflow": null,
      "overflow_x": null,
      "overflow_y": null,
      "padding": null,
      "right": null,
      "top": null,
      "visibility": null,
      "width": null
     }
    },
    "5898816a58dd44ce80b6feac604f55de": {
     "model_module": "@jupyter-widgets/controls",
     "model_module_version": "1.5.0",
     "model_name": "ProgressStyleModel",
     "state": {
      "_model_module": "@jupyter-widgets/controls",
      "_model_module_version": "1.5.0",
      "_model_name": "ProgressStyleModel",
      "_view_count": null,
      "_view_module": "@jupyter-widgets/base",
      "_view_module_version": "1.2.0",
      "_view_name": "StyleView",
      "bar_color": null,
      "description_width": ""
     }
    },
    "59f9c15a9d8d4bc6ae55054782cde3f9": {
     "model_module": "@jupyter-widgets/base",
     "model_module_version": "1.2.0",
     "model_name": "LayoutModel",
     "state": {
      "_model_module": "@jupyter-widgets/base",
      "_model_module_version": "1.2.0",
      "_model_name": "LayoutModel",
      "_view_count": null,
      "_view_module": "@jupyter-widgets/base",
      "_view_module_version": "1.2.0",
      "_view_name": "LayoutView",
      "align_content": null,
      "align_items": null,
      "align_self": null,
      "border": null,
      "bottom": null,
      "display": null,
      "flex": null,
      "flex_flow": null,
      "grid_area": null,
      "grid_auto_columns": null,
      "grid_auto_flow": null,
      "grid_auto_rows": null,
      "grid_column": null,
      "grid_gap": null,
      "grid_row": null,
      "grid_template_areas": null,
      "grid_template_columns": null,
      "grid_template_rows": null,
      "height": null,
      "justify_content": null,
      "justify_items": null,
      "left": null,
      "margin": null,
      "max_height": null,
      "max_width": null,
      "min_height": null,
      "min_width": null,
      "object_fit": null,
      "object_position": null,
      "order": null,
      "overflow": null,
      "overflow_x": null,
      "overflow_y": null,
      "padding": null,
      "right": null,
      "top": null,
      "visibility": null,
      "width": null
     }
    },
    "5b9ef34355ad4458bcc4b6f4cc26e8af": {
     "model_module": "@jupyter-widgets/controls",
     "model_module_version": "1.5.0",
     "model_name": "HTMLModel",
     "state": {
      "_dom_classes": [],
      "_model_module": "@jupyter-widgets/controls",
      "_model_module_version": "1.5.0",
      "_model_name": "HTMLModel",
      "_view_count": null,
      "_view_module": "@jupyter-widgets/controls",
      "_view_module_version": "1.5.0",
      "_view_name": "HTMLView",
      "description": "",
      "description_tooltip": null,
      "layout": "IPY_MODEL_b6fc0fe0b56a45f7813f26e22a6a5d86",
      "placeholder": "​",
      "style": "IPY_MODEL_0abb0246300247c58b7833df40d3e89b",
      "value": " 100/100 [00:00&lt;00:00, 3862.87it/s]"
     }
    },
    "5c4d5b52b34e492b9155452d6075dd08": {
     "model_module": "@jupyter-widgets/controls",
     "model_module_version": "1.5.0",
     "model_name": "DescriptionStyleModel",
     "state": {
      "_model_module": "@jupyter-widgets/controls",
      "_model_module_version": "1.5.0",
      "_model_name": "DescriptionStyleModel",
      "_view_count": null,
      "_view_module": "@jupyter-widgets/base",
      "_view_module_version": "1.2.0",
      "_view_name": "StyleView",
      "description_width": ""
     }
    },
    "674a05c75e6a43e1bd0217c3a0b28842": {
     "model_module": "@jupyter-widgets/controls",
     "model_module_version": "1.5.0",
     "model_name": "FloatProgressModel",
     "state": {
      "_dom_classes": [],
      "_model_module": "@jupyter-widgets/controls",
      "_model_module_version": "1.5.0",
      "_model_name": "FloatProgressModel",
      "_view_count": null,
      "_view_module": "@jupyter-widgets/controls",
      "_view_module_version": "1.5.0",
      "_view_name": "ProgressView",
      "bar_style": "success",
      "description": "",
      "description_tooltip": null,
      "layout": "IPY_MODEL_0e3db370c3a74555a33183afb51e80cc",
      "max": 100,
      "min": 0,
      "orientation": "horizontal",
      "style": "IPY_MODEL_9dc3c21d3d9f41468ede758510c7943f",
      "value": 100
     }
    },
    "6faaf8e411324f5f836ab213b9d2f491": {
     "model_module": "@jupyter-widgets/controls",
     "model_module_version": "1.5.0",
     "model_name": "HBoxModel",
     "state": {
      "_dom_classes": [],
      "_model_module": "@jupyter-widgets/controls",
      "_model_module_version": "1.5.0",
      "_model_name": "HBoxModel",
      "_view_count": null,
      "_view_module": "@jupyter-widgets/controls",
      "_view_module_version": "1.5.0",
      "_view_name": "HBoxView",
      "box_style": "",
      "children": [
       "IPY_MODEL_e56b4ad753344e4dbf9dd1170c9b034b",
       "IPY_MODEL_a69adc30c1df457a9e26666ffbddec2c",
       "IPY_MODEL_11688e05d555421eb3b156fd760cc6ee"
      ],
      "layout": "IPY_MODEL_f701d31b3a1649528e0501c3461d3c0e"
     }
    },
    "71ae967b3299478984caf3e08b4e4dac": {
     "model_module": "@jupyter-widgets/controls",
     "model_module_version": "1.5.0",
     "model_name": "ProgressStyleModel",
     "state": {
      "_model_module": "@jupyter-widgets/controls",
      "_model_module_version": "1.5.0",
      "_model_name": "ProgressStyleModel",
      "_view_count": null,
      "_view_module": "@jupyter-widgets/base",
      "_view_module_version": "1.2.0",
      "_view_name": "StyleView",
      "bar_color": null,
      "description_width": ""
     }
    },
    "74d9ed9d047b421e80a3215da41d8eac": {
     "model_module": "@jupyter-widgets/controls",
     "model_module_version": "1.5.0",
     "model_name": "ProgressStyleModel",
     "state": {
      "_model_module": "@jupyter-widgets/controls",
      "_model_module_version": "1.5.0",
      "_model_name": "ProgressStyleModel",
      "_view_count": null,
      "_view_module": "@jupyter-widgets/base",
      "_view_module_version": "1.2.0",
      "_view_name": "StyleView",
      "bar_color": null,
      "description_width": ""
     }
    },
    "7c469ec18ebe44008bab69860a04f88c": {
     "model_module": "@jupyter-widgets/controls",
     "model_module_version": "1.5.0",
     "model_name": "DescriptionStyleModel",
     "state": {
      "_model_module": "@jupyter-widgets/controls",
      "_model_module_version": "1.5.0",
      "_model_name": "DescriptionStyleModel",
      "_view_count": null,
      "_view_module": "@jupyter-widgets/base",
      "_view_module_version": "1.2.0",
      "_view_name": "StyleView",
      "description_width": ""
     }
    },
    "815cc04a1f684cd9a22e919862b2ba46": {
     "model_module": "@jupyter-widgets/controls",
     "model_module_version": "1.5.0",
     "model_name": "DescriptionStyleModel",
     "state": {
      "_model_module": "@jupyter-widgets/controls",
      "_model_module_version": "1.5.0",
      "_model_name": "DescriptionStyleModel",
      "_view_count": null,
      "_view_module": "@jupyter-widgets/base",
      "_view_module_version": "1.2.0",
      "_view_name": "StyleView",
      "description_width": ""
     }
    },
    "8749deaaa13f4dd88d4fb118c9cb25f2": {
     "model_module": "@jupyter-widgets/base",
     "model_module_version": "1.2.0",
     "model_name": "LayoutModel",
     "state": {
      "_model_module": "@jupyter-widgets/base",
      "_model_module_version": "1.2.0",
      "_model_name": "LayoutModel",
      "_view_count": null,
      "_view_module": "@jupyter-widgets/base",
      "_view_module_version": "1.2.0",
      "_view_name": "LayoutView",
      "align_content": null,
      "align_items": null,
      "align_self": null,
      "border": null,
      "bottom": null,
      "display": null,
      "flex": null,
      "flex_flow": null,
      "grid_area": null,
      "grid_auto_columns": null,
      "grid_auto_flow": null,
      "grid_auto_rows": null,
      "grid_column": null,
      "grid_gap": null,
      "grid_row": null,
      "grid_template_areas": null,
      "grid_template_columns": null,
      "grid_template_rows": null,
      "height": null,
      "justify_content": null,
      "justify_items": null,
      "left": null,
      "margin": null,
      "max_height": null,
      "max_width": null,
      "min_height": null,
      "min_width": null,
      "object_fit": null,
      "object_position": null,
      "order": null,
      "overflow": null,
      "overflow_x": null,
      "overflow_y": null,
      "padding": null,
      "right": null,
      "top": null,
      "visibility": null,
      "width": null
     }
    },
    "8b0f13f008864c999375ec69eedfa746": {
     "model_module": "@jupyter-widgets/controls",
     "model_module_version": "1.5.0",
     "model_name": "HBoxModel",
     "state": {
      "_dom_classes": [],
      "_model_module": "@jupyter-widgets/controls",
      "_model_module_version": "1.5.0",
      "_model_name": "HBoxModel",
      "_view_count": null,
      "_view_module": "@jupyter-widgets/controls",
      "_view_module_version": "1.5.0",
      "_view_name": "HBoxView",
      "box_style": "",
      "children": [
       "IPY_MODEL_ef040d63f4eb4014b1ba8a692c4f95aa",
       "IPY_MODEL_d25bcb705e454a72a893f584c293e43f",
       "IPY_MODEL_8d272bbc650848ef8589f8dca6dddd41"
      ],
      "layout": "IPY_MODEL_d97c8f3b37d74df68e278bf2e17c7056"
     }
    },
    "8d272bbc650848ef8589f8dca6dddd41": {
     "model_module": "@jupyter-widgets/controls",
     "model_module_version": "1.5.0",
     "model_name": "HTMLModel",
     "state": {
      "_dom_classes": [],
      "_model_module": "@jupyter-widgets/controls",
      "_model_module_version": "1.5.0",
      "_model_name": "HTMLModel",
      "_view_count": null,
      "_view_module": "@jupyter-widgets/controls",
      "_view_module_version": "1.5.0",
      "_view_name": "HTMLView",
      "description": "",
      "description_tooltip": null,
      "layout": "IPY_MODEL_e82f19c0e9ca408daa05270326c0580c",
      "placeholder": "​",
      "style": "IPY_MODEL_a314d1c507254aa7923be50a06b47916",
      "value": " 100/100 [00:00&lt;00:00, 3828.81it/s]"
     }
    },
    "944722610cbc40adbf78927538529fc1": {
     "model_module": "@jupyter-widgets/controls",
     "model_module_version": "1.5.0",
     "model_name": "ProgressStyleModel",
     "state": {
      "_model_module": "@jupyter-widgets/controls",
      "_model_module_version": "1.5.0",
      "_model_name": "ProgressStyleModel",
      "_view_count": null,
      "_view_module": "@jupyter-widgets/base",
      "_view_module_version": "1.2.0",
      "_view_name": "StyleView",
      "bar_color": null,
      "description_width": ""
     }
    },
    "94a8419fea3f4f9fa876ee0f390f3609": {
     "model_module": "@jupyter-widgets/controls",
     "model_module_version": "1.5.0",
     "model_name": "HTMLModel",
     "state": {
      "_dom_classes": [],
      "_model_module": "@jupyter-widgets/controls",
      "_model_module_version": "1.5.0",
      "_model_name": "HTMLModel",
      "_view_count": null,
      "_view_module": "@jupyter-widgets/controls",
      "_view_module_version": "1.5.0",
      "_view_name": "HTMLView",
      "description": "",
      "description_tooltip": null,
      "layout": "IPY_MODEL_8749deaaa13f4dd88d4fb118c9cb25f2",
      "placeholder": "​",
      "style": "IPY_MODEL_34487412cf8b4bb08a1722086ae8d3cf",
      "value": "total_reward: 100%"
     }
    },
    "9dc3c21d3d9f41468ede758510c7943f": {
     "model_module": "@jupyter-widgets/controls",
     "model_module_version": "1.5.0",
     "model_name": "ProgressStyleModel",
     "state": {
      "_model_module": "@jupyter-widgets/controls",
      "_model_module_version": "1.5.0",
      "_model_name": "ProgressStyleModel",
      "_view_count": null,
      "_view_module": "@jupyter-widgets/base",
      "_view_module_version": "1.2.0",
      "_view_name": "StyleView",
      "bar_color": null,
      "description_width": ""
     }
    },
    "a04284a1924e45cfb6c187170439f88a": {
     "model_module": "@jupyter-widgets/base",
     "model_module_version": "1.2.0",
     "model_name": "LayoutModel",
     "state": {
      "_model_module": "@jupyter-widgets/base",
      "_model_module_version": "1.2.0",
      "_model_name": "LayoutModel",
      "_view_count": null,
      "_view_module": "@jupyter-widgets/base",
      "_view_module_version": "1.2.0",
      "_view_name": "LayoutView",
      "align_content": null,
      "align_items": null,
      "align_self": null,
      "border": null,
      "bottom": null,
      "display": null,
      "flex": null,
      "flex_flow": null,
      "grid_area": null,
      "grid_auto_columns": null,
      "grid_auto_flow": null,
      "grid_auto_rows": null,
      "grid_column": null,
      "grid_gap": null,
      "grid_row": null,
      "grid_template_areas": null,
      "grid_template_columns": null,
      "grid_template_rows": null,
      "height": null,
      "justify_content": null,
      "justify_items": null,
      "left": null,
      "margin": null,
      "max_height": null,
      "max_width": null,
      "min_height": null,
      "min_width": null,
      "object_fit": null,
      "object_position": null,
      "order": null,
      "overflow": null,
      "overflow_x": null,
      "overflow_y": null,
      "padding": null,
      "right": null,
      "top": null,
      "visibility": null,
      "width": null
     }
    },
    "a0525065861c464ab915e5f3e6aab7d1": {
     "model_module": "@jupyter-widgets/base",
     "model_module_version": "1.2.0",
     "model_name": "LayoutModel",
     "state": {
      "_model_module": "@jupyter-widgets/base",
      "_model_module_version": "1.2.0",
      "_model_name": "LayoutModel",
      "_view_count": null,
      "_view_module": "@jupyter-widgets/base",
      "_view_module_version": "1.2.0",
      "_view_name": "LayoutView",
      "align_content": null,
      "align_items": null,
      "align_self": null,
      "border": null,
      "bottom": null,
      "display": null,
      "flex": null,
      "flex_flow": null,
      "grid_area": null,
      "grid_auto_columns": null,
      "grid_auto_flow": null,
      "grid_auto_rows": null,
      "grid_column": null,
      "grid_gap": null,
      "grid_row": null,
      "grid_template_areas": null,
      "grid_template_columns": null,
      "grid_template_rows": null,
      "height": null,
      "justify_content": null,
      "justify_items": null,
      "left": null,
      "margin": null,
      "max_height": null,
      "max_width": null,
      "min_height": null,
      "min_width": null,
      "object_fit": null,
      "object_position": null,
      "order": null,
      "overflow": null,
      "overflow_x": null,
      "overflow_y": null,
      "padding": null,
      "right": null,
      "top": null,
      "visibility": null,
      "width": null
     }
    },
    "a13078e36e6c45f0be285a74fa1cc760": {
     "model_module": "@jupyter-widgets/base",
     "model_module_version": "1.2.0",
     "model_name": "LayoutModel",
     "state": {
      "_model_module": "@jupyter-widgets/base",
      "_model_module_version": "1.2.0",
      "_model_name": "LayoutModel",
      "_view_count": null,
      "_view_module": "@jupyter-widgets/base",
      "_view_module_version": "1.2.0",
      "_view_name": "LayoutView",
      "align_content": null,
      "align_items": null,
      "align_self": null,
      "border": null,
      "bottom": null,
      "display": null,
      "flex": null,
      "flex_flow": null,
      "grid_area": null,
      "grid_auto_columns": null,
      "grid_auto_flow": null,
      "grid_auto_rows": null,
      "grid_column": null,
      "grid_gap": null,
      "grid_row": null,
      "grid_template_areas": null,
      "grid_template_columns": null,
      "grid_template_rows": null,
      "height": null,
      "justify_content": null,
      "justify_items": null,
      "left": null,
      "margin": null,
      "max_height": null,
      "max_width": null,
      "min_height": null,
      "min_width": null,
      "object_fit": null,
      "object_position": null,
      "order": null,
      "overflow": null,
      "overflow_x": null,
      "overflow_y": null,
      "padding": null,
      "right": null,
      "top": null,
      "visibility": null,
      "width": null
     }
    },
    "a314d1c507254aa7923be50a06b47916": {
     "model_module": "@jupyter-widgets/controls",
     "model_module_version": "1.5.0",
     "model_name": "DescriptionStyleModel",
     "state": {
      "_model_module": "@jupyter-widgets/controls",
      "_model_module_version": "1.5.0",
      "_model_name": "DescriptionStyleModel",
      "_view_count": null,
      "_view_module": "@jupyter-widgets/base",
      "_view_module_version": "1.2.0",
      "_view_name": "StyleView",
      "description_width": ""
     }
    },
    "a63da627af6e48b484411c8c174046e4": {
     "model_module": "@jupyter-widgets/controls",
     "model_module_version": "1.5.0",
     "model_name": "ProgressStyleModel",
     "state": {
      "_model_module": "@jupyter-widgets/controls",
      "_model_module_version": "1.5.0",
      "_model_name": "ProgressStyleModel",
      "_view_count": null,
      "_view_module": "@jupyter-widgets/base",
      "_view_module_version": "1.2.0",
      "_view_name": "StyleView",
      "bar_color": null,
      "description_width": ""
     }
    },
    "a69adc30c1df457a9e26666ffbddec2c": {
     "model_module": "@jupyter-widgets/controls",
     "model_module_version": "1.5.0",
     "model_name": "FloatProgressModel",
     "state": {
      "_dom_classes": [],
      "_model_module": "@jupyter-widgets/controls",
      "_model_module_version": "1.5.0",
      "_model_name": "FloatProgressModel",
      "_view_count": null,
      "_view_module": "@jupyter-widgets/controls",
      "_view_module_version": "1.5.0",
      "_view_name": "ProgressView",
      "bar_style": "success",
      "description": "",
      "description_tooltip": null,
      "layout": "IPY_MODEL_c82de1378a184655bc93082a7badf75c",
      "max": 100,
      "min": 0,
      "orientation": "horizontal",
      "style": "IPY_MODEL_a63da627af6e48b484411c8c174046e4",
      "value": 100
     }
    },
    "a95767ccb7d5427d8096168114596119": {
     "model_module": "@jupyter-widgets/controls",
     "model_module_version": "1.5.0",
     "model_name": "DescriptionStyleModel",
     "state": {
      "_model_module": "@jupyter-widgets/controls",
      "_model_module_version": "1.5.0",
      "_model_name": "DescriptionStyleModel",
      "_view_count": null,
      "_view_module": "@jupyter-widgets/base",
      "_view_module_version": "1.2.0",
      "_view_name": "StyleView",
      "description_width": ""
     }
    },
    "aec8dcbc372f48fb8407650cb50c65b2": {
     "model_module": "@jupyter-widgets/base",
     "model_module_version": "1.2.0",
     "model_name": "LayoutModel",
     "state": {
      "_model_module": "@jupyter-widgets/base",
      "_model_module_version": "1.2.0",
      "_model_name": "LayoutModel",
      "_view_count": null,
      "_view_module": "@jupyter-widgets/base",
      "_view_module_version": "1.2.0",
      "_view_name": "LayoutView",
      "align_content": null,
      "align_items": null,
      "align_self": null,
      "border": null,
      "bottom": null,
      "display": null,
      "flex": null,
      "flex_flow": null,
      "grid_area": null,
      "grid_auto_columns": null,
      "grid_auto_flow": null,
      "grid_auto_rows": null,
      "grid_column": null,
      "grid_gap": null,
      "grid_row": null,
      "grid_template_areas": null,
      "grid_template_columns": null,
      "grid_template_rows": null,
      "height": null,
      "justify_content": null,
      "justify_items": null,
      "left": null,
      "margin": null,
      "max_height": null,
      "max_width": null,
      "min_height": null,
      "min_width": null,
      "object_fit": null,
      "object_position": null,
      "order": null,
      "overflow": null,
      "overflow_x": null,
      "overflow_y": null,
      "padding": null,
      "right": null,
      "top": null,
      "visibility": null,
      "width": null
     }
    },
    "b382115b7a50418c9215c2c0c5433bdc": {
     "model_module": "@jupyter-widgets/base",
     "model_module_version": "1.2.0",
     "model_name": "LayoutModel",
     "state": {
      "_model_module": "@jupyter-widgets/base",
      "_model_module_version": "1.2.0",
      "_model_name": "LayoutModel",
      "_view_count": null,
      "_view_module": "@jupyter-widgets/base",
      "_view_module_version": "1.2.0",
      "_view_name": "LayoutView",
      "align_content": null,
      "align_items": null,
      "align_self": null,
      "border": null,
      "bottom": null,
      "display": null,
      "flex": null,
      "flex_flow": null,
      "grid_area": null,
      "grid_auto_columns": null,
      "grid_auto_flow": null,
      "grid_auto_rows": null,
      "grid_column": null,
      "grid_gap": null,
      "grid_row": null,
      "grid_template_areas": null,
      "grid_template_columns": null,
      "grid_template_rows": null,
      "height": null,
      "justify_content": null,
      "justify_items": null,
      "left": null,
      "margin": null,
      "max_height": null,
      "max_width": null,
      "min_height": null,
      "min_width": null,
      "object_fit": null,
      "object_position": null,
      "order": null,
      "overflow": null,
      "overflow_x": null,
      "overflow_y": null,
      "padding": null,
      "right": null,
      "top": null,
      "visibility": null,
      "width": null
     }
    },
    "b6fc0fe0b56a45f7813f26e22a6a5d86": {
     "model_module": "@jupyter-widgets/base",
     "model_module_version": "1.2.0",
     "model_name": "LayoutModel",
     "state": {
      "_model_module": "@jupyter-widgets/base",
      "_model_module_version": "1.2.0",
      "_model_name": "LayoutModel",
      "_view_count": null,
      "_view_module": "@jupyter-widgets/base",
      "_view_module_version": "1.2.0",
      "_view_name": "LayoutView",
      "align_content": null,
      "align_items": null,
      "align_self": null,
      "border": null,
      "bottom": null,
      "display": null,
      "flex": null,
      "flex_flow": null,
      "grid_area": null,
      "grid_auto_columns": null,
      "grid_auto_flow": null,
      "grid_auto_rows": null,
      "grid_column": null,
      "grid_gap": null,
      "grid_row": null,
      "grid_template_areas": null,
      "grid_template_columns": null,
      "grid_template_rows": null,
      "height": null,
      "justify_content": null,
      "justify_items": null,
      "left": null,
      "margin": null,
      "max_height": null,
      "max_width": null,
      "min_height": null,
      "min_width": null,
      "object_fit": null,
      "object_position": null,
      "order": null,
      "overflow": null,
      "overflow_x": null,
      "overflow_y": null,
      "padding": null,
      "right": null,
      "top": null,
      "visibility": null,
      "width": null
     }
    },
    "bbfa2a8b5ddc4c158f8c5efff7eb8d75": {
     "model_module": "@jupyter-widgets/controls",
     "model_module_version": "1.5.0",
     "model_name": "DescriptionStyleModel",
     "state": {
      "_model_module": "@jupyter-widgets/controls",
      "_model_module_version": "1.5.0",
      "_model_name": "DescriptionStyleModel",
      "_view_count": null,
      "_view_module": "@jupyter-widgets/base",
      "_view_module_version": "1.2.0",
      "_view_name": "StyleView",
      "description_width": ""
     }
    },
    "beb6c0cfc6674378943d1c166144535e": {
     "model_module": "@jupyter-widgets/controls",
     "model_module_version": "1.5.0",
     "model_name": "HTMLModel",
     "state": {
      "_dom_classes": [],
      "_model_module": "@jupyter-widgets/controls",
      "_model_module_version": "1.5.0",
      "_model_name": "HTMLModel",
      "_view_count": null,
      "_view_module": "@jupyter-widgets/controls",
      "_view_module_version": "1.5.0",
      "_view_name": "HTMLView",
      "description": "",
      "description_tooltip": null,
      "layout": "IPY_MODEL_56a1aeb51af94a58b96f9b98b7be63ba",
      "placeholder": "​",
      "style": "IPY_MODEL_815cc04a1f684cd9a22e919862b2ba46",
      "value": " 100/100 [00:25&lt;00:00,  5.97it/s]"
     }
    },
    "c062acb3852c476da034d4773d722c1e": {
     "model_module": "@jupyter-widgets/base",
     "model_module_version": "1.2.0",
     "model_name": "LayoutModel",
     "state": {
      "_model_module": "@jupyter-widgets/base",
      "_model_module_version": "1.2.0",
      "_model_name": "LayoutModel",
      "_view_count": null,
      "_view_module": "@jupyter-widgets/base",
      "_view_module_version": "1.2.0",
      "_view_name": "LayoutView",
      "align_content": null,
      "align_items": null,
      "align_self": null,
      "border": null,
      "bottom": null,
      "display": null,
      "flex": null,
      "flex_flow": null,
      "grid_area": null,
      "grid_auto_columns": null,
      "grid_auto_flow": null,
      "grid_auto_rows": null,
      "grid_column": null,
      "grid_gap": null,
      "grid_row": null,
      "grid_template_areas": null,
      "grid_template_columns": null,
      "grid_template_rows": null,
      "height": null,
      "justify_content": null,
      "justify_items": null,
      "left": null,
      "margin": null,
      "max_height": null,
      "max_width": null,
      "min_height": null,
      "min_width": null,
      "object_fit": null,
      "object_position": null,
      "order": null,
      "overflow": null,
      "overflow_x": null,
      "overflow_y": null,
      "padding": null,
      "right": null,
      "top": null,
      "visibility": null,
      "width": null
     }
    },
    "c5e95b8163e74704adeaed334b96fcb8": {
     "model_module": "@jupyter-widgets/controls",
     "model_module_version": "1.5.0",
     "model_name": "FloatProgressModel",
     "state": {
      "_dom_classes": [],
      "_model_module": "@jupyter-widgets/controls",
      "_model_module_version": "1.5.0",
      "_model_name": "FloatProgressModel",
      "_view_count": null,
      "_view_module": "@jupyter-widgets/controls",
      "_view_module_version": "1.5.0",
      "_view_name": "ProgressView",
      "bar_style": "success",
      "description": "",
      "description_tooltip": null,
      "layout": "IPY_MODEL_0259f618e79d44c88c2b1bd07ad5b132",
      "max": 100,
      "min": 0,
      "orientation": "horizontal",
      "style": "IPY_MODEL_5898816a58dd44ce80b6feac604f55de",
      "value": 100
     }
    },
    "c7c059375b5141518775a13778386f55": {
     "model_module": "@jupyter-widgets/base",
     "model_module_version": "1.2.0",
     "model_name": "LayoutModel",
     "state": {
      "_model_module": "@jupyter-widgets/base",
      "_model_module_version": "1.2.0",
      "_model_name": "LayoutModel",
      "_view_count": null,
      "_view_module": "@jupyter-widgets/base",
      "_view_module_version": "1.2.0",
      "_view_name": "LayoutView",
      "align_content": null,
      "align_items": null,
      "align_self": null,
      "border": null,
      "bottom": null,
      "display": null,
      "flex": null,
      "flex_flow": null,
      "grid_area": null,
      "grid_auto_columns": null,
      "grid_auto_flow": null,
      "grid_auto_rows": null,
      "grid_column": null,
      "grid_gap": null,
      "grid_row": null,
      "grid_template_areas": null,
      "grid_template_columns": null,
      "grid_template_rows": null,
      "height": null,
      "justify_content": null,
      "justify_items": null,
      "left": null,
      "margin": null,
      "max_height": null,
      "max_width": null,
      "min_height": null,
      "min_width": null,
      "object_fit": null,
      "object_position": null,
      "order": null,
      "overflow": null,
      "overflow_x": null,
      "overflow_y": null,
      "padding": null,
      "right": null,
      "top": null,
      "visibility": null,
      "width": null
     }
    },
    "c82de1378a184655bc93082a7badf75c": {
     "model_module": "@jupyter-widgets/base",
     "model_module_version": "1.2.0",
     "model_name": "LayoutModel",
     "state": {
      "_model_module": "@jupyter-widgets/base",
      "_model_module_version": "1.2.0",
      "_model_name": "LayoutModel",
      "_view_count": null,
      "_view_module": "@jupyter-widgets/base",
      "_view_module_version": "1.2.0",
      "_view_name": "LayoutView",
      "align_content": null,
      "align_items": null,
      "align_self": null,
      "border": null,
      "bottom": null,
      "display": null,
      "flex": null,
      "flex_flow": null,
      "grid_area": null,
      "grid_auto_columns": null,
      "grid_auto_flow": null,
      "grid_auto_rows": null,
      "grid_column": null,
      "grid_gap": null,
      "grid_row": null,
      "grid_template_areas": null,
      "grid_template_columns": null,
      "grid_template_rows": null,
      "height": null,
      "justify_content": null,
      "justify_items": null,
      "left": null,
      "margin": null,
      "max_height": null,
      "max_width": null,
      "min_height": null,
      "min_width": null,
      "object_fit": null,
      "object_position": null,
      "order": null,
      "overflow": null,
      "overflow_x": null,
      "overflow_y": null,
      "padding": null,
      "right": null,
      "top": null,
      "visibility": null,
      "width": null
     }
    },
    "c83ac65e00374ecc8f3bd76fc4dd3a4e": {
     "model_module": "@jupyter-widgets/controls",
     "model_module_version": "1.5.0",
     "model_name": "HTMLModel",
     "state": {
      "_dom_classes": [],
      "_model_module": "@jupyter-widgets/controls",
      "_model_module_version": "1.5.0",
      "_model_name": "HTMLModel",
      "_view_count": null,
      "_view_module": "@jupyter-widgets/controls",
      "_view_module_version": "1.5.0",
      "_view_name": "HTMLView",
      "description": "",
      "description_tooltip": null,
      "layout": "IPY_MODEL_59f9c15a9d8d4bc6ae55054782cde3f9",
      "placeholder": "​",
      "style": "IPY_MODEL_1770d6bd07da457a906e8c61433d6726",
      "value": " 100/100 [00:10&lt;00:00,  9.89it/s]"
     }
    },
    "d25bcb705e454a72a893f584c293e43f": {
     "model_module": "@jupyter-widgets/controls",
     "model_module_version": "1.5.0",
     "model_name": "FloatProgressModel",
     "state": {
      "_dom_classes": [],
      "_model_module": "@jupyter-widgets/controls",
      "_model_module_version": "1.5.0",
      "_model_name": "FloatProgressModel",
      "_view_count": null,
      "_view_module": "@jupyter-widgets/controls",
      "_view_module_version": "1.5.0",
      "_view_name": "ProgressView",
      "bar_style": "success",
      "description": "",
      "description_tooltip": null,
      "layout": "IPY_MODEL_feadd5b26f5e4f4090117141c6c04d11",
      "max": 100,
      "min": 0,
      "orientation": "horizontal",
      "style": "IPY_MODEL_944722610cbc40adbf78927538529fc1",
      "value": 100
     }
    },
    "d49152e9ecb7405abab0612d1de603a0": {
     "model_module": "@jupyter-widgets/base",
     "model_module_version": "1.2.0",
     "model_name": "LayoutModel",
     "state": {
      "_model_module": "@jupyter-widgets/base",
      "_model_module_version": "1.2.0",
      "_model_name": "LayoutModel",
      "_view_count": null,
      "_view_module": "@jupyter-widgets/base",
      "_view_module_version": "1.2.0",
      "_view_name": "LayoutView",
      "align_content": null,
      "align_items": null,
      "align_self": null,
      "border": null,
      "bottom": null,
      "display": null,
      "flex": null,
      "flex_flow": null,
      "grid_area": null,
      "grid_auto_columns": null,
      "grid_auto_flow": null,
      "grid_auto_rows": null,
      "grid_column": null,
      "grid_gap": null,
      "grid_row": null,
      "grid_template_areas": null,
      "grid_template_columns": null,
      "grid_template_rows": null,
      "height": null,
      "justify_content": null,
      "justify_items": null,
      "left": null,
      "margin": null,
      "max_height": null,
      "max_width": null,
      "min_height": null,
      "min_width": null,
      "object_fit": null,
      "object_position": null,
      "order": null,
      "overflow": null,
      "overflow_x": null,
      "overflow_y": null,
      "padding": null,
      "right": null,
      "top": null,
      "visibility": null,
      "width": null
     }
    },
    "d97c8f3b37d74df68e278bf2e17c7056": {
     "model_module": "@jupyter-widgets/base",
     "model_module_version": "1.2.0",
     "model_name": "LayoutModel",
     "state": {
      "_model_module": "@jupyter-widgets/base",
      "_model_module_version": "1.2.0",
      "_model_name": "LayoutModel",
      "_view_count": null,
      "_view_module": "@jupyter-widgets/base",
      "_view_module_version": "1.2.0",
      "_view_name": "LayoutView",
      "align_content": null,
      "align_items": null,
      "align_self": null,
      "border": null,
      "bottom": null,
      "display": null,
      "flex": null,
      "flex_flow": null,
      "grid_area": null,
      "grid_auto_columns": null,
      "grid_auto_flow": null,
      "grid_auto_rows": null,
      "grid_column": null,
      "grid_gap": null,
      "grid_row": null,
      "grid_template_areas": null,
      "grid_template_columns": null,
      "grid_template_rows": null,
      "height": null,
      "justify_content": null,
      "justify_items": null,
      "left": null,
      "margin": null,
      "max_height": null,
      "max_width": null,
      "min_height": null,
      "min_width": null,
      "object_fit": null,
      "object_position": null,
      "order": null,
      "overflow": null,
      "overflow_x": null,
      "overflow_y": null,
      "padding": null,
      "right": null,
      "top": null,
      "visibility": null,
      "width": null
     }
    },
    "e30e0cffe8144f3fae09c3f7d1ace552": {
     "model_module": "@jupyter-widgets/controls",
     "model_module_version": "1.5.0",
     "model_name": "FloatProgressModel",
     "state": {
      "_dom_classes": [],
      "_model_module": "@jupyter-widgets/controls",
      "_model_module_version": "1.5.0",
      "_model_name": "FloatProgressModel",
      "_view_count": null,
      "_view_module": "@jupyter-widgets/controls",
      "_view_module_version": "1.5.0",
      "_view_name": "ProgressView",
      "bar_style": "success",
      "description": "",
      "description_tooltip": null,
      "layout": "IPY_MODEL_aec8dcbc372f48fb8407650cb50c65b2",
      "max": 100,
      "min": 0,
      "orientation": "horizontal",
      "style": "IPY_MODEL_71ae967b3299478984caf3e08b4e4dac",
      "value": 100
     }
    },
    "e56b4ad753344e4dbf9dd1170c9b034b": {
     "model_module": "@jupyter-widgets/controls",
     "model_module_version": "1.5.0",
     "model_name": "HTMLModel",
     "state": {
      "_dom_classes": [],
      "_model_module": "@jupyter-widgets/controls",
      "_model_module_version": "1.5.0",
      "_model_name": "HTMLModel",
      "_view_count": null,
      "_view_module": "@jupyter-widgets/controls",
      "_view_module_version": "1.5.0",
      "_view_name": "HTMLView",
      "description": "",
      "description_tooltip": null,
      "layout": "IPY_MODEL_d49152e9ecb7405abab0612d1de603a0",
      "placeholder": "​",
      "style": "IPY_MODEL_a95767ccb7d5427d8096168114596119",
      "value": "num_death: 100%"
     }
    },
    "e6aacaa9f4714b769d11a525821c6aeb": {
     "model_module": "@jupyter-widgets/controls",
     "model_module_version": "1.5.0",
     "model_name": "HTMLModel",
     "state": {
      "_dom_classes": [],
      "_model_module": "@jupyter-widgets/controls",
      "_model_module_version": "1.5.0",
      "_model_name": "HTMLModel",
      "_view_count": null,
      "_view_module": "@jupyter-widgets/controls",
      "_view_module_version": "1.5.0",
      "_view_name": "HTMLView",
      "description": "",
      "description_tooltip": null,
      "layout": "IPY_MODEL_a04284a1924e45cfb6c187170439f88a",
      "placeholder": "​",
      "style": "IPY_MODEL_7c469ec18ebe44008bab69860a04f88c",
      "value": " 100/100 [00:00&lt;00:00, 3272.22it/s]"
     }
    },
    "e7ed53b60b9e4d709ed023b16b5b9bb3": {
     "model_module": "@jupyter-widgets/base",
     "model_module_version": "1.2.0",
     "model_name": "LayoutModel",
     "state": {
      "_model_module": "@jupyter-widgets/base",
      "_model_module_version": "1.2.0",
      "_model_name": "LayoutModel",
      "_view_count": null,
      "_view_module": "@jupyter-widgets/base",
      "_view_module_version": "1.2.0",
      "_view_name": "LayoutView",
      "align_content": null,
      "align_items": null,
      "align_self": null,
      "border": null,
      "bottom": null,
      "display": null,
      "flex": null,
      "flex_flow": null,
      "grid_area": null,
      "grid_auto_columns": null,
      "grid_auto_flow": null,
      "grid_auto_rows": null,
      "grid_column": null,
      "grid_gap": null,
      "grid_row": null,
      "grid_template_areas": null,
      "grid_template_columns": null,
      "grid_template_rows": null,
      "height": null,
      "justify_content": null,
      "justify_items": null,
      "left": null,
      "margin": null,
      "max_height": null,
      "max_width": null,
      "min_height": null,
      "min_width": null,
      "object_fit": null,
      "object_position": null,
      "order": null,
      "overflow": null,
      "overflow_x": null,
      "overflow_y": null,
      "padding": null,
      "right": null,
      "top": null,
      "visibility": null,
      "width": null
     }
    },
    "e82f19c0e9ca408daa05270326c0580c": {
     "model_module": "@jupyter-widgets/base",
     "model_module_version": "1.2.0",
     "model_name": "LayoutModel",
     "state": {
      "_model_module": "@jupyter-widgets/base",
      "_model_module_version": "1.2.0",
      "_model_name": "LayoutModel",
      "_view_count": null,
      "_view_module": "@jupyter-widgets/base",
      "_view_module_version": "1.2.0",
      "_view_name": "LayoutView",
      "align_content": null,
      "align_items": null,
      "align_self": null,
      "border": null,
      "bottom": null,
      "display": null,
      "flex": null,
      "flex_flow": null,
      "grid_area": null,
      "grid_auto_columns": null,
      "grid_auto_flow": null,
      "grid_auto_rows": null,
      "grid_column": null,
      "grid_gap": null,
      "grid_row": null,
      "grid_template_areas": null,
      "grid_template_columns": null,
      "grid_template_rows": null,
      "height": null,
      "justify_content": null,
      "justify_items": null,
      "left": null,
      "margin": null,
      "max_height": null,
      "max_width": null,
      "min_height": null,
      "min_width": null,
      "object_fit": null,
      "object_position": null,
      "order": null,
      "overflow": null,
      "overflow_x": null,
      "overflow_y": null,
      "padding": null,
      "right": null,
      "top": null,
      "visibility": null,
      "width": null
     }
    },
    "eddaf7149ec043e8b8c13af59fc8b647": {
     "model_module": "@jupyter-widgets/base",
     "model_module_version": "1.2.0",
     "model_name": "LayoutModel",
     "state": {
      "_model_module": "@jupyter-widgets/base",
      "_model_module_version": "1.2.0",
      "_model_name": "LayoutModel",
      "_view_count": null,
      "_view_module": "@jupyter-widgets/base",
      "_view_module_version": "1.2.0",
      "_view_name": "LayoutView",
      "align_content": null,
      "align_items": null,
      "align_self": null,
      "border": null,
      "bottom": null,
      "display": null,
      "flex": null,
      "flex_flow": null,
      "grid_area": null,
      "grid_auto_columns": null,
      "grid_auto_flow": null,
      "grid_auto_rows": null,
      "grid_column": null,
      "grid_gap": null,
      "grid_row": null,
      "grid_template_areas": null,
      "grid_template_columns": null,
      "grid_template_rows": null,
      "height": null,
      "justify_content": null,
      "justify_items": null,
      "left": null,
      "margin": null,
      "max_height": null,
      "max_width": null,
      "min_height": null,
      "min_width": null,
      "object_fit": null,
      "object_position": null,
      "order": null,
      "overflow": null,
      "overflow_x": null,
      "overflow_y": null,
      "padding": null,
      "right": null,
      "top": null,
      "visibility": null,
      "width": null
     }
    },
    "ee0124cd96964242bf373c969cb4d09d": {
     "model_module": "@jupyter-widgets/controls",
     "model_module_version": "1.5.0",
     "model_name": "HBoxModel",
     "state": {
      "_dom_classes": [],
      "_model_module": "@jupyter-widgets/controls",
      "_model_module_version": "1.5.0",
      "_model_name": "HBoxModel",
      "_view_count": null,
      "_view_module": "@jupyter-widgets/controls",
      "_view_module_version": "1.5.0",
      "_view_name": "HBoxView",
      "box_style": "",
      "children": [
       "IPY_MODEL_eea055146883404a9a936928dae9779e",
       "IPY_MODEL_c5e95b8163e74704adeaed334b96fcb8",
       "IPY_MODEL_c83ac65e00374ecc8f3bd76fc4dd3a4e"
      ],
      "layout": "IPY_MODEL_1eeed926d5344c54aad861112fc6c371"
     }
    },
    "eea055146883404a9a936928dae9779e": {
     "model_module": "@jupyter-widgets/controls",
     "model_module_version": "1.5.0",
     "model_name": "HTMLModel",
     "state": {
      "_dom_classes": [],
      "_model_module": "@jupyter-widgets/controls",
      "_model_module_version": "1.5.0",
      "_model_name": "HTMLModel",
      "_view_count": null,
      "_view_module": "@jupyter-widgets/controls",
      "_view_module_version": "1.5.0",
      "_view_name": "HTMLView",
      "description": "",
      "description_tooltip": null,
      "layout": "IPY_MODEL_f65b342408e247c4a8d693063410bb02",
      "placeholder": "​",
      "style": "IPY_MODEL_54d0fd5012204ed8978dfffdf07ee558",
      "value": "chemo: 100%"
     }
    },
    "ef040d63f4eb4014b1ba8a692c4f95aa": {
     "model_module": "@jupyter-widgets/controls",
     "model_module_version": "1.5.0",
     "model_name": "HTMLModel",
     "state": {
      "_dom_classes": [],
      "_model_module": "@jupyter-widgets/controls",
      "_model_module_version": "1.5.0",
      "_model_name": "HTMLModel",
      "_view_count": null,
      "_view_module": "@jupyter-widgets/controls",
      "_view_module_version": "1.5.0",
      "_view_name": "HTMLView",
      "description": "",
      "description_tooltip": null,
      "layout": "IPY_MODEL_eddaf7149ec043e8b8c13af59fc8b647",
      "placeholder": "​",
      "style": "IPY_MODEL_bbfa2a8b5ddc4c158f8c5efff7eb8d75",
      "value": "num_death: 100%"
     }
    },
    "f007dd4637a34d959eeb4436c34bc2f0": {
     "model_module": "@jupyter-widgets/controls",
     "model_module_version": "1.5.0",
     "model_name": "DescriptionStyleModel",
     "state": {
      "_model_module": "@jupyter-widgets/controls",
      "_model_module_version": "1.5.0",
      "_model_name": "DescriptionStyleModel",
      "_view_count": null,
      "_view_module": "@jupyter-widgets/base",
      "_view_module_version": "1.2.0",
      "_view_name": "StyleView",
      "description_width": ""
     }
    },
    "f1b1b088464d409bb10d72a6302b12c1": {
     "model_module": "@jupyter-widgets/controls",
     "model_module_version": "1.5.0",
     "model_name": "HBoxModel",
     "state": {
      "_dom_classes": [],
      "_model_module": "@jupyter-widgets/controls",
      "_model_module_version": "1.5.0",
      "_model_name": "HBoxModel",
      "_view_count": null,
      "_view_module": "@jupyter-widgets/controls",
      "_view_module_version": "1.5.0",
      "_view_name": "HBoxView",
      "box_style": "",
      "children": [
       "IPY_MODEL_94a8419fea3f4f9fa876ee0f390f3609",
       "IPY_MODEL_2354c9ffe50344e58a26c862115baa49",
       "IPY_MODEL_e6aacaa9f4714b769d11a525821c6aeb"
      ],
      "layout": "IPY_MODEL_c7c059375b5141518775a13778386f55"
     }
    },
    "f65b342408e247c4a8d693063410bb02": {
     "model_module": "@jupyter-widgets/base",
     "model_module_version": "1.2.0",
     "model_name": "LayoutModel",
     "state": {
      "_model_module": "@jupyter-widgets/base",
      "_model_module_version": "1.2.0",
      "_model_name": "LayoutModel",
      "_view_count": null,
      "_view_module": "@jupyter-widgets/base",
      "_view_module_version": "1.2.0",
      "_view_name": "LayoutView",
      "align_content": null,
      "align_items": null,
      "align_self": null,
      "border": null,
      "bottom": null,
      "display": null,
      "flex": null,
      "flex_flow": null,
      "grid_area": null,
      "grid_auto_columns": null,
      "grid_auto_flow": null,
      "grid_auto_rows": null,
      "grid_column": null,
      "grid_gap": null,
      "grid_row": null,
      "grid_template_areas": null,
      "grid_template_columns": null,
      "grid_template_rows": null,
      "height": null,
      "justify_content": null,
      "justify_items": null,
      "left": null,
      "margin": null,
      "max_height": null,
      "max_width": null,
      "min_height": null,
      "min_width": null,
      "object_fit": null,
      "object_position": null,
      "order": null,
      "overflow": null,
      "overflow_x": null,
      "overflow_y": null,
      "padding": null,
      "right": null,
      "top": null,
      "visibility": null,
      "width": null
     }
    },
    "f701d31b3a1649528e0501c3461d3c0e": {
     "model_module": "@jupyter-widgets/base",
     "model_module_version": "1.2.0",
     "model_name": "LayoutModel",
     "state": {
      "_model_module": "@jupyter-widgets/base",
      "_model_module_version": "1.2.0",
      "_model_name": "LayoutModel",
      "_view_count": null,
      "_view_module": "@jupyter-widgets/base",
      "_view_module_version": "1.2.0",
      "_view_name": "LayoutView",
      "align_content": null,
      "align_items": null,
      "align_self": null,
      "border": null,
      "bottom": null,
      "display": null,
      "flex": null,
      "flex_flow": null,
      "grid_area": null,
      "grid_auto_columns": null,
      "grid_auto_flow": null,
      "grid_auto_rows": null,
      "grid_column": null,
      "grid_gap": null,
      "grid_row": null,
      "grid_template_areas": null,
      "grid_template_columns": null,
      "grid_template_rows": null,
      "height": null,
      "justify_content": null,
      "justify_items": null,
      "left": null,
      "margin": null,
      "max_height": null,
      "max_width": null,
      "min_height": null,
      "min_width": null,
      "object_fit": null,
      "object_position": null,
      "order": null,
      "overflow": null,
      "overflow_x": null,
      "overflow_y": null,
      "padding": null,
      "right": null,
      "top": null,
      "visibility": null,
      "width": null
     }
    },
    "feadd5b26f5e4f4090117141c6c04d11": {
     "model_module": "@jupyter-widgets/base",
     "model_module_version": "1.2.0",
     "model_name": "LayoutModel",
     "state": {
      "_model_module": "@jupyter-widgets/base",
      "_model_module_version": "1.2.0",
      "_model_name": "LayoutModel",
      "_view_count": null,
      "_view_module": "@jupyter-widgets/base",
      "_view_module_version": "1.2.0",
      "_view_name": "LayoutView",
      "align_content": null,
      "align_items": null,
      "align_self": null,
      "border": null,
      "bottom": null,
      "display": null,
      "flex": null,
      "flex_flow": null,
      "grid_area": null,
      "grid_auto_columns": null,
      "grid_auto_flow": null,
      "grid_auto_rows": null,
      "grid_column": null,
      "grid_gap": null,
      "grid_row": null,
      "grid_template_areas": null,
      "grid_template_columns": null,
      "grid_template_rows": null,
      "height": null,
      "justify_content": null,
      "justify_items": null,
      "left": null,
      "margin": null,
      "max_height": null,
      "max_width": null,
      "min_height": null,
      "min_width": null,
      "object_fit": null,
      "object_position": null,
      "order": null,
      "overflow": null,
      "overflow_x": null,
      "overflow_y": null,
      "padding": null,
      "right": null,
      "top": null,
      "visibility": null,
      "width": null
     }
    }
   }
  }
 },
 "nbformat": 4,
 "nbformat_minor": 0
}