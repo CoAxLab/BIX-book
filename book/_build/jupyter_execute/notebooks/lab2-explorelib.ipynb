{
 "cells": [
  {
   "cell_type": "markdown",
   "metadata": {
    "id": "BT1m8zbPtDVg"
   },
   "source": [
    "# Lab 2 - Random exploration\n",
    "\n",
    "This section has two goals.\n",
    "\n",
    "1. To get you familiar with the python library we will be using for most of the semester to simulate and explore exploration.\n",
    "2. Explore the utility of random exploration as a strategy.\n",
    "\n",
    "\n",
    "Google Colab is a simple free way to run python code. See the _python_ chapter for more on it. Most of the chapters and assignments in this book have a button to open in Colab (see the rocket button at the top)."
   ]
  },
  {
   "cell_type": "markdown",
   "metadata": {
    "id": "ovQzFbr4l0lk"
   },
   "source": [
    "## Background\n",
    "\n",
    "The _explorationlib_ library has three primary parts for running simulations. Here we will outline the three and give a brief explanation for how they work."
   ]
  },
  {
   "cell_type": "markdown",
   "metadata": {
    "id": "SmS4VumSl0ll"
   },
   "source": [
    "### **Agents**\n",
    "\n",
    "_Agents_ are functions that have a specific set of 1) inputs, 2) computations, and 3) outputs. The input-outut form is defined by the environment (see below). For example, in the bacterial foraging environments the inputs are scent signals reflecting \"food\" and the ouputs are direction of movement along a 2-dimensional grid. For the bandit environments, the inputs are feedback signals (e.g., rewards) and the outputs are $n$ actions, where $n$ is the number of possible choice options. Agents have an internal _state_ object that is updated according to various algorithms that we will play with in class.\n"
   ]
  },
  {
   "cell_type": "markdown",
   "metadata": {
    "id": "Qr2IugTGl0ll"
   },
   "source": [
    "### **Environments**\n",
    "\n",
    "_Environments_ define the contingencies that agents act on. Here we use the _gym_ library for most of our simulations. There are two classes of environments we will work with: foraging grids and bandits. These will be explained in detail later."
   ]
  },
  {
   "cell_type": "markdown",
   "metadata": {
    "id": "kWZphPbVl0ll"
   },
   "source": [
    "### **Experiment**\n",
    "\n",
    "The _experiment_ function takes an agent, an environment, and a set of relevant parameters and executes the simulations."
   ]
  },
  {
   "cell_type": "markdown",
   "metadata": {
    "id": "z6vM7u1jtrV5"
   },
   "source": [
    "## Section - Setup\n",
    "\n",
    "Use the button to open this assignment in a colab. Once it is open, if it is open, run all the cells. Read each cell, then run it, that is. This simple test of the colab is also a good but basic introduction to _explorationlib_, which is the basis for all the experiments and assignments you will see.\n",
    "\n",
    "If there are no errors, celebrate and consider _this_ assignment complete.\n",
    "\n",
    "_Note:_ I assume that you, reader, are familiar with python programming already. If you are not, see the _Introduction to python_ assignment."
   ]
  },
  {
   "cell_type": "markdown",
   "metadata": {
    "id": "ejckkDAztrV5"
   },
   "source": [
    "### Install _explorationlib_\n",
    "Colab comes with many of the libraries we will need. It does not come with _explorationlib_. It's a module we will be using, and was written to support this book. Let's Install it."
   ]
  },
  {
   "cell_type": "code",
   "execution_count": null,
   "metadata": {
    "colab": {
     "base_uri": "https://localhost:8080/"
    },
    "collapsed": true,
    "executionInfo": {
     "elapsed": 35316,
     "status": "ok",
     "timestamp": 1689861488861,
     "user": {
      "displayName": "Timothy Verstynen",
      "userId": "04724296371017749786"
     },
     "user_tz": 240
    },
    "id": "QRwrYsJZtrV5",
    "outputId": "4db1d548-f3cf-4a93-d68d-1fb9e7f49c0b"
   },
   "outputs": [],
   "source": [
    "!pip install --upgrade git+https://github.com/coaxlab/explorationlib\n",
    "!pip install --upgrade git+https://github.com/MattChanTK/gym-maze.git\n",
    "!pip install celluloid # for the gifs"
   ]
  },
  {
   "cell_type": "markdown",
   "metadata": {
    "id": "B1wPtf6ttrV5"
   },
   "source": [
    "### Import some modules\n",
    "Let us begin by importing some modules from the standard library. These are just some general purpose tools we will use."
   ]
  },
  {
   "cell_type": "code",
   "execution_count": null,
   "metadata": {
    "executionInfo": {
     "elapsed": 13,
     "status": "ok",
     "timestamp": 1689861488862,
     "user": {
      "displayName": "Timothy Verstynen",
      "userId": "04724296371017749786"
     },
     "user_tz": 240
    },
    "id": "ZLIk1zMRtDVh"
   },
   "outputs": [],
   "source": [
    "import shutil\n",
    "import glob\n",
    "import os\n",
    "import copy\n",
    "import sys"
   ]
  },
  {
   "cell_type": "markdown",
   "metadata": {
    "id": "3Lbzoy9utrV6"
   },
   "source": [
    "Next we can import modules that are common to scientific programming in python."
   ]
  },
  {
   "cell_type": "code",
   "execution_count": null,
   "metadata": {
    "executionInfo": {
     "elapsed": 1526,
     "status": "ok",
     "timestamp": 1689861490380,
     "user": {
      "displayName": "Timothy Verstynen",
      "userId": "04724296371017749786"
     },
     "user_tz": 240
    },
    "id": "tRo4a_8btrV6"
   },
   "outputs": [],
   "source": [
    "import numpy as np\n",
    "import pandas as pd\n",
    "import seaborn as sns\n",
    "import matplotlib.pyplot as plt"
   ]
  },
  {
   "cell_type": "markdown",
   "metadata": {
    "id": "xmngBATktrV6"
   },
   "source": [
    "Now let's grab a bunch of functions from _explorationlib_ to play with. If our install using _pip_ above worked out, this next cell should run without error."
   ]
  },
  {
   "cell_type": "code",
   "execution_count": null,
   "metadata": {
    "executionInfo": {
     "elapsed": 7925,
     "status": "ok",
     "timestamp": 1689861498301,
     "user": {
      "displayName": "Timothy Verstynen",
      "userId": "04724296371017749786"
     },
     "user_tz": 240
    },
    "id": "dIMHYRWVtrV6"
   },
   "outputs": [],
   "source": [
    "# All the explorers we will play with are called\n",
    "# \"agents\"; a bit of computer science jargon\n",
    "from explorationlib import agent\n",
    "\n",
    "# The environments we will simulate live in a \"gym\"\n",
    "from explorationlib import local_gym as gym\n",
    "\n",
    "# Computational experiments are run with 'experiment'\n",
    "from explorationlib.run import experiment\n",
    "\n",
    "# Here are some tools to select, save, and load\n",
    "# data from computational experiments\n",
    "from explorationlib.util import select_exp\n",
    "from explorationlib.util import load\n",
    "from explorationlib.util import save\n",
    "\n",
    "# A bunch of tools for plotting and for\n",
    "# movie making\n",
    "from explorationlib.plot import plot_position2d\n",
    "from explorationlib.plot import plot_length_hist\n",
    "from explorationlib.plot import plot_length\n",
    "from explorationlib.plot import plot_targets2d\n",
    "#from explorationlib.plot import render_2d\n",
    "from explorationlib.plot import show_gif\n",
    "\n",
    "# A couple metrics for scoring how well, or poorly,\n",
    "# an exploration experiment went.\n",
    "from explorationlib.score import search_efficiency\n",
    "from explorationlib.score import total_reward\n",
    "#from explorationlib.score import average_reward"
   ]
  },
  {
   "cell_type": "markdown",
   "metadata": {
    "id": "zIhkeP6wtrV7"
   },
   "source": [
    "Before we go too far, let's do some work to make the plots look nicer.  We don't _have_ to do this, but having clear data visualization helps us better understand our results."
   ]
  },
  {
   "cell_type": "code",
   "execution_count": null,
   "metadata": {
    "executionInfo": {
     "elapsed": 34,
     "status": "ok",
     "timestamp": 1689861498303,
     "user": {
      "displayName": "Timothy Verstynen",
      "userId": "04724296371017749786"
     },
     "user_tz": 240
    },
    "id": "HuGfJ_MPtrV7"
   },
   "outputs": [],
   "source": [
    "%matplotlib inline\n",
    "%config InlineBackend.figure_format='retina'\n",
    "\n",
    "plt.rcParams[\"axes.facecolor\"] = \"white\"\n",
    "plt.rcParams[\"figure.facecolor\"] = \"white\"\n",
    "plt.rcParams[\"font.size\"] = \"16\""
   ]
  },
  {
   "cell_type": "markdown",
   "metadata": {
    "id": "kbqeVdlXtrV7"
   },
   "source": [
    "Finally, let's set up some better autocomplete and development tools in our notebooks. Again, optional. If this errors out, you might consider skipping it."
   ]
  },
  {
   "cell_type": "code",
   "execution_count": null,
   "metadata": {
    "executionInfo": {
     "elapsed": 29,
     "status": "ok",
     "timestamp": 1689861498304,
     "user": {
      "displayName": "Timothy Verstynen",
      "userId": "04724296371017749786"
     },
     "user_tz": 240
    },
    "id": "gCSE8g2il0lq"
   },
   "outputs": [],
   "source": [
    "# config IPCompleter.greedy=True\n",
    "# load_ext autoreload\n",
    "# autoreload 2"
   ]
  },
  {
   "cell_type": "markdown",
   "metadata": {
    "id": "GQFnYiJZtrV8"
   },
   "source": [
    "### Make a space for the data\n",
    "Make a folder called \"data\" to keep experimental data in. We will use it for all our examples.\n",
    "\n",
    "**WARNING** When running in a colab, anything you save to \"data/\" will be lost as soon as you shutdown the colab. This is ok for now. We will cover ways to save your data permanently later on."
   ]
  },
  {
   "cell_type": "code",
   "execution_count": null,
   "metadata": {
    "executionInfo": {
     "elapsed": 27,
     "status": "ok",
     "timestamp": 1689861498305,
     "user": {
      "displayName": "Timothy Verstynen",
      "userId": "04724296371017749786"
     },
     "user_tz": 240
    },
    "id": "s7rKAcfgl0lq"
   },
   "outputs": [],
   "source": [
    "if not os.path.exists(\"data\"):\n",
    "    os.makedirs(\"data\")"
   ]
  },
  {
   "cell_type": "markdown",
   "metadata": {
    "id": "KWDG-lBItrV8"
   },
   "source": [
    "## Section 1 - Let's make some bacteria!\n",
    "\n",
    "We want to run a simple experiment using _explorationlib_. We will simulate a simple bacteria agent wandering a small environment with \"food\" resources that are detectable by scents (though our toy animal has no sensory abilities yet).\n",
    "\n",
    "1. Instantiate a random walker, in a small 2d box environment, with walls and a lot of targets to find when exploring. Each target should have a value of '1'.\n",
    "2. Run an experiment, for 200 steps.\n",
    "3. Plot the env, target, the agents path in the experiment.\n",
    "4. Make a movie of experiment.\n",
    "5. Score the agent, and reward (targets), and its efficiency."
   ]
  },
  {
   "cell_type": "markdown",
   "metadata": {
    "id": "xVQXD-rZtrV8"
   },
   "source": [
    "#### Instantiate\n",
    "\n",
    "First we get things ready by specifying all of the relevaant parameters and objects."
   ]
  },
  {
   "cell_type": "code",
   "execution_count": null,
   "metadata": {
    "executionInfo": {
     "elapsed": 25,
     "status": "ok",
     "timestamp": 1689861498306,
     "user": {
      "displayName": "Timothy Verstynen",
      "userId": "04724296371017749786"
     },
     "user_tz": 240
    },
    "id": "53E5uUIxtrV8"
   },
   "outputs": [],
   "source": [
    "# Parameters\n",
    "exp_name = \"data/explorationlib_a1.pkl\"   # all experiments need names\n",
    "num_experiments = 1             # we only want to run one experiment\n",
    "num_steps = 200                 # how many exploration steps in space?\n",
    "\n",
    "scale = 2             # The noise scale; the diffusion constant\n",
    "detection_radius = 1  # How far can the agent see?\n",
    "boundary = (10, 10)   # a 2d world, 10 by 10\n",
    "mode = \"stopping\"     # stop when we hit a wall\n",
    "num_targets = 100     # how many thingss to \"eat\"?\n",
    "\n",
    "# Setup targets. Targets are an abstraction for the\n",
    "# thing we are exploring to find. For now, all targets\n",
    "# are just the number 1 placed randomly about.\n",
    "targets = gym.uniform_targets(num_targets, boundary)\n",
    "values = gym.constant_values(targets, 1)\n",
    "\n",
    "# Setup agent and env\n",
    "env = gym.Bounded(boundary=boundary, mode=mode)\n",
    "env.add_targets(targets, values)\n",
    "brownian = agent.Diffusion2d(scale=scale)"
   ]
  },
  {
   "cell_type": "markdown",
   "metadata": {
    "id": "_KFqwyvttrV8"
   },
   "source": [
    "#### Run\n",
    "\n",
    "We use the _experiment_ function to exeucte the simulations."
   ]
  },
  {
   "cell_type": "markdown",
   "metadata": {
    "id": "bYbsPnW2trV8"
   },
   "source": [
    "(If you've been playing with this notebook for a while, then clear the old output first.)"
   ]
  },
  {
   "cell_type": "code",
   "execution_count": null,
   "metadata": {
    "executionInfo": {
     "elapsed": 23,
     "status": "ok",
     "timestamp": 1689861498306,
     "user": {
      "displayName": "Timothy Verstynen",
      "userId": "04724296371017749786"
     },
     "user_tz": 240
    },
    "id": "krvd-84jtrV8"
   },
   "outputs": [],
   "source": [
    "# Cleanup old versions\n",
    "for path in glob.glob(f\"{exp_name}\"):\n",
    "    os.remove(path)"
   ]
  },
  {
   "cell_type": "code",
   "execution_count": null,
   "metadata": {
    "colab": {
     "base_uri": "https://localhost:8080/",
     "height": 49,
     "referenced_widgets": [
      "2b5b5b31ca5f46058d07ce36fc21e744",
      "0544e68ab8394a1f87a06d262c8113d5",
      "2560753be7834446ac3b2f617d9a604e",
      "8fdc17018b614896b614aef7b667ce3e",
      "2a9355800978464aa2d8b20a8dcfee34",
      "ac0aa1da529a4f239c8841de74d361e1",
      "ff8cf2dfa71c4d29881546e6c2d96fed",
      "ac0e855994e847dfaeabf0e280f523cd",
      "54a1043171cb44248785f4adc7e37d41",
      "98717f9957fc4d3dbb6723caf30e7b42",
      "10729cd3dd6944f6b186921d9148453b"
     ]
    },
    "executionInfo": {
     "elapsed": 313,
     "status": "ok",
     "timestamp": 1689861498598,
     "user": {
      "displayName": "Timothy Verstynen",
      "userId": "04724296371017749786"
     },
     "user_tz": 240
    },
    "id": "hN-r-XNMtrV9",
    "outputId": "15ee0151-7527-416c-a272-3f3b5165dbb7"
   },
   "outputs": [],
   "source": [
    "# Run!\n",
    "exp_data = experiment(\n",
    "    f\"brownian\",\n",
    "    brownian,\n",
    "    env,\n",
    "    num_steps=num_steps,\n",
    "    num_experiments=num_experiments,\n",
    "    seed=59393,\n",
    "    dump=False,\n",
    ")"
   ]
  },
  {
   "cell_type": "markdown",
   "metadata": {
    "id": "Vuj3pIgZtrV9"
   },
   "source": [
    "#### Plot\n",
    "\n",
    "_explorationlib_ has a set of built in visualization functions that we loaded at the beginning. We'll use a few here to see how our agents are doing."
   ]
  },
  {
   "cell_type": "code",
   "execution_count": null,
   "metadata": {
    "colab": {
     "base_uri": "https://localhost:8080/",
     "height": 373
    },
    "executionInfo": {
     "elapsed": 647,
     "status": "ok",
     "timestamp": 1689861499243,
     "user": {
      "displayName": "Timothy Verstynen",
      "userId": "04724296371017749786"
     },
     "user_tz": 240
    },
    "id": "fmgXxNXgtrV9",
    "outputId": "00438edb-6592-4b22-9ae4-1070b719f727"
   },
   "outputs": [],
   "source": [
    "# Plot the 2d env, and the targets (black dots)\n",
    "plot_targets2d(env, boundary=boundary, title=\"Simple box\", figsize=(3,3))"
   ]
  },
  {
   "cell_type": "code",
   "execution_count": null,
   "metadata": {
    "colab": {
     "base_uri": "https://localhost:8080/",
     "height": 355
    },
    "executionInfo": {
     "elapsed": 1423,
     "status": "ok",
     "timestamp": 1689861500664,
     "user": {
      "displayName": "Timothy Verstynen",
      "userId": "04724296371017749786"
     },
     "user_tz": 240
    },
    "id": "vGaAstFxtrV9",
    "outputId": "af751da0-40cd-4411-d662-a7e9ec9917b6"
   },
   "outputs": [],
   "source": [
    "# Plot the positions the agent took during its\n",
    "# random walk, and the targets (this time in red)\n",
    "#\n",
    "# Note: there are quite a few parameters you can play\n",
    "# with to change the size of the plot, colors, and so on.\n",
    "# See `explorationlib.plot` for all the options\n",
    "\n",
    "# View size\n",
    "plot_boundary = (20, 20)\n",
    "\n",
    "# Agent\n",
    "ax = None\n",
    "ax = plot_position2d(\n",
    "    select_exp(exp_data,0),\n",
    "    boundary=plot_boundary,\n",
    "    label=f\"Brownian\",\n",
    "    title=f\"Brownian Exp.\",\n",
    "    color=\"brown\",\n",
    "    alpha=0.6,\n",
    "    ax=None,\n",
    ")\n",
    "\n",
    "ax = plot_targets2d(\n",
    "    env,\n",
    "    boundary=boundary,\n",
    "    color=\"red\",\n",
    "    alpha=1,\n",
    "    label=\"Targets\",\n",
    "    ax=ax,\n",
    ")"
   ]
  },
  {
   "cell_type": "markdown",
   "metadata": {
    "id": "ahV-N9MetrV9"
   },
   "source": [
    "#### Score\n",
    "\n",
    "Now we can quantify our animal's behavior.\n",
    "\n",
    "First we will look at *total_reward*, which counts how many times the bacteria ran into a food target."
   ]
  },
  {
   "cell_type": "code",
   "execution_count": null,
   "metadata": {
    "colab": {
     "base_uri": "https://localhost:8080/",
     "height": 67,
     "referenced_widgets": [
      "07def12c5b124ceba1b33c8d6c98def9",
      "d9de685d02f74f56857021c060cbfb07",
      "96656e4db73e4c0b91b9431e1be49f08",
      "298325b576b840aa80f2d748fe883cdf",
      "f79d50280b24484e93bc06d334bd005e",
      "3252b09a40c9492db6280d57f2aded49",
      "57693aa792674a86b27afb2fbf746be8",
      "97411e4914ba46c7a049cfd01fcc25eb",
      "a28a38f807d349789aec83729bbdddeb",
      "283c4a7bd12840e985be14affc815c03",
      "15a1d376f8e340fcb6ff69e018967259"
     ]
    },
    "executionInfo": {
     "elapsed": 12,
     "status": "ok",
     "timestamp": 1689861500665,
     "user": {
      "displayName": "Timothy Verstynen",
      "userId": "04724296371017749786"
     },
     "user_tz": 240
    },
    "id": "SJBc02Es0h-r",
    "outputId": "41551a61-ff64-4bfa-aef1-33a647abf234"
   },
   "outputs": [],
   "source": [
    "# Total rewards (targets) collected\n",
    "total_reward(exp_data)"
   ]
  },
  {
   "cell_type": "markdown",
   "metadata": {},
   "source": [
    "Next we will look at the efficiency of the search, which is just the number of movements taken by the bacteria over the number of food targets collected."
   ]
  },
  {
   "cell_type": "code",
   "execution_count": null,
   "metadata": {
    "colab": {
     "base_uri": "https://localhost:8080/",
     "height": 67,
     "referenced_widgets": [
      "eed9884c4e2d40f8aa5b877b1d5fb8c2",
      "3839fadba05545289b7b15dd3dce7e8a",
      "45833907a8ad4793a91beabfbc2baea7",
      "c24d1561275149198e5b132c4cf8f53c",
      "8b64a6407cee4e129b75d6387e889a09",
      "2d8922a986c2493db55ae0f7cd6a4c0f",
      "802f613958e346738f94b37e68cb13a1",
      "64bb1dfd93e34570b523ca8d078beb57",
      "7534c14bef28425aaaa10bfbd2255c81",
      "ad17a82ec6fe4df990487560d7b4de12",
      "7f8ddc54c153427db563aaabcefea676"
     ]
    },
    "executionInfo": {
     "elapsed": 339,
     "status": "ok",
     "timestamp": 1689861500996,
     "user": {
      "displayName": "Timothy Verstynen",
      "userId": "04724296371017749786"
     },
     "user_tz": 240
    },
    "id": "Q0fj9QcP0mj5",
    "outputId": "77c8080e-dfc8-4f12-ec3a-3d8e5bc3090f"
   },
   "outputs": [],
   "source": [
    "# How efficient (movements/target) was the search\n",
    "search_efficiency(exp_data)"
   ]
  },
  {
   "cell_type": "markdown",
   "metadata": {
    "id": "rVSpi1crtrV9"
   },
   "source": [
    "#### Play\n",
    "\n",
    "Go back to the top of this section, change the random seed number in the cell where we ran the experiment, and run it again. Each time you do you should generate a new exploration. You'll get different rewards and efficiency each time as well.\n"
   ]
  },
  {
   "cell_type": "markdown",
   "metadata": {
    "id": "AbtEcBK2trV9"
   },
   "source": [
    "### Question 1.1\n",
    "\n",
    "How much variation do you see from run to run? More to the point, if this was how you _had_ to explore the world, how well do you think you'd do?"
   ]
  },
  {
   "cell_type": "code",
   "execution_count": null,
   "metadata": {
    "executionInfo": {
     "elapsed": 3,
     "status": "ok",
     "timestamp": 1689861500997,
     "user": {
      "displayName": "Timothy Verstynen",
      "userId": "04724296371017749786"
     },
     "user_tz": 240
    },
    "id": "XjUsuFA9l0lt"
   },
   "outputs": [],
   "source": [
    "# Write your answer here as a comment. Explain yourself."
   ]
  },
  {
   "cell_type": "markdown",
   "metadata": {},
   "source": [
    "### Question 1.2\n",
    "\n",
    "Run the simulations as is a few more times, changing the random seed. Keep track of the two outcome measures, _total reward_ and _search efficiency_. Now change the number of steps in each simulation (the *num_steps* parameter) to 400. How do the two outcome measures change? "
   ]
  },
  {
   "cell_type": "code",
   "execution_count": null,
   "metadata": {},
   "outputs": [],
   "source": [
    "# Write your answer here as a comment. Explain yourself."
   ]
  }
 ],
 "metadata": {
  "colab": {
   "provenance": [
    {
     "file_id": "1OuYUJYeXtOTwLuBEF5goOhSMa4gGrOiB",
     "timestamp": 1663858766061
    }
   ]
  },
  "kernelspec": {
   "display_name": "Python 3",
   "language": "python",
   "name": "python3"
  },
  "language_info": {
   "codemirror_mode": {
    "name": "ipython",
    "version": 3
   },
   "file_extension": ".py",
   "mimetype": "text/x-python",
   "name": "python",
   "nbconvert_exporter": "python",
   "pygments_lexer": "ipython3",
   "version": "3.9.13"
  },
  "widgets": {
   "application/vnd.jupyter.widget-state+json": {
    "0544e68ab8394a1f87a06d262c8113d5": {
     "model_module": "@jupyter-widgets/controls",
     "model_module_version": "1.5.0",
     "model_name": "HTMLModel",
     "state": {
      "_dom_classes": [],
      "_model_module": "@jupyter-widgets/controls",
      "_model_module_version": "1.5.0",
      "_model_name": "HTMLModel",
      "_view_count": null,
      "_view_module": "@jupyter-widgets/controls",
      "_view_module_version": "1.5.0",
      "_view_name": "HTMLView",
      "description": "",
      "description_tooltip": null,
      "layout": "IPY_MODEL_ac0aa1da529a4f239c8841de74d361e1",
      "placeholder": "​",
      "style": "IPY_MODEL_ff8cf2dfa71c4d29881546e6c2d96fed",
      "value": "brownian: 100%"
     }
    },
    "07def12c5b124ceba1b33c8d6c98def9": {
     "model_module": "@jupyter-widgets/controls",
     "model_module_version": "1.5.0",
     "model_name": "HBoxModel",
     "state": {
      "_dom_classes": [],
      "_model_module": "@jupyter-widgets/controls",
      "_model_module_version": "1.5.0",
      "_model_name": "HBoxModel",
      "_view_count": null,
      "_view_module": "@jupyter-widgets/controls",
      "_view_module_version": "1.5.0",
      "_view_name": "HBoxView",
      "box_style": "",
      "children": [
       "IPY_MODEL_d9de685d02f74f56857021c060cbfb07",
       "IPY_MODEL_96656e4db73e4c0b91b9431e1be49f08",
       "IPY_MODEL_298325b576b840aa80f2d748fe883cdf"
      ],
      "layout": "IPY_MODEL_f79d50280b24484e93bc06d334bd005e"
     }
    },
    "10729cd3dd6944f6b186921d9148453b": {
     "model_module": "@jupyter-widgets/controls",
     "model_module_version": "1.5.0",
     "model_name": "DescriptionStyleModel",
     "state": {
      "_model_module": "@jupyter-widgets/controls",
      "_model_module_version": "1.5.0",
      "_model_name": "DescriptionStyleModel",
      "_view_count": null,
      "_view_module": "@jupyter-widgets/base",
      "_view_module_version": "1.2.0",
      "_view_name": "StyleView",
      "description_width": ""
     }
    },
    "15a1d376f8e340fcb6ff69e018967259": {
     "model_module": "@jupyter-widgets/controls",
     "model_module_version": "1.5.0",
     "model_name": "DescriptionStyleModel",
     "state": {
      "_model_module": "@jupyter-widgets/controls",
      "_model_module_version": "1.5.0",
      "_model_name": "DescriptionStyleModel",
      "_view_count": null,
      "_view_module": "@jupyter-widgets/base",
      "_view_module_version": "1.2.0",
      "_view_name": "StyleView",
      "description_width": ""
     }
    },
    "2560753be7834446ac3b2f617d9a604e": {
     "model_module": "@jupyter-widgets/controls",
     "model_module_version": "1.5.0",
     "model_name": "FloatProgressModel",
     "state": {
      "_dom_classes": [],
      "_model_module": "@jupyter-widgets/controls",
      "_model_module_version": "1.5.0",
      "_model_name": "FloatProgressModel",
      "_view_count": null,
      "_view_module": "@jupyter-widgets/controls",
      "_view_module_version": "1.5.0",
      "_view_name": "ProgressView",
      "bar_style": "success",
      "description": "",
      "description_tooltip": null,
      "layout": "IPY_MODEL_ac0e855994e847dfaeabf0e280f523cd",
      "max": 1,
      "min": 0,
      "orientation": "horizontal",
      "style": "IPY_MODEL_54a1043171cb44248785f4adc7e37d41",
      "value": 1
     }
    },
    "283c4a7bd12840e985be14affc815c03": {
     "model_module": "@jupyter-widgets/base",
     "model_module_version": "1.2.0",
     "model_name": "LayoutModel",
     "state": {
      "_model_module": "@jupyter-widgets/base",
      "_model_module_version": "1.2.0",
      "_model_name": "LayoutModel",
      "_view_count": null,
      "_view_module": "@jupyter-widgets/base",
      "_view_module_version": "1.2.0",
      "_view_name": "LayoutView",
      "align_content": null,
      "align_items": null,
      "align_self": null,
      "border": null,
      "bottom": null,
      "display": null,
      "flex": null,
      "flex_flow": null,
      "grid_area": null,
      "grid_auto_columns": null,
      "grid_auto_flow": null,
      "grid_auto_rows": null,
      "grid_column": null,
      "grid_gap": null,
      "grid_row": null,
      "grid_template_areas": null,
      "grid_template_columns": null,
      "grid_template_rows": null,
      "height": null,
      "justify_content": null,
      "justify_items": null,
      "left": null,
      "margin": null,
      "max_height": null,
      "max_width": null,
      "min_height": null,
      "min_width": null,
      "object_fit": null,
      "object_position": null,
      "order": null,
      "overflow": null,
      "overflow_x": null,
      "overflow_y": null,
      "padding": null,
      "right": null,
      "top": null,
      "visibility": null,
      "width": null
     }
    },
    "298325b576b840aa80f2d748fe883cdf": {
     "model_module": "@jupyter-widgets/controls",
     "model_module_version": "1.5.0",
     "model_name": "HTMLModel",
     "state": {
      "_dom_classes": [],
      "_model_module": "@jupyter-widgets/controls",
      "_model_module_version": "1.5.0",
      "_model_name": "HTMLModel",
      "_view_count": null,
      "_view_module": "@jupyter-widgets/controls",
      "_view_module_version": "1.5.0",
      "_view_name": "HTMLView",
      "description": "",
      "description_tooltip": null,
      "layout": "IPY_MODEL_283c4a7bd12840e985be14affc815c03",
      "placeholder": "​",
      "style": "IPY_MODEL_15a1d376f8e340fcb6ff69e018967259",
      "value": " 1/1 [00:00&lt;00:00, 12.96it/s]"
     }
    },
    "2a9355800978464aa2d8b20a8dcfee34": {
     "model_module": "@jupyter-widgets/base",
     "model_module_version": "1.2.0",
     "model_name": "LayoutModel",
     "state": {
      "_model_module": "@jupyter-widgets/base",
      "_model_module_version": "1.2.0",
      "_model_name": "LayoutModel",
      "_view_count": null,
      "_view_module": "@jupyter-widgets/base",
      "_view_module_version": "1.2.0",
      "_view_name": "LayoutView",
      "align_content": null,
      "align_items": null,
      "align_self": null,
      "border": null,
      "bottom": null,
      "display": null,
      "flex": null,
      "flex_flow": null,
      "grid_area": null,
      "grid_auto_columns": null,
      "grid_auto_flow": null,
      "grid_auto_rows": null,
      "grid_column": null,
      "grid_gap": null,
      "grid_row": null,
      "grid_template_areas": null,
      "grid_template_columns": null,
      "grid_template_rows": null,
      "height": null,
      "justify_content": null,
      "justify_items": null,
      "left": null,
      "margin": null,
      "max_height": null,
      "max_width": null,
      "min_height": null,
      "min_width": null,
      "object_fit": null,
      "object_position": null,
      "order": null,
      "overflow": null,
      "overflow_x": null,
      "overflow_y": null,
      "padding": null,
      "right": null,
      "top": null,
      "visibility": null,
      "width": null
     }
    },
    "2b5b5b31ca5f46058d07ce36fc21e744": {
     "model_module": "@jupyter-widgets/controls",
     "model_module_version": "1.5.0",
     "model_name": "HBoxModel",
     "state": {
      "_dom_classes": [],
      "_model_module": "@jupyter-widgets/controls",
      "_model_module_version": "1.5.0",
      "_model_name": "HBoxModel",
      "_view_count": null,
      "_view_module": "@jupyter-widgets/controls",
      "_view_module_version": "1.5.0",
      "_view_name": "HBoxView",
      "box_style": "",
      "children": [
       "IPY_MODEL_0544e68ab8394a1f87a06d262c8113d5",
       "IPY_MODEL_2560753be7834446ac3b2f617d9a604e",
       "IPY_MODEL_8fdc17018b614896b614aef7b667ce3e"
      ],
      "layout": "IPY_MODEL_2a9355800978464aa2d8b20a8dcfee34"
     }
    },
    "2d8922a986c2493db55ae0f7cd6a4c0f": {
     "model_module": "@jupyter-widgets/base",
     "model_module_version": "1.2.0",
     "model_name": "LayoutModel",
     "state": {
      "_model_module": "@jupyter-widgets/base",
      "_model_module_version": "1.2.0",
      "_model_name": "LayoutModel",
      "_view_count": null,
      "_view_module": "@jupyter-widgets/base",
      "_view_module_version": "1.2.0",
      "_view_name": "LayoutView",
      "align_content": null,
      "align_items": null,
      "align_self": null,
      "border": null,
      "bottom": null,
      "display": null,
      "flex": null,
      "flex_flow": null,
      "grid_area": null,
      "grid_auto_columns": null,
      "grid_auto_flow": null,
      "grid_auto_rows": null,
      "grid_column": null,
      "grid_gap": null,
      "grid_row": null,
      "grid_template_areas": null,
      "grid_template_columns": null,
      "grid_template_rows": null,
      "height": null,
      "justify_content": null,
      "justify_items": null,
      "left": null,
      "margin": null,
      "max_height": null,
      "max_width": null,
      "min_height": null,
      "min_width": null,
      "object_fit": null,
      "object_position": null,
      "order": null,
      "overflow": null,
      "overflow_x": null,
      "overflow_y": null,
      "padding": null,
      "right": null,
      "top": null,
      "visibility": null,
      "width": null
     }
    },
    "3252b09a40c9492db6280d57f2aded49": {
     "model_module": "@jupyter-widgets/base",
     "model_module_version": "1.2.0",
     "model_name": "LayoutModel",
     "state": {
      "_model_module": "@jupyter-widgets/base",
      "_model_module_version": "1.2.0",
      "_model_name": "LayoutModel",
      "_view_count": null,
      "_view_module": "@jupyter-widgets/base",
      "_view_module_version": "1.2.0",
      "_view_name": "LayoutView",
      "align_content": null,
      "align_items": null,
      "align_self": null,
      "border": null,
      "bottom": null,
      "display": null,
      "flex": null,
      "flex_flow": null,
      "grid_area": null,
      "grid_auto_columns": null,
      "grid_auto_flow": null,
      "grid_auto_rows": null,
      "grid_column": null,
      "grid_gap": null,
      "grid_row": null,
      "grid_template_areas": null,
      "grid_template_columns": null,
      "grid_template_rows": null,
      "height": null,
      "justify_content": null,
      "justify_items": null,
      "left": null,
      "margin": null,
      "max_height": null,
      "max_width": null,
      "min_height": null,
      "min_width": null,
      "object_fit": null,
      "object_position": null,
      "order": null,
      "overflow": null,
      "overflow_x": null,
      "overflow_y": null,
      "padding": null,
      "right": null,
      "top": null,
      "visibility": null,
      "width": null
     }
    },
    "3839fadba05545289b7b15dd3dce7e8a": {
     "model_module": "@jupyter-widgets/controls",
     "model_module_version": "1.5.0",
     "model_name": "HTMLModel",
     "state": {
      "_dom_classes": [],
      "_model_module": "@jupyter-widgets/controls",
      "_model_module_version": "1.5.0",
      "_model_name": "HTMLModel",
      "_view_count": null,
      "_view_module": "@jupyter-widgets/controls",
      "_view_module_version": "1.5.0",
      "_view_name": "HTMLView",
      "description": "",
      "description_tooltip": null,
      "layout": "IPY_MODEL_2d8922a986c2493db55ae0f7cd6a4c0f",
      "placeholder": "​",
      "style": "IPY_MODEL_802f613958e346738f94b37e68cb13a1",
      "value": "search_efficiency: 100%"
     }
    },
    "45833907a8ad4793a91beabfbc2baea7": {
     "model_module": "@jupyter-widgets/controls",
     "model_module_version": "1.5.0",
     "model_name": "FloatProgressModel",
     "state": {
      "_dom_classes": [],
      "_model_module": "@jupyter-widgets/controls",
      "_model_module_version": "1.5.0",
      "_model_name": "FloatProgressModel",
      "_view_count": null,
      "_view_module": "@jupyter-widgets/controls",
      "_view_module_version": "1.5.0",
      "_view_name": "ProgressView",
      "bar_style": "success",
      "description": "",
      "description_tooltip": null,
      "layout": "IPY_MODEL_64bb1dfd93e34570b523ca8d078beb57",
      "max": 1,
      "min": 0,
      "orientation": "horizontal",
      "style": "IPY_MODEL_7534c14bef28425aaaa10bfbd2255c81",
      "value": 1
     }
    },
    "54a1043171cb44248785f4adc7e37d41": {
     "model_module": "@jupyter-widgets/controls",
     "model_module_version": "1.5.0",
     "model_name": "ProgressStyleModel",
     "state": {
      "_model_module": "@jupyter-widgets/controls",
      "_model_module_version": "1.5.0",
      "_model_name": "ProgressStyleModel",
      "_view_count": null,
      "_view_module": "@jupyter-widgets/base",
      "_view_module_version": "1.2.0",
      "_view_name": "StyleView",
      "bar_color": null,
      "description_width": ""
     }
    },
    "57693aa792674a86b27afb2fbf746be8": {
     "model_module": "@jupyter-widgets/controls",
     "model_module_version": "1.5.0",
     "model_name": "DescriptionStyleModel",
     "state": {
      "_model_module": "@jupyter-widgets/controls",
      "_model_module_version": "1.5.0",
      "_model_name": "DescriptionStyleModel",
      "_view_count": null,
      "_view_module": "@jupyter-widgets/base",
      "_view_module_version": "1.2.0",
      "_view_name": "StyleView",
      "description_width": ""
     }
    },
    "64bb1dfd93e34570b523ca8d078beb57": {
     "model_module": "@jupyter-widgets/base",
     "model_module_version": "1.2.0",
     "model_name": "LayoutModel",
     "state": {
      "_model_module": "@jupyter-widgets/base",
      "_model_module_version": "1.2.0",
      "_model_name": "LayoutModel",
      "_view_count": null,
      "_view_module": "@jupyter-widgets/base",
      "_view_module_version": "1.2.0",
      "_view_name": "LayoutView",
      "align_content": null,
      "align_items": null,
      "align_self": null,
      "border": null,
      "bottom": null,
      "display": null,
      "flex": null,
      "flex_flow": null,
      "grid_area": null,
      "grid_auto_columns": null,
      "grid_auto_flow": null,
      "grid_auto_rows": null,
      "grid_column": null,
      "grid_gap": null,
      "grid_row": null,
      "grid_template_areas": null,
      "grid_template_columns": null,
      "grid_template_rows": null,
      "height": null,
      "justify_content": null,
      "justify_items": null,
      "left": null,
      "margin": null,
      "max_height": null,
      "max_width": null,
      "min_height": null,
      "min_width": null,
      "object_fit": null,
      "object_position": null,
      "order": null,
      "overflow": null,
      "overflow_x": null,
      "overflow_y": null,
      "padding": null,
      "right": null,
      "top": null,
      "visibility": null,
      "width": null
     }
    },
    "7534c14bef28425aaaa10bfbd2255c81": {
     "model_module": "@jupyter-widgets/controls",
     "model_module_version": "1.5.0",
     "model_name": "ProgressStyleModel",
     "state": {
      "_model_module": "@jupyter-widgets/controls",
      "_model_module_version": "1.5.0",
      "_model_name": "ProgressStyleModel",
      "_view_count": null,
      "_view_module": "@jupyter-widgets/base",
      "_view_module_version": "1.2.0",
      "_view_name": "StyleView",
      "bar_color": null,
      "description_width": ""
     }
    },
    "7f8ddc54c153427db563aaabcefea676": {
     "model_module": "@jupyter-widgets/controls",
     "model_module_version": "1.5.0",
     "model_name": "DescriptionStyleModel",
     "state": {
      "_model_module": "@jupyter-widgets/controls",
      "_model_module_version": "1.5.0",
      "_model_name": "DescriptionStyleModel",
      "_view_count": null,
      "_view_module": "@jupyter-widgets/base",
      "_view_module_version": "1.2.0",
      "_view_name": "StyleView",
      "description_width": ""
     }
    },
    "802f613958e346738f94b37e68cb13a1": {
     "model_module": "@jupyter-widgets/controls",
     "model_module_version": "1.5.0",
     "model_name": "DescriptionStyleModel",
     "state": {
      "_model_module": "@jupyter-widgets/controls",
      "_model_module_version": "1.5.0",
      "_model_name": "DescriptionStyleModel",
      "_view_count": null,
      "_view_module": "@jupyter-widgets/base",
      "_view_module_version": "1.2.0",
      "_view_name": "StyleView",
      "description_width": ""
     }
    },
    "8b64a6407cee4e129b75d6387e889a09": {
     "model_module": "@jupyter-widgets/base",
     "model_module_version": "1.2.0",
     "model_name": "LayoutModel",
     "state": {
      "_model_module": "@jupyter-widgets/base",
      "_model_module_version": "1.2.0",
      "_model_name": "LayoutModel",
      "_view_count": null,
      "_view_module": "@jupyter-widgets/base",
      "_view_module_version": "1.2.0",
      "_view_name": "LayoutView",
      "align_content": null,
      "align_items": null,
      "align_self": null,
      "border": null,
      "bottom": null,
      "display": null,
      "flex": null,
      "flex_flow": null,
      "grid_area": null,
      "grid_auto_columns": null,
      "grid_auto_flow": null,
      "grid_auto_rows": null,
      "grid_column": null,
      "grid_gap": null,
      "grid_row": null,
      "grid_template_areas": null,
      "grid_template_columns": null,
      "grid_template_rows": null,
      "height": null,
      "justify_content": null,
      "justify_items": null,
      "left": null,
      "margin": null,
      "max_height": null,
      "max_width": null,
      "min_height": null,
      "min_width": null,
      "object_fit": null,
      "object_position": null,
      "order": null,
      "overflow": null,
      "overflow_x": null,
      "overflow_y": null,
      "padding": null,
      "right": null,
      "top": null,
      "visibility": null,
      "width": null
     }
    },
    "8fdc17018b614896b614aef7b667ce3e": {
     "model_module": "@jupyter-widgets/controls",
     "model_module_version": "1.5.0",
     "model_name": "HTMLModel",
     "state": {
      "_dom_classes": [],
      "_model_module": "@jupyter-widgets/controls",
      "_model_module_version": "1.5.0",
      "_model_name": "HTMLModel",
      "_view_count": null,
      "_view_module": "@jupyter-widgets/controls",
      "_view_module_version": "1.5.0",
      "_view_name": "HTMLView",
      "description": "",
      "description_tooltip": null,
      "layout": "IPY_MODEL_98717f9957fc4d3dbb6723caf30e7b42",
      "placeholder": "​",
      "style": "IPY_MODEL_10729cd3dd6944f6b186921d9148453b",
      "value": " 1/1 [00:00&lt;00:00,  4.12it/s]"
     }
    },
    "96656e4db73e4c0b91b9431e1be49f08": {
     "model_module": "@jupyter-widgets/controls",
     "model_module_version": "1.5.0",
     "model_name": "FloatProgressModel",
     "state": {
      "_dom_classes": [],
      "_model_module": "@jupyter-widgets/controls",
      "_model_module_version": "1.5.0",
      "_model_name": "FloatProgressModel",
      "_view_count": null,
      "_view_module": "@jupyter-widgets/controls",
      "_view_module_version": "1.5.0",
      "_view_name": "ProgressView",
      "bar_style": "success",
      "description": "",
      "description_tooltip": null,
      "layout": "IPY_MODEL_97411e4914ba46c7a049cfd01fcc25eb",
      "max": 1,
      "min": 0,
      "orientation": "horizontal",
      "style": "IPY_MODEL_a28a38f807d349789aec83729bbdddeb",
      "value": 1
     }
    },
    "97411e4914ba46c7a049cfd01fcc25eb": {
     "model_module": "@jupyter-widgets/base",
     "model_module_version": "1.2.0",
     "model_name": "LayoutModel",
     "state": {
      "_model_module": "@jupyter-widgets/base",
      "_model_module_version": "1.2.0",
      "_model_name": "LayoutModel",
      "_view_count": null,
      "_view_module": "@jupyter-widgets/base",
      "_view_module_version": "1.2.0",
      "_view_name": "LayoutView",
      "align_content": null,
      "align_items": null,
      "align_self": null,
      "border": null,
      "bottom": null,
      "display": null,
      "flex": null,
      "flex_flow": null,
      "grid_area": null,
      "grid_auto_columns": null,
      "grid_auto_flow": null,
      "grid_auto_rows": null,
      "grid_column": null,
      "grid_gap": null,
      "grid_row": null,
      "grid_template_areas": null,
      "grid_template_columns": null,
      "grid_template_rows": null,
      "height": null,
      "justify_content": null,
      "justify_items": null,
      "left": null,
      "margin": null,
      "max_height": null,
      "max_width": null,
      "min_height": null,
      "min_width": null,
      "object_fit": null,
      "object_position": null,
      "order": null,
      "overflow": null,
      "overflow_x": null,
      "overflow_y": null,
      "padding": null,
      "right": null,
      "top": null,
      "visibility": null,
      "width": null
     }
    },
    "98717f9957fc4d3dbb6723caf30e7b42": {
     "model_module": "@jupyter-widgets/base",
     "model_module_version": "1.2.0",
     "model_name": "LayoutModel",
     "state": {
      "_model_module": "@jupyter-widgets/base",
      "_model_module_version": "1.2.0",
      "_model_name": "LayoutModel",
      "_view_count": null,
      "_view_module": "@jupyter-widgets/base",
      "_view_module_version": "1.2.0",
      "_view_name": "LayoutView",
      "align_content": null,
      "align_items": null,
      "align_self": null,
      "border": null,
      "bottom": null,
      "display": null,
      "flex": null,
      "flex_flow": null,
      "grid_area": null,
      "grid_auto_columns": null,
      "grid_auto_flow": null,
      "grid_auto_rows": null,
      "grid_column": null,
      "grid_gap": null,
      "grid_row": null,
      "grid_template_areas": null,
      "grid_template_columns": null,
      "grid_template_rows": null,
      "height": null,
      "justify_content": null,
      "justify_items": null,
      "left": null,
      "margin": null,
      "max_height": null,
      "max_width": null,
      "min_height": null,
      "min_width": null,
      "object_fit": null,
      "object_position": null,
      "order": null,
      "overflow": null,
      "overflow_x": null,
      "overflow_y": null,
      "padding": null,
      "right": null,
      "top": null,
      "visibility": null,
      "width": null
     }
    },
    "a28a38f807d349789aec83729bbdddeb": {
     "model_module": "@jupyter-widgets/controls",
     "model_module_version": "1.5.0",
     "model_name": "ProgressStyleModel",
     "state": {
      "_model_module": "@jupyter-widgets/controls",
      "_model_module_version": "1.5.0",
      "_model_name": "ProgressStyleModel",
      "_view_count": null,
      "_view_module": "@jupyter-widgets/base",
      "_view_module_version": "1.2.0",
      "_view_name": "StyleView",
      "bar_color": null,
      "description_width": ""
     }
    },
    "ac0aa1da529a4f239c8841de74d361e1": {
     "model_module": "@jupyter-widgets/base",
     "model_module_version": "1.2.0",
     "model_name": "LayoutModel",
     "state": {
      "_model_module": "@jupyter-widgets/base",
      "_model_module_version": "1.2.0",
      "_model_name": "LayoutModel",
      "_view_count": null,
      "_view_module": "@jupyter-widgets/base",
      "_view_module_version": "1.2.0",
      "_view_name": "LayoutView",
      "align_content": null,
      "align_items": null,
      "align_self": null,
      "border": null,
      "bottom": null,
      "display": null,
      "flex": null,
      "flex_flow": null,
      "grid_area": null,
      "grid_auto_columns": null,
      "grid_auto_flow": null,
      "grid_auto_rows": null,
      "grid_column": null,
      "grid_gap": null,
      "grid_row": null,
      "grid_template_areas": null,
      "grid_template_columns": null,
      "grid_template_rows": null,
      "height": null,
      "justify_content": null,
      "justify_items": null,
      "left": null,
      "margin": null,
      "max_height": null,
      "max_width": null,
      "min_height": null,
      "min_width": null,
      "object_fit": null,
      "object_position": null,
      "order": null,
      "overflow": null,
      "overflow_x": null,
      "overflow_y": null,
      "padding": null,
      "right": null,
      "top": null,
      "visibility": null,
      "width": null
     }
    },
    "ac0e855994e847dfaeabf0e280f523cd": {
     "model_module": "@jupyter-widgets/base",
     "model_module_version": "1.2.0",
     "model_name": "LayoutModel",
     "state": {
      "_model_module": "@jupyter-widgets/base",
      "_model_module_version": "1.2.0",
      "_model_name": "LayoutModel",
      "_view_count": null,
      "_view_module": "@jupyter-widgets/base",
      "_view_module_version": "1.2.0",
      "_view_name": "LayoutView",
      "align_content": null,
      "align_items": null,
      "align_self": null,
      "border": null,
      "bottom": null,
      "display": null,
      "flex": null,
      "flex_flow": null,
      "grid_area": null,
      "grid_auto_columns": null,
      "grid_auto_flow": null,
      "grid_auto_rows": null,
      "grid_column": null,
      "grid_gap": null,
      "grid_row": null,
      "grid_template_areas": null,
      "grid_template_columns": null,
      "grid_template_rows": null,
      "height": null,
      "justify_content": null,
      "justify_items": null,
      "left": null,
      "margin": null,
      "max_height": null,
      "max_width": null,
      "min_height": null,
      "min_width": null,
      "object_fit": null,
      "object_position": null,
      "order": null,
      "overflow": null,
      "overflow_x": null,
      "overflow_y": null,
      "padding": null,
      "right": null,
      "top": null,
      "visibility": null,
      "width": null
     }
    },
    "ad17a82ec6fe4df990487560d7b4de12": {
     "model_module": "@jupyter-widgets/base",
     "model_module_version": "1.2.0",
     "model_name": "LayoutModel",
     "state": {
      "_model_module": "@jupyter-widgets/base",
      "_model_module_version": "1.2.0",
      "_model_name": "LayoutModel",
      "_view_count": null,
      "_view_module": "@jupyter-widgets/base",
      "_view_module_version": "1.2.0",
      "_view_name": "LayoutView",
      "align_content": null,
      "align_items": null,
      "align_self": null,
      "border": null,
      "bottom": null,
      "display": null,
      "flex": null,
      "flex_flow": null,
      "grid_area": null,
      "grid_auto_columns": null,
      "grid_auto_flow": null,
      "grid_auto_rows": null,
      "grid_column": null,
      "grid_gap": null,
      "grid_row": null,
      "grid_template_areas": null,
      "grid_template_columns": null,
      "grid_template_rows": null,
      "height": null,
      "justify_content": null,
      "justify_items": null,
      "left": null,
      "margin": null,
      "max_height": null,
      "max_width": null,
      "min_height": null,
      "min_width": null,
      "object_fit": null,
      "object_position": null,
      "order": null,
      "overflow": null,
      "overflow_x": null,
      "overflow_y": null,
      "padding": null,
      "right": null,
      "top": null,
      "visibility": null,
      "width": null
     }
    },
    "c24d1561275149198e5b132c4cf8f53c": {
     "model_module": "@jupyter-widgets/controls",
     "model_module_version": "1.5.0",
     "model_name": "HTMLModel",
     "state": {
      "_dom_classes": [],
      "_model_module": "@jupyter-widgets/controls",
      "_model_module_version": "1.5.0",
      "_model_name": "HTMLModel",
      "_view_count": null,
      "_view_module": "@jupyter-widgets/controls",
      "_view_module_version": "1.5.0",
      "_view_name": "HTMLView",
      "description": "",
      "description_tooltip": null,
      "layout": "IPY_MODEL_ad17a82ec6fe4df990487560d7b4de12",
      "placeholder": "​",
      "style": "IPY_MODEL_7f8ddc54c153427db563aaabcefea676",
      "value": " 1/1 [00:00&lt;00:00,  8.68it/s]"
     }
    },
    "d9de685d02f74f56857021c060cbfb07": {
     "model_module": "@jupyter-widgets/controls",
     "model_module_version": "1.5.0",
     "model_name": "HTMLModel",
     "state": {
      "_dom_classes": [],
      "_model_module": "@jupyter-widgets/controls",
      "_model_module_version": "1.5.0",
      "_model_name": "HTMLModel",
      "_view_count": null,
      "_view_module": "@jupyter-widgets/controls",
      "_view_module_version": "1.5.0",
      "_view_name": "HTMLView",
      "description": "",
      "description_tooltip": null,
      "layout": "IPY_MODEL_3252b09a40c9492db6280d57f2aded49",
      "placeholder": "​",
      "style": "IPY_MODEL_57693aa792674a86b27afb2fbf746be8",
      "value": "total_reward: 100%"
     }
    },
    "eed9884c4e2d40f8aa5b877b1d5fb8c2": {
     "model_module": "@jupyter-widgets/controls",
     "model_module_version": "1.5.0",
     "model_name": "HBoxModel",
     "state": {
      "_dom_classes": [],
      "_model_module": "@jupyter-widgets/controls",
      "_model_module_version": "1.5.0",
      "_model_name": "HBoxModel",
      "_view_count": null,
      "_view_module": "@jupyter-widgets/controls",
      "_view_module_version": "1.5.0",
      "_view_name": "HBoxView",
      "box_style": "",
      "children": [
       "IPY_MODEL_3839fadba05545289b7b15dd3dce7e8a",
       "IPY_MODEL_45833907a8ad4793a91beabfbc2baea7",
       "IPY_MODEL_c24d1561275149198e5b132c4cf8f53c"
      ],
      "layout": "IPY_MODEL_8b64a6407cee4e129b75d6387e889a09"
     }
    },
    "f79d50280b24484e93bc06d334bd005e": {
     "model_module": "@jupyter-widgets/base",
     "model_module_version": "1.2.0",
     "model_name": "LayoutModel",
     "state": {
      "_model_module": "@jupyter-widgets/base",
      "_model_module_version": "1.2.0",
      "_model_name": "LayoutModel",
      "_view_count": null,
      "_view_module": "@jupyter-widgets/base",
      "_view_module_version": "1.2.0",
      "_view_name": "LayoutView",
      "align_content": null,
      "align_items": null,
      "align_self": null,
      "border": null,
      "bottom": null,
      "display": null,
      "flex": null,
      "flex_flow": null,
      "grid_area": null,
      "grid_auto_columns": null,
      "grid_auto_flow": null,
      "grid_auto_rows": null,
      "grid_column": null,
      "grid_gap": null,
      "grid_row": null,
      "grid_template_areas": null,
      "grid_template_columns": null,
      "grid_template_rows": null,
      "height": null,
      "justify_content": null,
      "justify_items": null,
      "left": null,
      "margin": null,
      "max_height": null,
      "max_width": null,
      "min_height": null,
      "min_width": null,
      "object_fit": null,
      "object_position": null,
      "order": null,
      "overflow": null,
      "overflow_x": null,
      "overflow_y": null,
      "padding": null,
      "right": null,
      "top": null,
      "visibility": null,
      "width": null
     }
    },
    "ff8cf2dfa71c4d29881546e6c2d96fed": {
     "model_module": "@jupyter-widgets/controls",
     "model_module_version": "1.5.0",
     "model_name": "DescriptionStyleModel",
     "state": {
      "_model_module": "@jupyter-widgets/controls",
      "_model_module_version": "1.5.0",
      "_model_name": "DescriptionStyleModel",
      "_view_count": null,
      "_view_module": "@jupyter-widgets/base",
      "_view_module_version": "1.2.0",
      "_view_name": "StyleView",
      "description_width": ""
     }
    }
   }
  }
 },
 "nbformat": 4,
 "nbformat_minor": 0
}